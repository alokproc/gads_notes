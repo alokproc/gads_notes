{
 "cells": [
  {
   "cell_type": "markdown",
   "metadata": {
    "collapsed": true
   },
   "source": [
    "<img src=\"http://imgur.com/1ZcRyrc.png\" style=\"float: left; margin: 20px; height: 55px\">\n",
    "\n",
    "# Web Scraping\n",
    "\n",
    "_Author: Dave Yerrington (SF)_\n",
    "\n",
    "---"
   ]
  },
  {
   "cell_type": "markdown",
   "metadata": {},
   "source": [
    "## Before Class\n",
    "\n",
    "#### Install Selenium\n",
    "\n",
    "Selenium is a headless browser. It allows us to render JavaScript just as a human-navigated browser would.\n",
    "\n",
    "To install Selenium, use one of the following:\n",
    "- **Anaconda:** `conda install -c conda-forge selenium`\n",
    "- **pip:** `pip install selenium`\n",
    "\n",
    "\n",
    "#### Install GeckoDriver\n",
    "\n",
    "You will also need GeckoDriver (this assumes you are using Homebrew for Mac): \n",
    "\n",
    "- ```brew install geckodriver```\n",
    "\n",
    "#### Install Firefox\n",
    "\n",
    "Additionally, you will need to have downloaded the [Firefox browser](https://www.mozilla.org/en-US/firefox/new/?utm_source=google&utm_medium=cpc&utm_campaign=Firefox-Brand-US-GGL-Exact&utm_term=firefox&utm_content=A144_A203_A006336&gclid=Cj0KEQjwnPLKBRC-j7nt1b7OlZwBEiQAv8lMLJUyReT6cPzSYdmEA6uD3YDoieuuuusddgAU7XH6smEaAoje8P8HAQ&gclsrc=aw.ds) for the application in this lesson."
   ]
  },
  {
   "cell_type": "markdown",
   "metadata": {},
   "source": [
    "## Learning Objectives\n",
    "- Revisit how to locate elements on a webpage\n",
    "- Aquire unstructure data from the internet using Beautiful soup.\n",
    "- Discuss limitations associated with simple requests and urllib libraries\n",
    "- Introduce Selenium as a solution, and implement a scraper using selenium"
   ]
  },
  {
   "cell_type": "markdown",
   "metadata": {},
   "source": [
    "## Lesson Guide\n",
    "\n",
    "- [Introduction](#intro)\n",
    "- [Building a web scraper](#building-scraper)\n",
    "- [Retrieving data from the HTML page](#retrieving-data)\n",
    "    - [Retrieving the restaurant names](#retrieving-names)\n",
    "    - [Challenge: Retrieving the restaurant locations](#retrieving-locations)\n",
    "    - [Retrieving the restaurant prices](#retrieving-prices)\n",
    "    - [Retrieving the restaurant number of bookings](#retrieving-bookings)\n",
    "\n",
    "\n",
    "- [Introducting Selenium](#selenium)\n",
    "    - [Running JavaScript before scraping](#selenium-js)\n",
    "    - [Using regex to only get digits](#selenium-regex)\n",
    "    - [Challenge: Use Pandas to create a DataFrame of bookings](#challenge-pandas)\n",
    "    - [Auto-typing using Selenium](#selenium-typing)\n",
    "\n",
    "\n",
    "- [Summary](#summary)"
   ]
  },
  {
   "cell_type": "markdown",
   "metadata": {},
   "source": [
    "<a id=\"intro\"></a>\n",
    "## Introduction\n",
    "\n",
    "In this codealong lesson, we'll build a web scraper using urllib and BeautifulSoup. We will also explore how to use a headless browser called Selenium.\n",
    "\n",
    "We'll begin by scraping OpenTable's DC listings. We're interested in knowing the restaurant's **name, location, price, and how many people booked it today.**\n",
    "\n",
    "OpenTable provides all of this information on this given page: http://www.opentable.com/washington-dc-restaurant-listings\n",
    "\n",
    "Let's inspect the elements of this page to assure we can find each of the bits of information in which we're interested.\n",
    "\n",
    "---"
   ]
  },
  {
   "cell_type": "markdown",
   "metadata": {},
   "source": [
    "<a id=\"building-scraper\"></a>\n",
    "## Building a web scraper\n",
    "\n",
    "Now, let's build a web scraper for OpenTable using urllib and Beautiful Soup:"
   ]
  },
  {
   "cell_type": "code",
   "execution_count": 1,
   "metadata": {
    "ExecuteTime": {
     "end_time": "2019-10-11T15:27:49.877974Z",
     "start_time": "2019-10-11T15:27:49.628389Z"
    },
    "scrolled": false
   },
   "outputs": [],
   "source": [
    "# import our necessary first packages\n",
    "from bs4 import BeautifulSoup\n",
    "import requests"
   ]
  },
  {
   "cell_type": "code",
   "execution_count": 2,
   "metadata": {
    "ExecuteTime": {
     "end_time": "2019-10-11T15:29:01.618902Z",
     "start_time": "2019-10-11T15:29:00.865975Z"
    }
   },
   "outputs": [],
   "source": [
    "# set the url we want to visit\n",
    "url = \"http://www.opentable.com/washington-dc-restaurant-listings\"\n",
    "\n",
    "# visit that url, and grab the html of said page\n",
    "html = requests.get(url)"
   ]
  },
  {
   "cell_type": "markdown",
   "metadata": {},
   "source": [
    "At this point, what is in html?"
   ]
  },
  {
   "cell_type": "code",
   "execution_count": 8,
   "metadata": {
    "ExecuteTime": {
     "end_time": "2019-10-11T15:29:02.590599Z",
     "start_time": "2019-10-11T15:29:02.586319Z"
    }
   },
   "outputs": [
    {
     "data": {
      "text/plain": [
       "'           <!DOCTYPE html><html lang=\"en\"><head><meta charset=\"utf-8\"/><meta http-equiv=\"X-UA-Compatible\" content=\"IE=9; IE=8; IE=7; IE=EDGE\"/> <title>Restaurant Reservation Availability</title>    <meta  name=\"robots\" content=\"noindex,nofollow\" > </meta>     <link rel=\"shortcut icon\" href=\"//components.otstatic.com/components/favicon/1.0.6/favicon/favicon.ico\" type=\"image/x-icon\"/><link rel=\"icon\" href=\"//components.otstatic.com/components/favicon/1.0.6/favicon/favicon-16.png\" sizes=\"16x16\"/><l'"
      ]
     },
     "execution_count": 8,
     "metadata": {},
     "output_type": "execute_result"
    }
   ],
   "source": [
    "# .text returns the request content in Unicode\n",
    "html.text[:500]"
   ]
  },
  {
   "cell_type": "markdown",
   "metadata": {},
   "source": [
    "We will need to convert this html objct into a soup object so we can parse it using python and BS4"
   ]
  },
  {
   "cell_type": "code",
   "execution_count": 9,
   "metadata": {
    "ExecuteTime": {
     "end_time": "2019-10-11T15:29:04.028190Z",
     "start_time": "2019-10-11T15:29:03.829083Z"
    }
   },
   "outputs": [],
   "source": [
    "# convert this into a soup object\n",
    "soup = BeautifulSoup(html.text, 'html.parser')"
   ]
  },
  {
   "cell_type": "markdown",
   "metadata": {},
   "source": [
    "<a id=\"retrieving-data\"></a>\n",
    "### Retrieving data from the HTML page"
   ]
  },
  {
   "cell_type": "markdown",
   "metadata": {},
   "source": [
    "Let's first find each restaurant name listed on the page we've loaded. How do we find the page location of the restaurant? (Hint: We need to know where in the **HTML** the restaurant element is housed.) In order to find the HTML that renders the restaurant location, we can use Google Chrome's Inspect tool:\n",
    "\n",
    "> http://www.opentable.com/washington-dc-restaurant-listings\n",
    "\n",
    "> 1. Visit the URL above. \n",
    "\n",
    "> 2. Right-click on an element you are interested in, then choose Inspect (in Chrome). \n",
    "\n",
    "> 3. This will open the Developer Tools and show the HTML used to render the selected page element. \n",
    "\n",
    "> Throughout this lesson, we will use this method to find tags associated with elements of the page we want to scrape.\n",
    "\n",
    "See if you can find the restaurant name on the page. Keep in mind there are many restaurants loaded on the page."
   ]
  },
  {
   "cell_type": "code",
   "execution_count": 11,
   "metadata": {
    "ExecuteTime": {
     "end_time": "2019-10-11T15:31:02.828142Z",
     "start_time": "2019-10-11T15:31:02.792770Z"
    },
    "scrolled": true
   },
   "outputs": [
    {
     "data": {
      "text/plain": [
       "[<span class=\"rest-row-name-text\">Velit</span>,\n",
       " <span class=\"rest-row-name-text\">Natus</span>,\n",
       " <span class=\"rest-row-name-text\">Inlet</span>,\n",
       " <span class=\"rest-row-name-text\">Deserunt Lock</span>,\n",
       " <span class=\"rest-row-name-text\">Frami Drive</span>,\n",
       " <span class=\"rest-row-name-text\">Agloe Bar &amp; Grill</span>,\n",
       " <span class=\"rest-row-name-text\">Chloes</span>,\n",
       " <span class=\"rest-row-name-text\">Nikolaus</span>,\n",
       " <span class=\"rest-row-name-text\">Reinger Well</span>,\n",
       " <span class=\"rest-row-name-text\">Quae Summit</span>,\n",
       " <span class=\"rest-row-name-text\">532 Wuckert</span>,\n",
       " <span class=\"rest-row-name-text\">Knolls</span>,\n",
       " <span class=\"rest-row-name-text\">River</span>,\n",
       " <span class=\"rest-row-name-text\">Stokes Knolls</span>,\n",
       " <span class=\"rest-row-name-text\">Quia</span>,\n",
       " <span class=\"rest-row-name-text\">Necessitatibus Kautzer</span>,\n",
       " <span class=\"rest-row-name-text\">Beer Rapid</span>,\n",
       " <span class=\"rest-row-name-text\">Ut Kohler</span>,\n",
       " <span class=\"rest-row-name-text\">Islands</span>,\n",
       " <span class=\"rest-row-name-text\">Oleta Summit</span>,\n",
       " <span class=\"rest-row-name-text\">Qui Langosh</span>,\n",
       " <span class=\"rest-row-name-text\">Optio</span>,\n",
       " <span class=\"rest-row-name-text\">Aut Mountain</span>,\n",
       " <span class=\"rest-row-name-text\">Baileys</span>,\n",
       " <span class=\"rest-row-name-text\">Paucek Summit</span>,\n",
       " <span class=\"rest-row-name-text\">877 Douglas</span>,\n",
       " <span class=\"rest-row-name-text\">Alias</span>,\n",
       " <span class=\"rest-row-name-text\">Chelsie Cummerata</span>,\n",
       " <span class=\"rest-row-name-text\">Treutel Keys</span>,\n",
       " <span class=\"rest-row-name-text\">Non Haven</span>,\n",
       " <span class=\"rest-row-name-text\">Zoes</span>,\n",
       " <span class=\"rest-row-name-text\">Garden</span>,\n",
       " <span class=\"rest-row-name-text\">Necessitatibus Shores</span>,\n",
       " <span class=\"rest-row-name-text\">Wuckert Skyway</span>,\n",
       " <span class=\"rest-row-name-text\">Fritsch</span>,\n",
       " <span class=\"rest-row-name-text\">Melvina Plains</span>,\n",
       " <span class=\"rest-row-name-text\">Reiciendis Pfannerstill</span>,\n",
       " <span class=\"rest-row-name-text\">Markus Stream</span>,\n",
       " <span class=\"rest-row-name-text\">Howe Oval</span>,\n",
       " <span class=\"rest-row-name-text\">Verona Roads</span>,\n",
       " <span class=\"rest-row-name-text\">Parkway</span>,\n",
       " <span class=\"rest-row-name-text\">Quod</span>,\n",
       " <span class=\"rest-row-name-text\">1390 Walter</span>,\n",
       " <span class=\"rest-row-name-text\">Orlos</span>,\n",
       " <span class=\"rest-row-name-text\">Will Port</span>,\n",
       " <span class=\"rest-row-name-text\">Estates</span>,\n",
       " <span class=\"rest-row-name-text\">Newell Kreiger</span>,\n",
       " <span class=\"rest-row-name-text\">Sequi Hyatt</span>,\n",
       " <span class=\"rest-row-name-text\">484 Christiansen</span>,\n",
       " <span class=\"rest-row-name-text\">Murray</span>,\n",
       " <span class=\"rest-row-name-text\">Et Pine</span>,\n",
       " <span class=\"rest-row-name-text\">Daynas</span>,\n",
       " <span class=\"rest-row-name-text\">Wisozk</span>,\n",
       " <span class=\"rest-row-name-text\">Crist</span>,\n",
       " <span class=\"rest-row-name-text\">Jedidiahs</span>,\n",
       " <span class=\"rest-row-name-text\">Dena Witting</span>,\n",
       " <span class=\"rest-row-name-text\">50 Fadel</span>,\n",
       " <span class=\"rest-row-name-text\">Percival Mann</span>,\n",
       " <span class=\"rest-row-name-text\">Zieme Street</span>,\n",
       " <span class=\"rest-row-name-text\">33 Windler</span>,\n",
       " <span class=\"rest-row-name-text\">Perspiciatis Wolf</span>,\n",
       " <span class=\"rest-row-name-text\">75 McDermott</span>,\n",
       " <span class=\"rest-row-name-text\">Skyway</span>,\n",
       " <span class=\"rest-row-name-text\">Ethan Passage</span>,\n",
       " <span class=\"rest-row-name-text\">Minus</span>,\n",
       " <span class=\"rest-row-name-text\">Keara Corwin</span>,\n",
       " <span class=\"rest-row-name-text\">Officiis Glen</span>,\n",
       " <span class=\"rest-row-name-text\">Myrtie Courts</span>,\n",
       " <span class=\"rest-row-name-text\">Quis Mission</span>,\n",
       " <span class=\"rest-row-name-text\">Sit</span>,\n",
       " <span class=\"rest-row-name-text\">Mayert</span>,\n",
       " <span class=\"rest-row-name-text\">1472 Sporer</span>,\n",
       " <span class=\"rest-row-name-text\">817 Aufderhar</span>,\n",
       " <span class=\"rest-row-name-text\">Aut Rapids</span>,\n",
       " <span class=\"rest-row-name-text\">Kling</span>,\n",
       " <span class=\"rest-row-name-text\">Voluptate</span>,\n",
       " <span class=\"rest-row-name-text\">Gutmann Port</span>,\n",
       " <span class=\"rest-row-name-text\">Dangelos</span>,\n",
       " <span class=\"rest-row-name-text\">White</span>,\n",
       " <span class=\"rest-row-name-text\">Et Walsh</span>,\n",
       " <span class=\"rest-row-name-text\">Consequuntur</span>,\n",
       " <span class=\"rest-row-name-text\">Squares</span>,\n",
       " <span class=\"rest-row-name-text\">Maxime</span>,\n",
       " <span class=\"rest-row-name-text\">Angel Roberts</span>,\n",
       " <span class=\"rest-row-name-text\">Et Bahringer</span>,\n",
       " <span class=\"rest-row-name-text\">Hoeger</span>,\n",
       " <span class=\"rest-row-name-text\">Stamm</span>,\n",
       " <span class=\"rest-row-name-text\">Pasquales</span>,\n",
       " <span class=\"rest-row-name-text\">Nihil Cove</span>,\n",
       " <span class=\"rest-row-name-text\">Reichel</span>,\n",
       " <span class=\"rest-row-name-text\">Stroman</span>,\n",
       " <span class=\"rest-row-name-text\">404 Rogahn</span>,\n",
       " <span class=\"rest-row-name-text\">Iliana Oberbrunner</span>,\n",
       " <span class=\"rest-row-name-text\">Brannon Stehr</span>,\n",
       " <span class=\"rest-row-name-text\">Mayer</span>,\n",
       " <span class=\"rest-row-name-text\">Ea Kovacek</span>,\n",
       " <span class=\"rest-row-name-text\">Elijah Hessel</span>,\n",
       " <span class=\"rest-row-name-text\">Schoen Highway</span>,\n",
       " <span class=\"rest-row-name-text\">447 Gulgowski</span>,\n",
       " <span class=\"rest-row-name-text\">Iusto Village</span>]"
      ]
     },
     "execution_count": 11,
     "metadata": {},
     "output_type": "execute_result"
    }
   ],
   "source": [
    "# print the restaurant names\n",
    "soup.find_all(name='span', attrs={'class':'rest-row-name-text'})"
   ]
  },
  {
   "cell_type": "markdown",
   "metadata": {},
   "source": [
    "It is important to always keep in mind the data types that were returned. Note this is a `list`, and we know that immediately by observing the outer square brackets and commas separating each tag.\n",
    "\n",
    "Next, note the elements of the list are `Tag` objects, not strings. (If they were strings, they would be surrounded by quotes.) The Beautiful Soup authors chose to display a `Tag` object visually as a text representation of the tag and its contents. However, being an object, it has many methods that we can call on it. For example, next we will use the `encode_contents()` method to return the tag's contents encoded as a Python string.\n",
    "\n",
    "<a id=\"retrieving-names\"></a>\n",
    "#### Retrieving the restaurant names\n",
    "\n",
    "Now that we found a list of tags containing the restaurant names, let's think how we can loop through them all one-by-one. In the following cell, we'll print out the name (and **only** the clean name, not the rest of the html) of each restaurant."
   ]
  },
  {
   "cell_type": "code",
   "execution_count": 12,
   "metadata": {
    "ExecuteTime": {
     "end_time": "2019-10-11T15:31:04.907429Z",
     "start_time": "2019-10-11T15:31:04.869093Z"
    }
   },
   "outputs": [
    {
     "name": "stdout",
     "output_type": "stream",
     "text": [
      "Velit\n",
      "Natus\n",
      "Inlet\n",
      "Deserunt Lock\n",
      "Frami Drive\n",
      "Agloe Bar & Grill\n",
      "Chloes\n",
      "Nikolaus\n",
      "Reinger Well\n",
      "Quae Summit\n",
      "532 Wuckert\n",
      "Knolls\n",
      "River\n",
      "Stokes Knolls\n",
      "Quia\n",
      "Necessitatibus Kautzer\n",
      "Beer Rapid\n",
      "Ut Kohler\n",
      "Islands\n",
      "Oleta Summit\n",
      "Qui Langosh\n",
      "Optio\n",
      "Aut Mountain\n",
      "Baileys\n",
      "Paucek Summit\n",
      "877 Douglas\n",
      "Alias\n",
      "Chelsie Cummerata\n",
      "Treutel Keys\n",
      "Non Haven\n",
      "Zoes\n",
      "Garden\n",
      "Necessitatibus Shores\n",
      "Wuckert Skyway\n",
      "Fritsch\n",
      "Melvina Plains\n",
      "Reiciendis Pfannerstill\n",
      "Markus Stream\n",
      "Howe Oval\n",
      "Verona Roads\n",
      "Parkway\n",
      "Quod\n",
      "1390 Walter\n",
      "Orlos\n",
      "Will Port\n",
      "Estates\n",
      "Newell Kreiger\n",
      "Sequi Hyatt\n",
      "484 Christiansen\n",
      "Murray\n",
      "Et Pine\n",
      "Daynas\n",
      "Wisozk\n",
      "Crist\n",
      "Jedidiahs\n",
      "Dena Witting\n",
      "50 Fadel\n",
      "Percival Mann\n",
      "Zieme Street\n",
      "33 Windler\n",
      "Perspiciatis Wolf\n",
      "75 McDermott\n",
      "Skyway\n",
      "Ethan Passage\n",
      "Minus\n",
      "Keara Corwin\n",
      "Officiis Glen\n",
      "Myrtie Courts\n",
      "Quis Mission\n",
      "Sit\n",
      "Mayert\n",
      "1472 Sporer\n",
      "817 Aufderhar\n",
      "Aut Rapids\n",
      "Kling\n",
      "Voluptate\n",
      "Gutmann Port\n",
      "Dangelos\n",
      "White\n",
      "Et Walsh\n",
      "Consequuntur\n",
      "Squares\n",
      "Maxime\n",
      "Angel Roberts\n",
      "Et Bahringer\n",
      "Hoeger\n",
      "Stamm\n",
      "Pasquales\n",
      "Nihil Cove\n",
      "Reichel\n",
      "Stroman\n",
      "404 Rogahn\n",
      "Iliana Oberbrunner\n",
      "Brannon Stehr\n",
      "Mayer\n",
      "Ea Kovacek\n",
      "Elijah Hessel\n",
      "Schoen Highway\n",
      "447 Gulgowski\n",
      "Iusto Village\n"
     ]
    }
   ],
   "source": [
    "# for each element you find, print out the restaurant name\n",
    "for entry in soup.find_all(name='span', attrs={'class':'rest-row-name-text'}):\n",
    "    print(entry.text)"
   ]
  },
  {
   "cell_type": "markdown",
   "metadata": {},
   "source": [
    "Great!\n",
    "\n",
    "<a id=\"retrieving-locations\"></a>\n",
    "#### Challenge: Retrieving the restaurant locations\n",
    "\n",
    "Can you repeat that process for finding the location? For example, barmini by Jose Andres is in the location listed as \"Penn Quarter\" in our search results."
   ]
  },
  {
   "cell_type": "code",
   "execution_count": 13,
   "metadata": {
    "ExecuteTime": {
     "end_time": "2019-10-11T15:31:06.404121Z",
     "start_time": "2019-10-11T15:31:06.370930Z"
    }
   },
   "outputs": [
    {
     "data": {
      "text/plain": [
       "[<span class=\"rest-row-meta--location rest-row-meta-text\">Paulchester</span>,\n",
       " <span class=\"rest-row-meta--location rest-row-meta-text\">Kristianhaven</span>,\n",
       " <span class=\"rest-row-meta--location rest-row-meta-text\">West Mathias</span>,\n",
       " <span class=\"rest-row-meta--location rest-row-meta-text\">New Stephanymouth</span>,\n",
       " <span class=\"rest-row-meta--location rest-row-meta-text\">Port Jeffery</span>,\n",
       " <span class=\"rest-row-meta--location rest-row-meta-text\">North Tillmanside</span>,\n",
       " <span class=\"rest-row-meta--location rest-row-meta-text\">Kennedibury</span>,\n",
       " <span class=\"rest-row-meta--location rest-row-meta-text\">Wizaborough</span>,\n",
       " <span class=\"rest-row-meta--location rest-row-meta-text\">New Douglas</span>,\n",
       " <span class=\"rest-row-meta--location rest-row-meta-text\">West Emil</span>,\n",
       " <span class=\"rest-row-meta--location rest-row-meta-text\">North Maymiebury</span>,\n",
       " <span class=\"rest-row-meta--location rest-row-meta-text\">Lake Jaylen</span>,\n",
       " <span class=\"rest-row-meta--location rest-row-meta-text\">Rennerborough</span>,\n",
       " <span class=\"rest-row-meta--location rest-row-meta-text\">West Zackery</span>,\n",
       " <span class=\"rest-row-meta--location rest-row-meta-text\">Angelineport</span>,\n",
       " <span class=\"rest-row-meta--location rest-row-meta-text\">Ivoryshire</span>,\n",
       " <span class=\"rest-row-meta--location rest-row-meta-text\">Kuvaliston</span>,\n",
       " <span class=\"rest-row-meta--location rest-row-meta-text\">Deliastad</span>,\n",
       " <span class=\"rest-row-meta--location rest-row-meta-text\">South Robynberg</span>,\n",
       " <span class=\"rest-row-meta--location rest-row-meta-text\">Rodrigobury</span>,\n",
       " <span class=\"rest-row-meta--location rest-row-meta-text\">Corkerytown</span>,\n",
       " <span class=\"rest-row-meta--location rest-row-meta-text\">North Chaz</span>,\n",
       " <span class=\"rest-row-meta--location rest-row-meta-text\">Torphyland</span>,\n",
       " <span class=\"rest-row-meta--location rest-row-meta-text\">Jacintofort</span>,\n",
       " <span class=\"rest-row-meta--location rest-row-meta-text\">Mohammedville</span>,\n",
       " <span class=\"rest-row-meta--location rest-row-meta-text\">Beierview</span>,\n",
       " <span class=\"rest-row-meta--location rest-row-meta-text\">Gradyfurt</span>,\n",
       " <span class=\"rest-row-meta--location rest-row-meta-text\">Alfmouth</span>,\n",
       " <span class=\"rest-row-meta--location rest-row-meta-text\">Port Verlie</span>,\n",
       " <span class=\"rest-row-meta--location rest-row-meta-text\">Lake Clinton</span>,\n",
       " <span class=\"rest-row-meta--location rest-row-meta-text\">Travisborough</span>,\n",
       " <span class=\"rest-row-meta--location rest-row-meta-text\">South Mariana</span>,\n",
       " <span class=\"rest-row-meta--location rest-row-meta-text\">Metachester</span>,\n",
       " <span class=\"rest-row-meta--location rest-row-meta-text\">Fritzhaven</span>,\n",
       " <span class=\"rest-row-meta--location rest-row-meta-text\">Rempelland</span>,\n",
       " <span class=\"rest-row-meta--location rest-row-meta-text\">Koeppland</span>,\n",
       " <span class=\"rest-row-meta--location rest-row-meta-text\">North Caleigh</span>,\n",
       " <span class=\"rest-row-meta--location rest-row-meta-text\">Dibbertville</span>,\n",
       " <span class=\"rest-row-meta--location rest-row-meta-text\">Lefflerton</span>,\n",
       " <span class=\"rest-row-meta--location rest-row-meta-text\">Nicoletteshire</span>,\n",
       " <span class=\"rest-row-meta--location rest-row-meta-text\">Bauchbury</span>,\n",
       " <span class=\"rest-row-meta--location rest-row-meta-text\">Blickside</span>,\n",
       " <span class=\"rest-row-meta--location rest-row-meta-text\">South Irma</span>,\n",
       " <span class=\"rest-row-meta--location rest-row-meta-text\">East Vantown</span>,\n",
       " <span class=\"rest-row-meta--location rest-row-meta-text\">Port Ivahshire</span>,\n",
       " <span class=\"rest-row-meta--location rest-row-meta-text\">East Cademouth</span>,\n",
       " <span class=\"rest-row-meta--location rest-row-meta-text\">Saigeside</span>,\n",
       " <span class=\"rest-row-meta--location rest-row-meta-text\">Reynoldsborough</span>,\n",
       " <span class=\"rest-row-meta--location rest-row-meta-text\">Faymouth</span>,\n",
       " <span class=\"rest-row-meta--location rest-row-meta-text\">Rossiechester</span>,\n",
       " <span class=\"rest-row-meta--location rest-row-meta-text\">New Fleta</span>,\n",
       " <span class=\"rest-row-meta--location rest-row-meta-text\">Spinkaview</span>,\n",
       " <span class=\"rest-row-meta--location rest-row-meta-text\">North Nathan</span>,\n",
       " <span class=\"rest-row-meta--location rest-row-meta-text\">West Deondre</span>,\n",
       " <span class=\"rest-row-meta--location rest-row-meta-text\">North Raphaelleville</span>,\n",
       " <span class=\"rest-row-meta--location rest-row-meta-text\">Kristophershire</span>,\n",
       " <span class=\"rest-row-meta--location rest-row-meta-text\">Khalidmouth</span>,\n",
       " <span class=\"rest-row-meta--location rest-row-meta-text\">New Joyview</span>,\n",
       " <span class=\"rest-row-meta--location rest-row-meta-text\">Beckertown</span>,\n",
       " <span class=\"rest-row-meta--location rest-row-meta-text\">Port Osvaldo</span>,\n",
       " <span class=\"rest-row-meta--location rest-row-meta-text\">West Delilah</span>,\n",
       " <span class=\"rest-row-meta--location rest-row-meta-text\">Glovermouth</span>,\n",
       " <span class=\"rest-row-meta--location rest-row-meta-text\">Haagfurt</span>,\n",
       " <span class=\"rest-row-meta--location rest-row-meta-text\">South Sherwood</span>,\n",
       " <span class=\"rest-row-meta--location rest-row-meta-text\">New Erica</span>,\n",
       " <span class=\"rest-row-meta--location rest-row-meta-text\">Rossieview</span>,\n",
       " <span class=\"rest-row-meta--location rest-row-meta-text\">Lake Averyfort</span>,\n",
       " <span class=\"rest-row-meta--location rest-row-meta-text\">Lake Wernerville</span>,\n",
       " <span class=\"rest-row-meta--location rest-row-meta-text\">Julienton</span>,\n",
       " <span class=\"rest-row-meta--location rest-row-meta-text\">Dickinsonhaven</span>,\n",
       " <span class=\"rest-row-meta--location rest-row-meta-text\">North Timmy</span>,\n",
       " <span class=\"rest-row-meta--location rest-row-meta-text\">Williamberg</span>,\n",
       " <span class=\"rest-row-meta--location rest-row-meta-text\">North Leone</span>,\n",
       " <span class=\"rest-row-meta--location rest-row-meta-text\">Port Eriberto</span>,\n",
       " <span class=\"rest-row-meta--location rest-row-meta-text\">Lindbury</span>,\n",
       " <span class=\"rest-row-meta--location rest-row-meta-text\">Baumbachtown</span>,\n",
       " <span class=\"rest-row-meta--location rest-row-meta-text\">Turcotteberg</span>,\n",
       " <span class=\"rest-row-meta--location rest-row-meta-text\">Stephanieburgh</span>,\n",
       " <span class=\"rest-row-meta--location rest-row-meta-text\">New Eddland</span>,\n",
       " <span class=\"rest-row-meta--location rest-row-meta-text\">North Jedediahshire</span>,\n",
       " <span class=\"rest-row-meta--location rest-row-meta-text\">Jaunitaview</span>,\n",
       " <span class=\"rest-row-meta--location rest-row-meta-text\">Lake Ryley</span>,\n",
       " <span class=\"rest-row-meta--location rest-row-meta-text\">South Ashleymouth</span>,\n",
       " <span class=\"rest-row-meta--location rest-row-meta-text\">South Ansleyton</span>,\n",
       " <span class=\"rest-row-meta--location rest-row-meta-text\">Terryfurt</span>,\n",
       " <span class=\"rest-row-meta--location rest-row-meta-text\">East Aida</span>,\n",
       " <span class=\"rest-row-meta--location rest-row-meta-text\">Lake Oralbury</span>,\n",
       " <span class=\"rest-row-meta--location rest-row-meta-text\">South Rodrigoborough</span>,\n",
       " <span class=\"rest-row-meta--location rest-row-meta-text\">Elliottton</span>,\n",
       " <span class=\"rest-row-meta--location rest-row-meta-text\">West Beatrice</span>,\n",
       " <span class=\"rest-row-meta--location rest-row-meta-text\">Port Kennaport</span>,\n",
       " <span class=\"rest-row-meta--location rest-row-meta-text\">South Eladiohaven</span>,\n",
       " <span class=\"rest-row-meta--location rest-row-meta-text\">South Jermain</span>,\n",
       " <span class=\"rest-row-meta--location rest-row-meta-text\">South Jarvis</span>,\n",
       " <span class=\"rest-row-meta--location rest-row-meta-text\">Port Brandyn</span>,\n",
       " <span class=\"rest-row-meta--location rest-row-meta-text\">East Miller</span>,\n",
       " <span class=\"rest-row-meta--location rest-row-meta-text\">Forrestport</span>,\n",
       " <span class=\"rest-row-meta--location rest-row-meta-text\">Stephanhaven</span>,\n",
       " <span class=\"rest-row-meta--location rest-row-meta-text\">Lake Hiltonport</span>,\n",
       " <span class=\"rest-row-meta--location rest-row-meta-text\">New Vivienne</span>]"
      ]
     },
     "execution_count": 13,
     "metadata": {},
     "output_type": "execute_result"
    }
   ],
   "source": [
    "# first, see if you can identify the location for all elements -- print it out\n",
    "soup.find_all('span', {'class':'rest-row-meta--location rest-row-meta-text'})"
   ]
  },
  {
   "cell_type": "code",
   "execution_count": 9,
   "metadata": {
    "ExecuteTime": {
     "end_time": "2019-10-11T15:25:41.251661Z",
     "start_time": "2019-10-11T15:25:41.213685Z"
    }
   },
   "outputs": [
    {
     "name": "stdout",
     "output_type": "stream",
     "text": [
      "Eugeniaview\n",
      "MacGyverbury\n",
      "New Gianniland\n",
      "New Humbertoview\n",
      "Alessandraside\n",
      "Nienowmouth\n",
      "New Shyannland\n",
      "Jarenport\n",
      "South Titoview\n",
      "Patrickbury\n",
      "West Aryanna\n",
      "East Guy\n",
      "Port Tiannashire\n",
      "Patienceland\n",
      "West Marcelle\n",
      "Alexhaven\n",
      "East Dayanaland\n",
      "West Aprilland\n",
      "North Maeveside\n",
      "Lake Jackson\n",
      "Marceloport\n",
      "North Wilson\n",
      "Tristianfort\n",
      "Flossieburgh\n",
      "Berniceville\n",
      "Thoraborough\n",
      "Howellview\n",
      "Blandafurt\n",
      "Shaniatown\n",
      "Stantonville\n",
      "Velmabury\n",
      "Brayanhaven\n",
      "Oletaton\n",
      "Port Derick\n",
      "Simoniston\n",
      "Port Raven\n",
      "Port Charles\n",
      "Schimmeltown\n",
      "Rohanshire\n",
      "Lindsayhaven\n",
      "New Aurelie\n",
      "Swiftborough\n",
      "South Ola\n",
      "Lefflerport\n",
      "Hackettstad\n",
      "South Billy\n",
      "Gorczanyburgh\n",
      "Finntown\n",
      "North Ara\n",
      "East Mossiemouth\n",
      "Pfannerstilltown\n",
      "Lake Benedictland\n",
      "Amosborough\n",
      "Port Kaelynmouth\n",
      "New Reymundoberg\n",
      "New Loren\n",
      "Herzogchester\n",
      "New Trisha\n",
      "Kayberg\n",
      "Port Jovanichester\n",
      "New Citlalli\n",
      "Nashville\n",
      "Ryanfurt\n",
      "Clarabelleberg\n",
      "Lake Dallas\n",
      "Port Wendell\n",
      "East Ezequielview\n",
      "West Christy\n",
      "O'Connerview\n",
      "Turcotteside\n",
      "Oriestad\n",
      "Port Parisside\n",
      "Kennediberg\n",
      "Kemmermouth\n",
      "Elenaberg\n",
      "West Jaqueline\n",
      "Port Helmer\n",
      "Adelletown\n",
      "West Autumn\n",
      "Morarton\n",
      "Ryanfort\n",
      "Theronville\n",
      "Kovacekhaven\n",
      "North Ramon\n",
      "East Robb\n",
      "West Rickville\n",
      "Julianaville\n",
      "South Bradyfort\n",
      "Port Jazminside\n",
      "North Marleeville\n",
      "East Euna\n",
      "Lake Woodrow\n",
      "Hettieland\n",
      "Ervinchester\n",
      "Lake Jayceville\n",
      "Stokesfurt\n",
      "Lake Saul\n",
      "Gleichnerberg\n",
      "Gaychester\n",
      "South Ludwig\n"
     ]
    }
   ],
   "source": [
    "# now print out EACH location for the restaurants\n",
    "for entry in soup.find_all('span', {'class':'rest-row-meta--location rest-row-meta-text'}):\n",
    "    print(entry.text)"
   ]
  },
  {
   "cell_type": "markdown",
   "metadata": {},
   "source": [
    "<a id=\"retrieving-prices\"></a>\n",
    "#### Retrieving the restaurant prices"
   ]
  },
  {
   "cell_type": "markdown",
   "metadata": {},
   "source": [
    "Ok, we've figured out the restaurant name and location. Now we need to grab the price (number of dollar signs on a scale of one to four) for each restaurant. We'll follow the same process."
   ]
  },
  {
   "cell_type": "code",
   "execution_count": 14,
   "metadata": {
    "ExecuteTime": {
     "end_time": "2019-10-11T15:31:14.075989Z",
     "start_time": "2019-10-11T15:31:14.033966Z"
    },
    "scrolled": true
   },
   "outputs": [
    {
     "data": {
      "text/plain": [
       "[<div class=\"rest-row-pricing\"> <i class=\"pricing--the-price\">  $    $    $    $  </i> <span class=\"pricing--not-the-price\"> </span></div>,\n",
       " <div class=\"rest-row-pricing\"> <i class=\"pricing--the-price\">  $    $      </i> <span class=\"pricing--not-the-price\">  $    $      </span></div>,\n",
       " <div class=\"rest-row-pricing\"> <i class=\"pricing--the-price\">  $    $    $    </i> <span class=\"pricing--not-the-price\">  $        </span></div>,\n",
       " <div class=\"rest-row-pricing\"> <i class=\"pricing--the-price\">  $    $    $    $  </i> <span class=\"pricing--not-the-price\"> </span></div>,\n",
       " <div class=\"rest-row-pricing\"> <i class=\"pricing--the-price\">  $    $    $    $  </i> <span class=\"pricing--not-the-price\"> </span></div>,\n",
       " <div class=\"rest-row-pricing\"> <i class=\"pricing--the-price\">  $    $      </i> <span class=\"pricing--not-the-price\">  $    $      </span></div>,\n",
       " <div class=\"rest-row-pricing\"> <i class=\"pricing--the-price\">  $    $    $    </i> <span class=\"pricing--not-the-price\">  $        </span></div>,\n",
       " <div class=\"rest-row-pricing\"> <i class=\"pricing--the-price\">  $    $    $    $  </i> <span class=\"pricing--not-the-price\"> </span></div>,\n",
       " <div class=\"rest-row-pricing\"> <i class=\"pricing--the-price\">  $    $    $    $  </i> <span class=\"pricing--not-the-price\"> </span></div>,\n",
       " <div class=\"rest-row-pricing\"> <i class=\"pricing--the-price\">  $    $    $    </i> <span class=\"pricing--not-the-price\">  $        </span></div>,\n",
       " <div class=\"rest-row-pricing\"> <i class=\"pricing--the-price\">  $    $    $    </i> <span class=\"pricing--not-the-price\">  $        </span></div>,\n",
       " <div class=\"rest-row-pricing\"> <i class=\"pricing--the-price\">  $    $    $    </i> <span class=\"pricing--not-the-price\">  $        </span></div>,\n",
       " <div class=\"rest-row-pricing\"> <i class=\"pricing--the-price\">  $    $      </i> <span class=\"pricing--not-the-price\">  $    $      </span></div>,\n",
       " <div class=\"rest-row-pricing\"> <i class=\"pricing--the-price\">  $    $    $    </i> <span class=\"pricing--not-the-price\">  $        </span></div>,\n",
       " <div class=\"rest-row-pricing\"> <i class=\"pricing--the-price\">  $    $    $    $  </i> <span class=\"pricing--not-the-price\"> </span></div>,\n",
       " <div class=\"rest-row-pricing\"> <i class=\"pricing--the-price\">  $    $      </i> <span class=\"pricing--not-the-price\">  $    $      </span></div>,\n",
       " <div class=\"rest-row-pricing\"> <i class=\"pricing--the-price\">  $    $      </i> <span class=\"pricing--not-the-price\">  $    $      </span></div>,\n",
       " <div class=\"rest-row-pricing\"> <i class=\"pricing--the-price\">  $    $      </i> <span class=\"pricing--not-the-price\">  $    $      </span></div>,\n",
       " <div class=\"rest-row-pricing\"> <i class=\"pricing--the-price\">  $    $      </i> <span class=\"pricing--not-the-price\">  $    $      </span></div>,\n",
       " <div class=\"rest-row-pricing\"> <i class=\"pricing--the-price\">  $    $      </i> <span class=\"pricing--not-the-price\">  $    $      </span></div>,\n",
       " <div class=\"rest-row-pricing\"> <i class=\"pricing--the-price\">  $    $    $    </i> <span class=\"pricing--not-the-price\">  $        </span></div>,\n",
       " <div class=\"rest-row-pricing\"> <i class=\"pricing--the-price\">  $    $      </i> <span class=\"pricing--not-the-price\">  $    $      </span></div>,\n",
       " <div class=\"rest-row-pricing\"> <i class=\"pricing--the-price\">  $    $    $    $  </i> <span class=\"pricing--not-the-price\"> </span></div>,\n",
       " <div class=\"rest-row-pricing\"> <i class=\"pricing--the-price\">  $    $    $    </i> <span class=\"pricing--not-the-price\">  $        </span></div>,\n",
       " <div class=\"rest-row-pricing\"> <i class=\"pricing--the-price\">  $    $    $    </i> <span class=\"pricing--not-the-price\">  $        </span></div>,\n",
       " <div class=\"rest-row-pricing\"> <i class=\"pricing--the-price\">  $    $      </i> <span class=\"pricing--not-the-price\">  $    $      </span></div>,\n",
       " <div class=\"rest-row-pricing\"> <i class=\"pricing--the-price\">  $    $    $    $  </i> <span class=\"pricing--not-the-price\"> </span></div>,\n",
       " <div class=\"rest-row-pricing\"> <i class=\"pricing--the-price\">  $    $      </i> <span class=\"pricing--not-the-price\">  $    $      </span></div>,\n",
       " <div class=\"rest-row-pricing\"> <i class=\"pricing--the-price\">  $    $    $    $  </i> <span class=\"pricing--not-the-price\"> </span></div>,\n",
       " <div class=\"rest-row-pricing\"> <i class=\"pricing--the-price\">  $    $    $    $  </i> <span class=\"pricing--not-the-price\"> </span></div>,\n",
       " <div class=\"rest-row-pricing\"> <i class=\"pricing--the-price\">  $    $    $    </i> <span class=\"pricing--not-the-price\">  $        </span></div>,\n",
       " <div class=\"rest-row-pricing\"> <i class=\"pricing--the-price\">  $    $      </i> <span class=\"pricing--not-the-price\">  $    $      </span></div>,\n",
       " <div class=\"rest-row-pricing\"> <i class=\"pricing--the-price\">  $    $    $    </i> <span class=\"pricing--not-the-price\">  $        </span></div>,\n",
       " <div class=\"rest-row-pricing\"> <i class=\"pricing--the-price\">  $    $      </i> <span class=\"pricing--not-the-price\">  $    $      </span></div>,\n",
       " <div class=\"rest-row-pricing\"> <i class=\"pricing--the-price\">  $    $      </i> <span class=\"pricing--not-the-price\">  $    $      </span></div>,\n",
       " <div class=\"rest-row-pricing\"> <i class=\"pricing--the-price\">  $    $    $    </i> <span class=\"pricing--not-the-price\">  $        </span></div>,\n",
       " <div class=\"rest-row-pricing\"> <i class=\"pricing--the-price\">  $    $    $    $  </i> <span class=\"pricing--not-the-price\"> </span></div>,\n",
       " <div class=\"rest-row-pricing\"> <i class=\"pricing--the-price\">  $    $    $    $  </i> <span class=\"pricing--not-the-price\"> </span></div>,\n",
       " <div class=\"rest-row-pricing\"> <i class=\"pricing--the-price\">  $    $      </i> <span class=\"pricing--not-the-price\">  $    $      </span></div>,\n",
       " <div class=\"rest-row-pricing\"> <i class=\"pricing--the-price\">  $    $    $    </i> <span class=\"pricing--not-the-price\">  $        </span></div>,\n",
       " <div class=\"rest-row-pricing\"> <i class=\"pricing--the-price\">  $    $      </i> <span class=\"pricing--not-the-price\">  $    $      </span></div>,\n",
       " <div class=\"rest-row-pricing\"> <i class=\"pricing--the-price\">  $    $      </i> <span class=\"pricing--not-the-price\">  $    $      </span></div>,\n",
       " <div class=\"rest-row-pricing\"> <i class=\"pricing--the-price\">  $    $    $    $  </i> <span class=\"pricing--not-the-price\"> </span></div>,\n",
       " <div class=\"rest-row-pricing\"> <i class=\"pricing--the-price\">  $    $    $    </i> <span class=\"pricing--not-the-price\">  $        </span></div>,\n",
       " <div class=\"rest-row-pricing\"> <i class=\"pricing--the-price\">  $    $      </i> <span class=\"pricing--not-the-price\">  $    $      </span></div>,\n",
       " <div class=\"rest-row-pricing\"> <i class=\"pricing--the-price\">  $    $    $    $  </i> <span class=\"pricing--not-the-price\"> </span></div>,\n",
       " <div class=\"rest-row-pricing\"> <i class=\"pricing--the-price\">  $    $    $    $  </i> <span class=\"pricing--not-the-price\"> </span></div>,\n",
       " <div class=\"rest-row-pricing\"> <i class=\"pricing--the-price\">  $    $    $    </i> <span class=\"pricing--not-the-price\">  $        </span></div>,\n",
       " <div class=\"rest-row-pricing\"> <i class=\"pricing--the-price\">  $    $    $    </i> <span class=\"pricing--not-the-price\">  $        </span></div>,\n",
       " <div class=\"rest-row-pricing\"> <i class=\"pricing--the-price\">  $    $    $    </i> <span class=\"pricing--not-the-price\">  $        </span></div>,\n",
       " <div class=\"rest-row-pricing\"> <i class=\"pricing--the-price\">  $    $    $    </i> <span class=\"pricing--not-the-price\">  $        </span></div>,\n",
       " <div class=\"rest-row-pricing\"> <i class=\"pricing--the-price\">  $    $      </i> <span class=\"pricing--not-the-price\">  $    $      </span></div>,\n",
       " <div class=\"rest-row-pricing\"> <i class=\"pricing--the-price\">  $    $    $    $  </i> <span class=\"pricing--not-the-price\"> </span></div>,\n",
       " <div class=\"rest-row-pricing\"> <i class=\"pricing--the-price\">  $    $    $    </i> <span class=\"pricing--not-the-price\">  $        </span></div>,\n",
       " <div class=\"rest-row-pricing\"> <i class=\"pricing--the-price\">  $    $    $    $  </i> <span class=\"pricing--not-the-price\"> </span></div>,\n",
       " <div class=\"rest-row-pricing\"> <i class=\"pricing--the-price\">  $    $      </i> <span class=\"pricing--not-the-price\">  $    $      </span></div>,\n",
       " <div class=\"rest-row-pricing\"> <i class=\"pricing--the-price\">  $    $    $    $  </i> <span class=\"pricing--not-the-price\"> </span></div>,\n",
       " <div class=\"rest-row-pricing\"> <i class=\"pricing--the-price\">  $    $      </i> <span class=\"pricing--not-the-price\">  $    $      </span></div>,\n",
       " <div class=\"rest-row-pricing\"> <i class=\"pricing--the-price\">  $    $      </i> <span class=\"pricing--not-the-price\">  $    $      </span></div>,\n",
       " <div class=\"rest-row-pricing\"> <i class=\"pricing--the-price\">  $    $    $    $  </i> <span class=\"pricing--not-the-price\"> </span></div>,\n",
       " <div class=\"rest-row-pricing\"> <i class=\"pricing--the-price\">  $    $    $    </i> <span class=\"pricing--not-the-price\">  $        </span></div>,\n",
       " <div class=\"rest-row-pricing\"> <i class=\"pricing--the-price\">  $    $      </i> <span class=\"pricing--not-the-price\">  $    $      </span></div>,\n",
       " <div class=\"rest-row-pricing\"> <i class=\"pricing--the-price\">  $    $    $    $  </i> <span class=\"pricing--not-the-price\"> </span></div>,\n",
       " <div class=\"rest-row-pricing\"> <i class=\"pricing--the-price\">  $    $    $    $  </i> <span class=\"pricing--not-the-price\"> </span></div>,\n",
       " <div class=\"rest-row-pricing\"> <i class=\"pricing--the-price\">  $    $      </i> <span class=\"pricing--not-the-price\">  $    $      </span></div>,\n",
       " <div class=\"rest-row-pricing\"> <i class=\"pricing--the-price\">  $    $    $    $  </i> <span class=\"pricing--not-the-price\"> </span></div>,\n",
       " <div class=\"rest-row-pricing\"> <i class=\"pricing--the-price\">  $    $      </i> <span class=\"pricing--not-the-price\">  $    $      </span></div>,\n",
       " <div class=\"rest-row-pricing\"> <i class=\"pricing--the-price\">  $    $    $    </i> <span class=\"pricing--not-the-price\">  $        </span></div>,\n",
       " <div class=\"rest-row-pricing\"> <i class=\"pricing--the-price\">  $    $    $    $  </i> <span class=\"pricing--not-the-price\"> </span></div>,\n",
       " <div class=\"rest-row-pricing\"> <i class=\"pricing--the-price\">  $    $    $    </i> <span class=\"pricing--not-the-price\">  $        </span></div>,\n",
       " <div class=\"rest-row-pricing\"> <i class=\"pricing--the-price\">  $    $      </i> <span class=\"pricing--not-the-price\">  $    $      </span></div>,\n",
       " <div class=\"rest-row-pricing\"> <i class=\"pricing--the-price\">  $    $    $    </i> <span class=\"pricing--not-the-price\">  $        </span></div>,\n",
       " <div class=\"rest-row-pricing\"> <i class=\"pricing--the-price\">  $    $      </i> <span class=\"pricing--not-the-price\">  $    $      </span></div>,\n",
       " <div class=\"rest-row-pricing\"> <i class=\"pricing--the-price\">  $    $      </i> <span class=\"pricing--not-the-price\">  $    $      </span></div>,\n",
       " <div class=\"rest-row-pricing\"> <i class=\"pricing--the-price\">  $    $    $    $  </i> <span class=\"pricing--not-the-price\"> </span></div>,\n",
       " <div class=\"rest-row-pricing\"> <i class=\"pricing--the-price\">  $    $    $    </i> <span class=\"pricing--not-the-price\">  $        </span></div>,\n",
       " <div class=\"rest-row-pricing\"> <i class=\"pricing--the-price\">  $    $    $    $  </i> <span class=\"pricing--not-the-price\"> </span></div>,\n",
       " <div class=\"rest-row-pricing\"> <i class=\"pricing--the-price\">  $    $      </i> <span class=\"pricing--not-the-price\">  $    $      </span></div>,\n",
       " <div class=\"rest-row-pricing\"> <i class=\"pricing--the-price\">  $    $    $    </i> <span class=\"pricing--not-the-price\">  $        </span></div>,\n",
       " <div class=\"rest-row-pricing\"> <i class=\"pricing--the-price\">  $    $    $    $  </i> <span class=\"pricing--not-the-price\"> </span></div>,\n",
       " <div class=\"rest-row-pricing\"> <i class=\"pricing--the-price\">  $    $    $    $  </i> <span class=\"pricing--not-the-price\"> </span></div>,\n",
       " <div class=\"rest-row-pricing\"> <i class=\"pricing--the-price\">  $    $    $    $  </i> <span class=\"pricing--not-the-price\"> </span></div>,\n",
       " <div class=\"rest-row-pricing\"> <i class=\"pricing--the-price\">  $    $      </i> <span class=\"pricing--not-the-price\">  $    $      </span></div>,\n",
       " <div class=\"rest-row-pricing\"> <i class=\"pricing--the-price\">  $    $      </i> <span class=\"pricing--not-the-price\">  $    $      </span></div>,\n",
       " <div class=\"rest-row-pricing\"> <i class=\"pricing--the-price\">  $    $      </i> <span class=\"pricing--not-the-price\">  $    $      </span></div>,\n",
       " <div class=\"rest-row-pricing\"> <i class=\"pricing--the-price\">  $    $      </i> <span class=\"pricing--not-the-price\">  $    $      </span></div>,\n",
       " <div class=\"rest-row-pricing\"> <i class=\"pricing--the-price\">  $    $    $    </i> <span class=\"pricing--not-the-price\">  $        </span></div>,\n",
       " <div class=\"rest-row-pricing\"> <i class=\"pricing--the-price\">  $    $      </i> <span class=\"pricing--not-the-price\">  $    $      </span></div>,\n",
       " <div class=\"rest-row-pricing\"> <i class=\"pricing--the-price\">  $    $    $    </i> <span class=\"pricing--not-the-price\">  $        </span></div>,\n",
       " <div class=\"rest-row-pricing\"> <i class=\"pricing--the-price\">  $    $    $    </i> <span class=\"pricing--not-the-price\">  $        </span></div>,\n",
       " <div class=\"rest-row-pricing\"> <i class=\"pricing--the-price\">  $    $    $    </i> <span class=\"pricing--not-the-price\">  $        </span></div>,\n",
       " <div class=\"rest-row-pricing\"> <i class=\"pricing--the-price\">  $    $      </i> <span class=\"pricing--not-the-price\">  $    $      </span></div>,\n",
       " <div class=\"rest-row-pricing\"> <i class=\"pricing--the-price\">  $    $      </i> <span class=\"pricing--not-the-price\">  $    $      </span></div>,\n",
       " <div class=\"rest-row-pricing\"> <i class=\"pricing--the-price\">  $    $      </i> <span class=\"pricing--not-the-price\">  $    $      </span></div>,\n",
       " <div class=\"rest-row-pricing\"> <i class=\"pricing--the-price\">  $    $    $    $  </i> <span class=\"pricing--not-the-price\"> </span></div>,\n",
       " <div class=\"rest-row-pricing\"> <i class=\"pricing--the-price\">  $    $    $    $  </i> <span class=\"pricing--not-the-price\"> </span></div>,\n",
       " <div class=\"rest-row-pricing\"> <i class=\"pricing--the-price\">  $    $      </i> <span class=\"pricing--not-the-price\">  $    $      </span></div>,\n",
       " <div class=\"rest-row-pricing\"> <i class=\"pricing--the-price\">  $    $    $    $  </i> <span class=\"pricing--not-the-price\"> </span></div>,\n",
       " <div class=\"rest-row-pricing\"> <i class=\"pricing--the-price\">  $    $      </i> <span class=\"pricing--not-the-price\">  $    $      </span></div>,\n",
       " <div class=\"rest-row-pricing\"> <i class=\"pricing--the-price\">  $    $      </i> <span class=\"pricing--not-the-price\">  $    $      </span></div>]"
      ]
     },
     "execution_count": 14,
     "metadata": {},
     "output_type": "execute_result"
    }
   ],
   "source": [
    "# print out all prices\n",
    "soup.find_all('div', {'class':'rest-row-pricing'})"
   ]
  },
  {
   "cell_type": "code",
   "execution_count": 15,
   "metadata": {
    "ExecuteTime": {
     "end_time": "2019-10-11T15:31:32.871126Z",
     "start_time": "2019-10-11T15:31:32.825305Z"
    }
   },
   "outputs": [
    {
     "name": "stdout",
     "output_type": "stream",
     "text": [
      "  $    $    $    $  \n",
      "  $    $      \n",
      "  $    $    $    \n",
      "  $    $    $    $  \n",
      "  $    $    $    $  \n",
      "  $    $      \n",
      "  $    $    $    \n",
      "  $    $    $    $  \n",
      "  $    $    $    $  \n",
      "  $    $    $    \n",
      "  $    $    $    \n",
      "  $    $    $    \n",
      "  $    $      \n",
      "  $    $    $    \n",
      "  $    $    $    $  \n",
      "  $    $      \n",
      "  $    $      \n",
      "  $    $      \n",
      "  $    $      \n",
      "  $    $      \n",
      "  $    $    $    \n",
      "  $    $      \n",
      "  $    $    $    $  \n",
      "  $    $    $    \n",
      "  $    $    $    \n",
      "  $    $      \n",
      "  $    $    $    $  \n",
      "  $    $      \n",
      "  $    $    $    $  \n",
      "  $    $    $    $  \n",
      "  $    $    $    \n",
      "  $    $      \n",
      "  $    $    $    \n",
      "  $    $      \n",
      "  $    $      \n",
      "  $    $    $    \n",
      "  $    $    $    $  \n",
      "  $    $    $    $  \n",
      "  $    $      \n",
      "  $    $    $    \n",
      "  $    $      \n",
      "  $    $      \n",
      "  $    $    $    $  \n",
      "  $    $    $    \n",
      "  $    $      \n",
      "  $    $    $    $  \n",
      "  $    $    $    $  \n",
      "  $    $    $    \n",
      "  $    $    $    \n",
      "  $    $    $    \n",
      "  $    $    $    \n",
      "  $    $      \n",
      "  $    $    $    $  \n",
      "  $    $    $    \n",
      "  $    $    $    $  \n",
      "  $    $      \n",
      "  $    $    $    $  \n",
      "  $    $      \n",
      "  $    $      \n",
      "  $    $    $    $  \n",
      "  $    $    $    \n",
      "  $    $      \n",
      "  $    $    $    $  \n",
      "  $    $    $    $  \n",
      "  $    $      \n",
      "  $    $    $    $  \n",
      "  $    $      \n",
      "  $    $    $    \n",
      "  $    $    $    $  \n",
      "  $    $    $    \n",
      "  $    $      \n",
      "  $    $    $    \n",
      "  $    $      \n",
      "  $    $      \n",
      "  $    $    $    $  \n",
      "  $    $    $    \n",
      "  $    $    $    $  \n",
      "  $    $      \n",
      "  $    $    $    \n",
      "  $    $    $    $  \n",
      "  $    $    $    $  \n",
      "  $    $    $    $  \n",
      "  $    $      \n",
      "  $    $      \n",
      "  $    $      \n",
      "  $    $      \n",
      "  $    $    $    \n",
      "  $    $      \n",
      "  $    $    $    \n",
      "  $    $    $    \n",
      "  $    $    $    \n",
      "  $    $      \n",
      "  $    $      \n",
      "  $    $      \n",
      "  $    $    $    $  \n",
      "  $    $    $    $  \n",
      "  $    $      \n",
      "  $    $    $    $  \n",
      "  $    $      \n",
      "  $    $      \n"
     ]
    }
   ],
   "source": [
    "# print out EACH number of dollar signs per restaurant\n",
    "# this one is trickier to eliminate the html. Hint: try a nested find\n",
    "for entry in soup.find_all('div', {'class':'rest-row-pricing'}):\n",
    "    print(entry.find('i').text)"
   ]
  },
  {
   "cell_type": "markdown",
   "metadata": {},
   "source": [
    "That looks great, but what if I wanted just the number of dollar signs per restaurant? Can you figure out a way to simply print out the number of dollar signs per restaurant listed?"
   ]
  },
  {
   "cell_type": "code",
   "execution_count": 16,
   "metadata": {
    "ExecuteTime": {
     "end_time": "2019-10-11T15:31:39.217597Z",
     "start_time": "2019-10-11T15:31:39.169621Z"
    }
   },
   "outputs": [
    {
     "name": "stdout",
     "output_type": "stream",
     "text": [
      "4\n",
      "2\n",
      "3\n",
      "4\n",
      "4\n",
      "2\n",
      "3\n",
      "4\n",
      "4\n",
      "3\n",
      "3\n",
      "3\n",
      "2\n",
      "3\n",
      "4\n",
      "2\n",
      "2\n",
      "2\n",
      "2\n",
      "2\n",
      "3\n",
      "2\n",
      "4\n",
      "3\n",
      "3\n",
      "2\n",
      "4\n",
      "2\n",
      "4\n",
      "4\n",
      "3\n",
      "2\n",
      "3\n",
      "2\n",
      "2\n",
      "3\n",
      "4\n",
      "4\n",
      "2\n",
      "3\n",
      "2\n",
      "2\n",
      "4\n",
      "3\n",
      "2\n",
      "4\n",
      "4\n",
      "3\n",
      "3\n",
      "3\n",
      "3\n",
      "2\n",
      "4\n",
      "3\n",
      "4\n",
      "2\n",
      "4\n",
      "2\n",
      "2\n",
      "4\n",
      "3\n",
      "2\n",
      "4\n",
      "4\n",
      "2\n",
      "4\n",
      "2\n",
      "3\n",
      "4\n",
      "3\n",
      "2\n",
      "3\n",
      "2\n",
      "2\n",
      "4\n",
      "3\n",
      "4\n",
      "2\n",
      "3\n",
      "4\n",
      "4\n",
      "4\n",
      "2\n",
      "2\n",
      "2\n",
      "2\n",
      "3\n",
      "2\n",
      "3\n",
      "3\n",
      "3\n",
      "2\n",
      "2\n",
      "2\n",
      "4\n",
      "4\n",
      "2\n",
      "4\n",
      "2\n",
      "2\n"
     ]
    }
   ],
   "source": [
    "# print the number of dollars signs per restaurant\n",
    "for entry in soup.find_all('div', {'class':'rest-row-pricing'}):\n",
    "    price = entry.find('i').text\n",
    "    print(price.count('$'))"
   ]
  },
  {
   "cell_type": "markdown",
   "metadata": {},
   "source": [
    "Phew, nice work. \n",
    "\n",
    "<a id=\"retrieving-bookings\"></a>\n",
    "#### Retrieving the restaurant number of bookings\n",
    "\n",
    "One more, right? We only need to find the number times a restaurant was booked. In the next cell, print out all objects that contain the number of times the restaurant was booked."
   ]
  },
  {
   "cell_type": "code",
   "execution_count": 17,
   "metadata": {
    "ExecuteTime": {
     "end_time": "2019-10-11T15:31:55.239697Z",
     "start_time": "2019-10-11T15:31:55.203894Z"
    }
   },
   "outputs": [
    {
     "data": {
      "text/plain": [
       "[]"
      ]
     },
     "execution_count": 17,
     "metadata": {},
     "output_type": "execute_result"
    }
   ],
   "source": [
    "# print out all objects that contain the number of times the restaurant was booked\n",
    "soup.find_all('div', {'class':'booking'})"
   ]
  },
  {
   "cell_type": "markdown",
   "metadata": {},
   "source": [
    "That's weird -- an empty set. Did we find the wrong element? What's going on here? Discuss.\n",
    "\n",
    "How can we debug this? Any ideas?"
   ]
  },
  {
   "cell_type": "code",
   "execution_count": null,
   "metadata": {
    "ExecuteTime": {
     "end_time": "2019-10-11T15:32:21.763504Z",
     "start_time": "2019-10-11T15:32:20.778968Z"
    }
   },
   "outputs": [],
   "source": [
    "# let's first try printing out all 'div' objects\n",
    "#  NOTE: This is a too many objects to store in this notebook!\n",
    "#        So, uncomment the code below to run it.\n",
    "\n",
    "for entry in soup.find_all('div'):\n",
    "    print(entry)"
   ]
  },
  {
   "cell_type": "markdown",
   "metadata": {},
   "source": [
    "I still don't see it. Let's search our entire soup object:"
   ]
  },
  {
   "cell_type": "code",
   "execution_count": null,
   "metadata": {
    "ExecuteTime": {
     "end_time": "2019-10-11T15:32:41.146548Z",
     "start_time": "2019-10-11T15:32:40.662120Z"
    }
   },
   "outputs": [],
   "source": [
    "# print out soup, do command+f for \"booked \". \n",
    "#   Uncomment the below to run.\n",
    "\n",
    "soup"
   ]
  },
  {
   "cell_type": "markdown",
   "metadata": {},
   "source": [
    "What do you notice? Why is this happening?"
   ]
  },
  {
   "cell_type": "code",
   "execution_count": 23,
   "metadata": {
    "ExecuteTime": {
     "end_time": "2019-10-11T15:33:15.060380Z",
     "start_time": "2019-10-11T15:33:13.088900Z"
    }
   },
   "outputs": [],
   "source": [
    "html =  requests.get('https://santabarbara.craigslist.org/d/apts-housing-for-rent/search/apa')\n",
    "soup_cl = BeautifulSoup(html.text, 'html.parser')"
   ]
  },
  {
   "cell_type": "code",
   "execution_count": 24,
   "metadata": {
    "ExecuteTime": {
     "end_time": "2019-10-11T15:33:15.753105Z",
     "start_time": "2019-10-11T15:33:15.717750Z"
    }
   },
   "outputs": [
    {
     "data": {
      "text/plain": [
       "[{'title': 'QUIET SINGLE STORY HOME HIDDEN AMONG OAKS AND REDWOODS**MUS**',\n",
       "  'price': '$6500'},\n",
       " {'title': 'Private, Free Standing Guest House for Rent (AVAILABLE IMMEDIATELY)',\n",
       "  'price': '$2100'},\n",
       " {'title': 'COMING SOON! Work Play Stay- Loaded Cottage', 'price': '$1750'},\n",
       " {'title': '1 bedroom in 3bedroom house', 'price': '$1100'},\n",
       " {'title': 'Furnished studio/(small one bedroom) apartment available',\n",
       "  'price': '$1550'},\n",
       " {'title': '1 1/2 ba Beautiful, newer 2 story townhouse', 'price': '$3050'},\n",
       " {'title': '+++++++Spacious, newly renovated 1 bedroom', 'price': '$1000'},\n",
       " {'title': 'مركزي.+ Cozy 1 bed + 1 bath apartment', 'price': '$1150'},\n",
       " {'title': 'MN Nice Guy Needs A Home', 'price': '$1500'},\n",
       " {'title': 'Gorgeous Summerland Views!  Remodeled Kitchen & Bathroom!!!',\n",
       "  'price': '$1750'},\n",
       " {'title': '**Detached Cottage Studio with Loft! Util included and furnished',\n",
       "  'price': '$1195'},\n",
       " {'title': 'Best Deal in Ventura------2-Bed Apt   $1,700', 'price': '$1700'},\n",
       " {'title': 'Nice 1 bedroom apt available Nov.1', 'price': '$1600'},\n",
       " {'title': '2 Bd/ 1 Ba on 12 private acres with mountain views',\n",
       "  'price': '$2500'},\n",
       " {'title': 'Large 2 bedroom with hardwood floors', 'price': '$2800'},\n",
       " {'title': 'One bedroom apartment with high ceilings', 'price': '$2000'},\n",
       " {'title': 'Downtown 1 bedroom, utilities included', 'price': '$2300'},\n",
       " {'title': '1 Bed - 1 Bath, Come see your Future Home!', 'price': '$2690'},\n",
       " {'title': '2 Bed - 2 Bath, Only One Unit Left for October , Get a Tour  Today!',\n",
       "  'price': '$3225'},\n",
       " {'title': '1 Brm. San Roque / Samarkand', 'price': '$1890'},\n",
       " {'title': 'All New Renovations 2 BR/1BA Duplex', 'price': '$2700'},\n",
       " {'title': 'Fully Furnished Goleta One Bedroom Apartment', 'price': '$1850'},\n",
       " {'title': 'Fully Furnished City View Home', 'price': '$6500'},\n",
       " {'title': 'Unique single room available', 'price': '$1000'},\n",
       " {'title': 'Pet lovers rejoice!!! We love doggos!', 'price': '$3595'},\n",
       " {'title': '3ba - Mountain View School District', 'price': '$5000'},\n",
       " {'title': 'SUMMERLAND FURNISHED VIEW AND REMODELED', 'price': '$5900'},\n",
       " {'title': 'Beautiful two bedroom home in the Santa Barbara foothills',\n",
       "  'price': '$3750'},\n",
       " {'title': 'East Ventura Fully-furnished Upstairs 2-bedroom unit',\n",
       "  'price': '$1800'},\n",
       " {'title': 'House for Rent', 'price': '$4200'},\n",
       " {'title': 'Beautifully renovated 2BD/2BA condo in wonderful Downtown location',\n",
       "  'price': '$3150'},\n",
       " {'title': 'Adorable Unit ~ Ideal location! ~ Act fast as this unit will not last!',\n",
       "  'price': '$3100'},\n",
       " {'title': '1 Bed - 1 Bath, Great Kitchen For Thanksgiving Dinner,Only 1 Unit Left',\n",
       "  'price': '$2625'},\n",
       " {'title': '312 West Cypress', 'price': '$1800'},\n",
       " {'title': 'Live pool side and in luxury! Call this your home today!',\n",
       "  'price': '$4485'},\n",
       " {'title': 'One bedroom home in the Santa Barbara Hills', 'price': '$2850'},\n",
       " {'title': 'Call this your home today! Walk-in closet, balcony, alexa & more',\n",
       "  'price': '$4500'},\n",
       " {'title': 'SouthSide home', 'price': '$1800'},\n",
       " {'title': 'Montecito unfurnished studio near the beach', 'price': '$1950'},\n",
       " {'title': 'Room for Rent, Heart of Downtown.', 'price': '$1165'},\n",
       " {'title': 'Downtown House next to Sunken Gardens', 'price': '$3900'},\n",
       " {'title': '617 West Ocean #B', 'price': '$1200'},\n",
       " {'title': 'Beautifully Furnished Family/Pool Home', 'price': '$4950'},\n",
       " {'title': 'Renovated sunny and spacious 1 bedroom townhouse style apartment',\n",
       "  'price': '$1795'},\n",
       " {'title': 'Toro Canyon View Home 4 bed/2bath with Pool', 'price': '$6500'},\n",
       " {'title': 'Spactacular 4 bedroom home', 'price': '$4500'},\n",
       " {'title': 'HOME SWEET HOME MONTECITO LARGE 1 BR GUEST HOUSE FOR SERENE LIFESTYLE',\n",
       "  'price': '$2200'},\n",
       " {'title': 'Oakhills townhouse in Lompoc', 'price': '$2150'},\n",
       " {'title': '[Wanted] 2.5 Bedroom or 1.5 Bedroom ($1900 - $3000 /month)',\n",
       "  'price': '$1900'},\n",
       " {'title': 'NEED STUDIO/APARTMENT', 'price': '$1200'},\n",
       " {'title': 'a charming 3  bedroom 2 bath home for rent nt', 'price': '$1100'},\n",
       " {'title': 'Top Floor Studio with Ocean and Island Views on the Mesa',\n",
       "  'price': '$1800'},\n",
       " {'title': '1 Bdrm Cottage Totally Renovated. large pvt yd. DOG OK!Great location',\n",
       "  'price': '$2395'},\n",
       " {'title': 'Luxury living at the Marc!', 'price': '$3595'},\n",
       " {'title': '2/1 House - Near downtown- washer dryer hk ups - WATCH VIDEO',\n",
       "  'price': '$2350'},\n",
       " {'title': 'Kellogg 4 bedroom home with spacious yard', 'price': '$4500'},\n",
       " {'title': 'Updated Mesa 4 bedroom home', 'price': '$5000'},\n",
       " {'title': '1 Bed - 1 Bath, Third Floor Views!!!', 'price': '$2600'},\n",
       " {'title': 'Large 3Bd/1ba Apt $2950/mo', 'price': '$2950'},\n",
       " {'title': 'Just-renovated one bedroom condominium with fabulous views!',\n",
       "  'price': '$2100'},\n",
       " {'title': '3 Bedroom 2.5 Bath Townhouse 4045-D Approx. Mid Nov',\n",
       "  'price': '$3550'},\n",
       " {'title': 'LARGE COTTAGE DUPLEX', 'price': '$2250'},\n",
       " {'title': 'Upper East Guest Cottage', 'price': '$3950'},\n",
       " {'title': 'S.B. Riviera Ocean View Studio, All Utils Paid, Mo to Mo, Avail Now!',\n",
       "  'price': '$1795'},\n",
       " {'title': 'Ocean View Apartment by the Beach', 'price': '$2500'},\n",
       " {'title': 'Amazing Views of the Ocean and Santa Barbara', 'price': '$3600'},\n",
       " {'title': 'Downtown 2 Bedroom/1 Bath Available Now (Beautiful Unit)',\n",
       "  'price': '$2995'},\n",
       " {'title': 'Beautiful Rental in Downtown Santa Barbara 2 Bedroom/1 Bath',\n",
       "  'price': '$2995'},\n",
       " {'title': '2Bedroom/1Bath Remodeled Upstairs Flat in Downtown Santa Barbara',\n",
       "  'price': '$2995'},\n",
       " {'title': '2 Bedroom / 1 Bath Upstairs Flat in Downtown Santa Barbara',\n",
       "  'price': '$2995'},\n",
       " {'title': 'A PRIVATE GARDEN - DOWNTOWN LIVING', 'price': '$3950'},\n",
       " {'title': 'Santa Barbara 1BR Next to Cottage Hospital', 'price': '$2195'},\n",
       " {'title': '1 Bed - 1 Bath, 24 Hour Fitness Center and POOL!',\n",
       "  'price': '$2690'},\n",
       " {'title': 'Spacious 2BR/1BA close to Alice Keck Park!', 'price': '$2495'},\n",
       " {'title': 'Large 4bd House with dual master plus 1bd/1.5bth detached guest unit',\n",
       "  'price': '$8000'},\n",
       " {'title': 'Santa Barbara Townhome', 'price': '$2600'},\n",
       " {'title': 'Beautiful two bedroom unit in a well located duplex',\n",
       "  'price': '$2600'},\n",
       " {'title': '4 Bedroom Montecito Home (MUS Attendance)', 'price': '$5200'},\n",
       " {'title': \"$1000 Off First Month's Rent - Beautifully Remodeled 4bd/2bth Downtown\",\n",
       "  'price': '$5495'},\n",
       " {'title': 'PRICE REDUCED - Downtown 2bd Apartment', 'price': '$2500'},\n",
       " {'title': 'Beautiful Mountain Views, rooftop garden, and much more!!!!!',\n",
       "  'price': '$3595'},\n",
       " {'title': 'House in Solvang near Downtown 3 Bedroom / 2 Bathroom',\n",
       "  'price': '$2100'},\n",
       " {'title': 'Beautiful, spacious 4 bed, 2 bath house with private yard, fruit trees',\n",
       "  'price': '$4350'},\n",
       " {'title': 'BEST OCEAN VIEWS IN SB~~~OCEAN VIEWS PATIO~~REMODELED ~~COVERED PARKIN',\n",
       "  'price': '$2600'},\n",
       " {'title': '1 Bed - 1 Bath, Welcome The Holiday Season In Your New Apt.',\n",
       "  'price': '$2690'},\n",
       " {'title': 'Montecito Guest Cottage', 'price': '$2500'},\n",
       " {'title': 'Fully & partially furnished options, Rooftop ping pong, Pet friendly',\n",
       "  'price': '$999'},\n",
       " {'title': 'Stainless steel appliances, Free high speed interent, Pet friendly',\n",
       "  'price': '$900'},\n",
       " {'title': 'Studio + Bd Rm + Pool, Lrg Enclosd Private Porch & Sm Priv Yard',\n",
       "  'price': '$1625'},\n",
       " {'title': '2 Bedroom Near Downtown', 'price': '$2195'},\n",
       " {'title': 'Couple looking for a studio/apt 1200', 'price': '$1200'},\n",
       " {'title': 'Carpinteria', 'price': '$2375'},\n",
       " {'title': 'Upscale 4 Bedroom 2 Bath home on quiet street, Private Backyard',\n",
       "  'price': '$3950'},\n",
       " {'title': 'Share Great Home. You Get Master Bedroom & Bath plus many amenities.',\n",
       "  'price': '$1300'},\n",
       " {'title': 'San Roque Studio', 'price': '$1650'},\n",
       " {'title': 'Cute and Spacious 3 Bedroom in Goleta', 'price': '$3195'},\n",
       " {'title': 'Spacious Apartment Near SB Bowl', 'price': '$1950'},\n",
       " {'title': 'Lovely 4 beds 3 baths 2,357 sqft single-level home',\n",
       "  'price': '$3000'},\n",
       " {'title': 'Spacious 1 Bedroom Apartment Near SB Bowl', 'price': '$1950'},\n",
       " {'title': 'Spacious Apartment Near SB Bowl', 'price': '$1995'},\n",
       " {'title': 'Fully Furnished Efficiency Studio', 'price': '$2353'},\n",
       " {'title': 'Studio apartment   $1190monthly or nitely $39. $550room shared bath r',\n",
       "  'price': '$1190'},\n",
       " {'title': 'Large 1 Bedroom with Balcony', 'price': '$1850'},\n",
       " {'title': '2 Bedroom in Carpinteria', 'price': '$2245'},\n",
       " {'title': '1 Bed - 1 Bath, We LOVE Furry Friends!', 'price': '$2740'},\n",
       " {'title': '2 Bedroom Apartment in Carpinteria', 'price': '$2025'},\n",
       " {'title': 'Upstairs 1 Bedroom Apartment Near La Cumbre', 'price': '$1795'},\n",
       " {'title': 'Cute 1 Bedroom in Uptown Neighborhood', 'price': '$1750'},\n",
       " {'title': 'Spacious 1 Bedroom in Downtown Location', 'price': '$1795'},\n",
       " {'title': 'Spacious 1 Bedroom Near Cottage', 'price': '$1995'},\n",
       " {'title': 'Apartment in 55+ Living Community', 'price': '$2495'},\n",
       " {'title': '55+ Living Community 1 Bedroom Apartment', 'price': '$1995'},\n",
       " {'title': '1 Bedroom Near SB Mission', 'price': '$1995'},\n",
       " {'title': '1 Bedroom Near SB Mission', 'price': '$1995'},\n",
       " {'title': 'Upstairs 2 Bedroom in Downtown Location', 'price': '$2395'},\n",
       " {'title': '1 Bedroom in Excellent Downtown Location', 'price': '$1995'},\n",
       " {'title': 'Private California Cottage Style Ranch', 'price': '$6500'},\n",
       " {'title': 'ELEGANT CRAFTSMANSHIP-AIR-CONDITIONED-HIKE THE RIVIERA/WALK TO TOWN',\n",
       "  'price': '$2575'},\n",
       " {'title': 'Lovely two bedroom appartment on the Mesa', 'price': '$2600'},\n",
       " {'title': '2 Bedroom Near SB Bowl', 'price': '$2500'}]"
      ]
     },
     "execution_count": 24,
     "metadata": {},
     "output_type": "execute_result"
    }
   ],
   "source": [
    "results = soup_cl.find_all('p', attrs={'class': 'result-info'})\n",
    "listings = []\n",
    "for result in results:\n",
    "    result_dict = {}\n",
    "    result_dict['title'] = result.find('a').text\n",
    "    result_dict['price'] = result.find('span', attrs={'class': 'result-price'}).text\n",
    "    listings.append(result_dict)\n",
    "\n",
    "listings"
   ]
  },
  {
   "cell_type": "markdown",
   "metadata": {},
   "source": [
    "<a id=\"selenium\"></a>\n",
    "## Introducing Selenium\n",
    "\n",
    "Selenium is a headless browser. It allows us to render JavaScript just as a human-navigated browser would.\n",
    "\n",
    "To install Selenium, use one of the following:\n",
    "- **Anaconda:** `conda install -c conda-forge selenium`\n",
    "- **pip:** `pip install selenium`\n",
    "\n",
    "You will also need GeckoDriver (this assumes you are using Homebrew for Mac): \n",
    "\n",
    "- ```brew install geckodriver```\n",
    "\n",
    "Additionally, you will need to have downloaded the [Firefox browser](https://www.mozilla.org/en-US/firefox/new/?utm_source=google&utm_medium=cpc&utm_campaign=Firefox-Brand-US-GGL-Exact&utm_term=firefox&utm_content=A144_A203_A006336&gclid=Cj0KEQjwnPLKBRC-j7nt1b7OlZwBEiQAv8lMLJUyReT6cPzSYdmEA6uD3YDoieuuuusddgAU7XH6smEaAoje8P8HAQ&gclsrc=aw.ds) for the application in this lesson."
   ]
  },
  {
   "cell_type": "code",
   "execution_count": 25,
   "metadata": {
    "ExecuteTime": {
     "end_time": "2019-10-11T15:33:34.205160Z",
     "start_time": "2019-10-11T15:33:34.159502Z"
    }
   },
   "outputs": [],
   "source": [
    "# import\n",
    "from selenium import webdriver"
   ]
  },
  {
   "cell_type": "markdown",
   "metadata": {},
   "source": [
    "Selenium requires us to determine a default browser to run. I'm going to opt for Firefox, but Chromium is also a very common choice. http://selenium-python.readthedocs.io/faq.html"
   ]
  },
  {
   "cell_type": "code",
   "execution_count": 35,
   "metadata": {
    "collapsed": true
   },
   "outputs": [],
   "source": [
    "# STOP\n",
    "# what is going to happen when I run the next cell?"
   ]
  },
  {
   "cell_type": "code",
   "execution_count": 29,
   "metadata": {
    "ExecuteTime": {
     "end_time": "2019-10-11T15:34:59.031825Z",
     "start_time": "2019-10-11T15:34:56.743931Z"
    }
   },
   "outputs": [],
   "source": [
    "# create a driver called Chrome\n",
    "driver = webdriver.Chrome(executable_path=\"./practice/chromedriver/chromedriver\")"
   ]
  },
  {
   "cell_type": "markdown",
   "metadata": {},
   "source": [
    "Pretty crazy, right? Let's close that driver."
   ]
  },
  {
   "cell_type": "code",
   "execution_count": 30,
   "metadata": {
    "ExecuteTime": {
     "end_time": "2019-10-11T15:35:05.672844Z",
     "start_time": "2019-10-11T15:35:05.534830Z"
    }
   },
   "outputs": [],
   "source": [
    "# close it\n",
    "driver.close()"
   ]
  },
  {
   "cell_type": "code",
   "execution_count": 31,
   "metadata": {
    "ExecuteTime": {
     "end_time": "2019-10-11T15:35:24.041612Z",
     "start_time": "2019-10-11T15:35:21.076095Z"
    }
   },
   "outputs": [],
   "source": [
    "# let's boot it up, and visit a URL of our choice\n",
    "driver = webdriver.Chrome(executable_path=\"./practice/chromedriver/chromedriver\")\n",
    "driver.get(\"http://www.python.org\")"
   ]
  },
  {
   "cell_type": "code",
   "execution_count": 32,
   "metadata": {
    "ExecuteTime": {
     "end_time": "2019-10-11T15:35:30.156053Z",
     "start_time": "2019-10-11T15:35:30.019077Z"
    }
   },
   "outputs": [],
   "source": [
    "driver.close()"
   ]
  },
  {
   "cell_type": "markdown",
   "metadata": {},
   "source": [
    "Awesome. Now we're getting somewhere: programmatically controlling our browser like a human."
   ]
  },
  {
   "cell_type": "markdown",
   "metadata": {},
   "source": [
    "Let's return to our problem at hand. We need to visit the OpenTable listing for DC. Once there, we need to get the html to load. In the next cell, prove you can programmatically visit the page."
   ]
  },
  {
   "cell_type": "code",
   "execution_count": 33,
   "metadata": {
    "ExecuteTime": {
     "end_time": "2019-10-11T15:35:47.808627Z",
     "start_time": "2019-10-11T15:35:40.472607Z"
    }
   },
   "outputs": [],
   "source": [
    "# visit our OpenTable page\n",
    "driver = webdriver.Chrome(executable_path=\"./practice/chromedriver/chromedriver\")\n",
    "driver.get(\"http://www.opentable.com/washington-dc-restaurant-listings\")\n",
    "\n",
    "# always good to check we've got the page we think we do\n",
    "assert \"OpenTable\" in driver.title"
   ]
  },
  {
   "cell_type": "code",
   "execution_count": 34,
   "metadata": {
    "ExecuteTime": {
     "end_time": "2019-10-11T15:36:25.979427Z",
     "start_time": "2019-10-11T15:36:25.971610Z"
    }
   },
   "outputs": [
    {
     "data": {
      "text/plain": [
       "'Washington, D.C. Area Restaurants List | OpenTable'"
      ]
     },
     "execution_count": 34,
     "metadata": {},
     "output_type": "execute_result"
    }
   ],
   "source": [
    "driver.title"
   ]
  },
  {
   "cell_type": "code",
   "execution_count": 35,
   "metadata": {
    "ExecuteTime": {
     "end_time": "2019-10-11T15:36:29.867094Z",
     "start_time": "2019-10-11T15:36:28.601485Z"
    }
   },
   "outputs": [],
   "source": [
    "driver.close()"
   ]
  },
  {
   "cell_type": "markdown",
   "metadata": {},
   "source": [
    "<a id=\"selenium-js\"></a>\n",
    "### Running JavaScript before scraping\n",
    "\n",
    "Now, to resolve our JavaScript problem, there's a few things we can do. What I'll do in this case is request that the page load, wait one second, and then I'm going to grab the source html from the page. Because the page should believe I'm visiting from a live connection on a browser client, the JavaScript should render to be a part of the page source. I can then grab the page source."
   ]
  },
  {
   "cell_type": "code",
   "execution_count": 36,
   "metadata": {
    "ExecuteTime": {
     "end_time": "2019-10-11T15:36:39.523839Z",
     "start_time": "2019-10-11T15:36:39.521567Z"
    }
   },
   "outputs": [],
   "source": [
    "# import sleep\n",
    "from time import sleep"
   ]
  },
  {
   "cell_type": "code",
   "execution_count": 38,
   "metadata": {
    "ExecuteTime": {
     "end_time": "2019-10-11T15:36:56.132800Z",
     "start_time": "2019-10-11T15:36:48.144623Z"
    }
   },
   "outputs": [],
   "source": [
    "# visit our relevant page\n",
    "driver = webdriver.Chrome(executable_path=\"./practice/chromedriver/chromedriver\")\n",
    "driver.get(\"http://www.opentable.com/washington-dc-restaurant-listings\")\n",
    "\n",
    "# wait one second\n",
    "sleep(1)\n",
    "\n",
    "#grab the page source\n",
    "html = driver.page_source"
   ]
  },
  {
   "cell_type": "markdown",
   "metadata": {},
   "source": [
    "**Pop Quiz:** What do we need to do with this HTML?"
   ]
  },
  {
   "cell_type": "code",
   "execution_count": 39,
   "metadata": {
    "ExecuteTime": {
     "end_time": "2019-10-11T15:36:59.492763Z",
     "start_time": "2019-10-11T15:36:59.283456Z"
    }
   },
   "outputs": [],
   "source": [
    "# BeautifulSoup it!\n",
    "html = BeautifulSoup(html, \"lxml\")"
   ]
  },
  {
   "cell_type": "markdown",
   "metadata": {},
   "source": [
    "Now, let's return to our earlier problem: How do we locate bookings on the page?"
   ]
  },
  {
   "cell_type": "code",
   "execution_count": 40,
   "metadata": {
    "ExecuteTime": {
     "end_time": "2019-10-11T15:37:01.392202Z",
     "start_time": "2019-10-11T15:37:01.336232Z"
    }
   },
   "outputs": [
    {
     "data": {
      "text/plain": [
       "[<div class=\"booking\"><span class=\"tadpole\"></span>Booked 43 times today</div>,\n",
       " <div class=\"booking\"><span class=\"tadpole\"></span>Booked 46 times today</div>,\n",
       " <div class=\"booking\"><span class=\"tadpole\"></span>Booked 3 times today</div>,\n",
       " <div class=\"booking\"><span class=\"tadpole\"></span>Booked 46 times today</div>,\n",
       " <div class=\"booking\"><span class=\"tadpole\"></span>Booked 77 times today</div>,\n",
       " <div class=\"booking\"><span class=\"tadpole\"></span>Booked 105 times today</div>,\n",
       " <div class=\"booking\"><span class=\"tadpole\"></span>Booked 11 times today</div>,\n",
       " <div class=\"booking\"><span class=\"tadpole\"></span>Booked 39 times today</div>,\n",
       " <div class=\"booking\"><span class=\"tadpole\"></span>Booked 24 times today</div>,\n",
       " <div class=\"booking\"><span class=\"tadpole\"></span>Booked 23 times today</div>,\n",
       " <div class=\"booking\"><span class=\"tadpole\"></span>Booked 46 times today</div>,\n",
       " <div class=\"booking\"><span class=\"tadpole\"></span>Booked 55 times today</div>,\n",
       " <div class=\"booking\"><span class=\"tadpole\"></span>Booked 30 times today</div>,\n",
       " <div class=\"booking\"><span class=\"tadpole\"></span>Booked 35 times today</div>,\n",
       " <div class=\"booking\"><span class=\"tadpole\"></span>Booked 19 times today</div>,\n",
       " <div class=\"booking\"><span class=\"tadpole\"></span>Booked 41 times today</div>,\n",
       " <div class=\"booking\"><span class=\"tadpole\"></span>Booked 31 times today</div>,\n",
       " <div class=\"booking\"><span class=\"tadpole\"></span>Booked 27 times today</div>,\n",
       " <div class=\"booking\"><span class=\"tadpole\"></span>Booked 188 times today</div>,\n",
       " <div class=\"booking\"><span class=\"tadpole\"></span>Booked 67 times today</div>,\n",
       " <div class=\"booking\"><span class=\"tadpole\"></span>Booked 32 times today</div>,\n",
       " <div class=\"booking\"><span class=\"tadpole\"></span>Booked 22 times today</div>,\n",
       " <div class=\"booking\"><span class=\"tadpole\"></span>Booked 18 times today</div>,\n",
       " <div class=\"booking\"><span class=\"tadpole\"></span>Booked 103 times today</div>,\n",
       " <div class=\"booking\"><span class=\"tadpole\"></span>Booked 34 times today</div>,\n",
       " <div class=\"booking\"><span class=\"tadpole\"></span>Booked 23 times today</div>,\n",
       " <div class=\"booking\"><span class=\"tadpole\"></span>Booked 11 times today</div>,\n",
       " <div class=\"booking\"><span class=\"tadpole\"></span>Booked 12 times today</div>,\n",
       " <div class=\"booking\"><span class=\"tadpole\"></span>Booked 201 times today</div>,\n",
       " <div class=\"booking\"><span class=\"tadpole\"></span>Booked 7 times today</div>,\n",
       " <div class=\"booking\"><span class=\"tadpole\"></span>Booked 13 times today</div>,\n",
       " <div class=\"booking\"><span class=\"tadpole\"></span>Booked 14 times today</div>,\n",
       " <div class=\"booking\"><span class=\"tadpole\"></span>Booked 40 times today</div>,\n",
       " <div class=\"booking\"><span class=\"tadpole\"></span>Booked 523 times today</div>,\n",
       " <div class=\"booking\"><span class=\"tadpole\"></span>Booked 2 times today</div>,\n",
       " <div class=\"booking\"><span class=\"tadpole\"></span>Booked 70 times today</div>,\n",
       " <div class=\"booking\"><span class=\"tadpole\"></span>Booked 80 times today</div>,\n",
       " <div class=\"booking\"><span class=\"tadpole\"></span>Booked 54 times today</div>,\n",
       " <div class=\"booking\"><span class=\"tadpole\"></span>Booked 1 times today</div>,\n",
       " <div class=\"booking\"><span class=\"tadpole\"></span>Booked 71 times today</div>,\n",
       " <div class=\"booking\"><span class=\"tadpole\"></span>Booked 6 times today</div>,\n",
       " <div class=\"booking\"><span class=\"tadpole\"></span>Booked 61 times today</div>,\n",
       " <div class=\"booking\"><span class=\"tadpole\"></span>Booked 4 times today</div>,\n",
       " <div class=\"booking\"><span class=\"tadpole\"></span>Booked 13 times today</div>,\n",
       " <div class=\"booking\"><span class=\"tadpole\"></span>Booked 7 times today</div>,\n",
       " <div class=\"booking\"><span class=\"tadpole\"></span>Booked 25 times today</div>,\n",
       " <div class=\"booking\"><span class=\"tadpole\"></span>Booked 14 times today</div>,\n",
       " <div class=\"booking\"><span class=\"tadpole\"></span>Booked 14 times today</div>,\n",
       " <div class=\"booking\"><span class=\"tadpole\"></span>Booked 37 times today</div>,\n",
       " <div class=\"booking\"><span class=\"tadpole\"></span>Booked 49 times today</div>,\n",
       " <div class=\"booking\"><span class=\"tadpole\"></span>Booked 18 times today</div>,\n",
       " <div class=\"booking\"><span class=\"tadpole\"></span>Booked 1 times today</div>,\n",
       " <div class=\"booking\"><span class=\"tadpole\"></span>Booked 2 times today</div>,\n",
       " <div class=\"booking\"><span class=\"tadpole\"></span>Booked 9 times today</div>,\n",
       " <div class=\"booking\"><span class=\"tadpole\"></span>Booked 20 times today</div>,\n",
       " <div class=\"booking\"><span class=\"tadpole\"></span>Booked 189 times today</div>,\n",
       " <div class=\"booking\"><span class=\"tadpole\"></span>Booked 43 times today</div>,\n",
       " <div class=\"booking\"><span class=\"tadpole\"></span>Booked 60 times today</div>,\n",
       " <div class=\"booking\"><span class=\"tadpole\"></span>Booked 46 times today</div>,\n",
       " <div class=\"booking\"><span class=\"tadpole\"></span>Booked 2 times today</div>,\n",
       " <div class=\"booking\"><span class=\"tadpole\"></span>Booked 65 times today</div>,\n",
       " <div class=\"booking\"><span class=\"tadpole\"></span>Booked 14 times today</div>,\n",
       " <div class=\"booking\"><span class=\"tadpole\"></span>Booked 19 times today</div>,\n",
       " <div class=\"booking\"><span class=\"tadpole\"></span>Booked 86 times today</div>,\n",
       " <div class=\"booking\"><span class=\"tadpole\"></span>Booked 10 times today</div>,\n",
       " <div class=\"booking\"><span class=\"tadpole\"></span>Booked 73 times today</div>,\n",
       " <div class=\"booking\"><span class=\"tadpole\"></span>Booked 41 times today</div>,\n",
       " <div class=\"booking\"><span class=\"tadpole\"></span>Booked 80 times today</div>,\n",
       " <div class=\"booking\"><span class=\"tadpole\"></span>Booked 1 times today</div>,\n",
       " <div class=\"booking\"><span class=\"tadpole\"></span>Booked 29 times today</div>,\n",
       " <div class=\"booking\"><span class=\"tadpole\"></span>Booked 53 times today</div>,\n",
       " <div class=\"booking\"><span class=\"tadpole\"></span>Booked 1 times today</div>,\n",
       " <div class=\"booking\"><span class=\"tadpole\"></span>Booked 6 times today</div>,\n",
       " <div class=\"booking\"><span class=\"tadpole\"></span>Booked 37 times today</div>,\n",
       " <div class=\"booking\"><span class=\"tadpole\"></span>Booked 29 times today</div>,\n",
       " <div class=\"booking\"><span class=\"tadpole\"></span>Booked 34 times today</div>,\n",
       " <div class=\"booking\"><span class=\"tadpole\"></span>Booked 9 times today</div>,\n",
       " <div class=\"booking\"><span class=\"tadpole\"></span>Booked 21 times today</div>,\n",
       " <div class=\"booking\"><span class=\"tadpole\"></span>Booked 49 times today</div>,\n",
       " <div class=\"booking\"><span class=\"tadpole\"></span>Booked 61 times today</div>,\n",
       " <div class=\"booking\"><span class=\"tadpole\"></span>Booked 11 times today</div>,\n",
       " <div class=\"booking\"><span class=\"tadpole\"></span>Booked 30 times today</div>,\n",
       " <div class=\"booking\"><span class=\"tadpole\"></span>Booked 69 times today</div>,\n",
       " <div class=\"booking\"><span class=\"tadpole\"></span>Booked 61 times today</div>,\n",
       " <div class=\"booking\"><span class=\"tadpole\"></span>Booked 22 times today</div>,\n",
       " <div class=\"booking\"><span class=\"tadpole\"></span>Booked 21 times today</div>,\n",
       " <div class=\"booking\"><span class=\"tadpole\"></span>Booked 59 times today</div>,\n",
       " <div class=\"booking\"><span class=\"tadpole\"></span>Booked 45 times today</div>,\n",
       " <div class=\"booking\"><span class=\"tadpole\"></span>Booked 33 times today</div>,\n",
       " <div class=\"booking\"><span class=\"tadpole\"></span>Booked 49 times today</div>,\n",
       " <div class=\"booking\"><span class=\"tadpole\"></span>Booked 244 times today</div>,\n",
       " <div class=\"booking\"><span class=\"tadpole\"></span>Booked 252 times today</div>,\n",
       " <div class=\"booking\"><span class=\"tadpole\"></span>Booked 77 times today</div>,\n",
       " <div class=\"booking\"><span class=\"tadpole\"></span>Booked 161 times today</div>,\n",
       " <div class=\"booking\"><span class=\"tadpole\"></span>Booked 24 times today</div>,\n",
       " <div class=\"booking\"><span class=\"tadpole\"></span>Booked 22 times today</div>,\n",
       " <div class=\"booking\"><span class=\"tadpole\"></span>Booked 30 times today</div>,\n",
       " <div class=\"booking\"><span class=\"tadpole\"></span>Booked 19 times today</div>]"
      ]
     },
     "execution_count": 40,
     "metadata": {},
     "output_type": "execute_result"
    }
   ],
   "source": [
    "# print out the number bookings for all restaurants\n",
    "html.find_all('div', {'class':'booking'})"
   ]
  },
  {
   "cell_type": "code",
   "execution_count": 41,
   "metadata": {
    "ExecuteTime": {
     "end_time": "2019-10-11T15:37:08.163490Z",
     "start_time": "2019-10-11T15:37:08.102566Z"
    },
    "scrolled": true
   },
   "outputs": [
    {
     "name": "stdout",
     "output_type": "stream",
     "text": [
      "<div class=\"booking\"><span class=\"tadpole\"></span>Booked 43 times today</div>\n",
      "<div class=\"booking\"><span class=\"tadpole\"></span>Booked 46 times today</div>\n",
      "<div class=\"booking\"><span class=\"tadpole\"></span>Booked 3 times today</div>\n",
      "<div class=\"booking\"><span class=\"tadpole\"></span>Booked 46 times today</div>\n",
      "<div class=\"booking\"><span class=\"tadpole\"></span>Booked 77 times today</div>\n",
      "<div class=\"booking\"><span class=\"tadpole\"></span>Booked 105 times today</div>\n",
      "<div class=\"booking\"><span class=\"tadpole\"></span>Booked 11 times today</div>\n",
      "<div class=\"booking\"><span class=\"tadpole\"></span>Booked 39 times today</div>\n",
      "<div class=\"booking\"><span class=\"tadpole\"></span>Booked 24 times today</div>\n",
      "<div class=\"booking\"><span class=\"tadpole\"></span>Booked 23 times today</div>\n",
      "<div class=\"booking\"><span class=\"tadpole\"></span>Booked 46 times today</div>\n",
      "<div class=\"booking\"><span class=\"tadpole\"></span>Booked 55 times today</div>\n",
      "<div class=\"booking\"><span class=\"tadpole\"></span>Booked 30 times today</div>\n",
      "<div class=\"booking\"><span class=\"tadpole\"></span>Booked 35 times today</div>\n",
      "<div class=\"booking\"><span class=\"tadpole\"></span>Booked 19 times today</div>\n",
      "<div class=\"booking\"><span class=\"tadpole\"></span>Booked 41 times today</div>\n",
      "<div class=\"booking\"><span class=\"tadpole\"></span>Booked 31 times today</div>\n",
      "<div class=\"booking\"><span class=\"tadpole\"></span>Booked 27 times today</div>\n",
      "<div class=\"booking\"><span class=\"tadpole\"></span>Booked 188 times today</div>\n",
      "<div class=\"booking\"><span class=\"tadpole\"></span>Booked 67 times today</div>\n",
      "<div class=\"booking\"><span class=\"tadpole\"></span>Booked 32 times today</div>\n",
      "<div class=\"booking\"><span class=\"tadpole\"></span>Booked 22 times today</div>\n",
      "<div class=\"booking\"><span class=\"tadpole\"></span>Booked 18 times today</div>\n",
      "<div class=\"booking\"><span class=\"tadpole\"></span>Booked 103 times today</div>\n",
      "<div class=\"booking\"><span class=\"tadpole\"></span>Booked 34 times today</div>\n",
      "<div class=\"booking\"><span class=\"tadpole\"></span>Booked 23 times today</div>\n",
      "<div class=\"booking\"><span class=\"tadpole\"></span>Booked 11 times today</div>\n",
      "<div class=\"booking\"><span class=\"tadpole\"></span>Booked 12 times today</div>\n",
      "<div class=\"booking\"><span class=\"tadpole\"></span>Booked 201 times today</div>\n",
      "<div class=\"booking\"><span class=\"tadpole\"></span>Booked 7 times today</div>\n",
      "<div class=\"booking\"><span class=\"tadpole\"></span>Booked 13 times today</div>\n",
      "<div class=\"booking\"><span class=\"tadpole\"></span>Booked 14 times today</div>\n",
      "<div class=\"booking\"><span class=\"tadpole\"></span>Booked 40 times today</div>\n",
      "<div class=\"booking\"><span class=\"tadpole\"></span>Booked 523 times today</div>\n",
      "<div class=\"booking\"><span class=\"tadpole\"></span>Booked 2 times today</div>\n",
      "<div class=\"booking\"><span class=\"tadpole\"></span>Booked 70 times today</div>\n",
      "<div class=\"booking\"><span class=\"tadpole\"></span>Booked 80 times today</div>\n",
      "<div class=\"booking\"><span class=\"tadpole\"></span>Booked 54 times today</div>\n",
      "<div class=\"booking\"><span class=\"tadpole\"></span>Booked 1 times today</div>\n",
      "<div class=\"booking\"><span class=\"tadpole\"></span>Booked 71 times today</div>\n",
      "<div class=\"booking\"><span class=\"tadpole\"></span>Booked 6 times today</div>\n",
      "<div class=\"booking\"><span class=\"tadpole\"></span>Booked 61 times today</div>\n",
      "<div class=\"booking\"><span class=\"tadpole\"></span>Booked 4 times today</div>\n",
      "<div class=\"booking\"><span class=\"tadpole\"></span>Booked 13 times today</div>\n",
      "<div class=\"booking\"><span class=\"tadpole\"></span>Booked 7 times today</div>\n",
      "<div class=\"booking\"><span class=\"tadpole\"></span>Booked 25 times today</div>\n",
      "<div class=\"booking\"><span class=\"tadpole\"></span>Booked 14 times today</div>\n",
      "<div class=\"booking\"><span class=\"tadpole\"></span>Booked 14 times today</div>\n",
      "<div class=\"booking\"><span class=\"tadpole\"></span>Booked 37 times today</div>\n",
      "<div class=\"booking\"><span class=\"tadpole\"></span>Booked 49 times today</div>\n",
      "<div class=\"booking\"><span class=\"tadpole\"></span>Booked 18 times today</div>\n",
      "<div class=\"booking\"><span class=\"tadpole\"></span>Booked 1 times today</div>\n",
      "<div class=\"booking\"><span class=\"tadpole\"></span>Booked 2 times today</div>\n",
      "<div class=\"booking\"><span class=\"tadpole\"></span>Booked 9 times today</div>\n",
      "<div class=\"booking\"><span class=\"tadpole\"></span>Booked 20 times today</div>\n",
      "<div class=\"booking\"><span class=\"tadpole\"></span>Booked 189 times today</div>\n",
      "<div class=\"booking\"><span class=\"tadpole\"></span>Booked 43 times today</div>\n",
      "<div class=\"booking\"><span class=\"tadpole\"></span>Booked 60 times today</div>\n",
      "<div class=\"booking\"><span class=\"tadpole\"></span>Booked 46 times today</div>\n",
      "<div class=\"booking\"><span class=\"tadpole\"></span>Booked 2 times today</div>\n",
      "<div class=\"booking\"><span class=\"tadpole\"></span>Booked 65 times today</div>\n",
      "<div class=\"booking\"><span class=\"tadpole\"></span>Booked 14 times today</div>\n",
      "<div class=\"booking\"><span class=\"tadpole\"></span>Booked 19 times today</div>\n",
      "<div class=\"booking\"><span class=\"tadpole\"></span>Booked 86 times today</div>\n",
      "<div class=\"booking\"><span class=\"tadpole\"></span>Booked 10 times today</div>\n",
      "<div class=\"booking\"><span class=\"tadpole\"></span>Booked 73 times today</div>\n",
      "<div class=\"booking\"><span class=\"tadpole\"></span>Booked 41 times today</div>\n",
      "<div class=\"booking\"><span class=\"tadpole\"></span>Booked 80 times today</div>\n",
      "<div class=\"booking\"><span class=\"tadpole\"></span>Booked 1 times today</div>\n",
      "<div class=\"booking\"><span class=\"tadpole\"></span>Booked 29 times today</div>\n",
      "<div class=\"booking\"><span class=\"tadpole\"></span>Booked 53 times today</div>\n",
      "<div class=\"booking\"><span class=\"tadpole\"></span>Booked 1 times today</div>\n",
      "<div class=\"booking\"><span class=\"tadpole\"></span>Booked 6 times today</div>\n",
      "<div class=\"booking\"><span class=\"tadpole\"></span>Booked 37 times today</div>\n",
      "<div class=\"booking\"><span class=\"tadpole\"></span>Booked 29 times today</div>\n",
      "<div class=\"booking\"><span class=\"tadpole\"></span>Booked 34 times today</div>\n",
      "<div class=\"booking\"><span class=\"tadpole\"></span>Booked 9 times today</div>\n",
      "<div class=\"booking\"><span class=\"tadpole\"></span>Booked 21 times today</div>\n",
      "<div class=\"booking\"><span class=\"tadpole\"></span>Booked 49 times today</div>\n",
      "<div class=\"booking\"><span class=\"tadpole\"></span>Booked 61 times today</div>\n",
      "<div class=\"booking\"><span class=\"tadpole\"></span>Booked 11 times today</div>\n",
      "<div class=\"booking\"><span class=\"tadpole\"></span>Booked 30 times today</div>\n",
      "<div class=\"booking\"><span class=\"tadpole\"></span>Booked 69 times today</div>\n",
      "<div class=\"booking\"><span class=\"tadpole\"></span>Booked 61 times today</div>\n",
      "<div class=\"booking\"><span class=\"tadpole\"></span>Booked 22 times today</div>\n",
      "<div class=\"booking\"><span class=\"tadpole\"></span>Booked 21 times today</div>\n",
      "<div class=\"booking\"><span class=\"tadpole\"></span>Booked 59 times today</div>\n",
      "<div class=\"booking\"><span class=\"tadpole\"></span>Booked 45 times today</div>\n",
      "<div class=\"booking\"><span class=\"tadpole\"></span>Booked 33 times today</div>\n",
      "<div class=\"booking\"><span class=\"tadpole\"></span>Booked 49 times today</div>\n",
      "<div class=\"booking\"><span class=\"tadpole\"></span>Booked 244 times today</div>\n",
      "<div class=\"booking\"><span class=\"tadpole\"></span>Booked 252 times today</div>\n",
      "<div class=\"booking\"><span class=\"tadpole\"></span>Booked 77 times today</div>\n",
      "<div class=\"booking\"><span class=\"tadpole\"></span>Booked 161 times today</div>\n",
      "<div class=\"booking\"><span class=\"tadpole\"></span>Booked 24 times today</div>\n",
      "<div class=\"booking\"><span class=\"tadpole\"></span>Booked 22 times today</div>\n",
      "<div class=\"booking\"><span class=\"tadpole\"></span>Booked 30 times today</div>\n",
      "<div class=\"booking\"><span class=\"tadpole\"></span>Booked 19 times today</div>\n"
     ]
    }
   ],
   "source": [
    "# now print out each booking for the listings using a loop\n",
    "for entry in html.find_all('div', {'class':'booking'}):\n",
    "    print(entry)"
   ]
  },
  {
   "cell_type": "markdown",
   "metadata": {},
   "source": [
    "Let's grab just the text of each of these entries."
   ]
  },
  {
   "cell_type": "code",
   "execution_count": 42,
   "metadata": {
    "ExecuteTime": {
     "end_time": "2019-10-11T15:37:18.451757Z",
     "start_time": "2019-10-11T15:37:18.392169Z"
    },
    "scrolled": true
   },
   "outputs": [
    {
     "name": "stdout",
     "output_type": "stream",
     "text": [
      "Booked 43 times today\n",
      "Booked 46 times today\n",
      "Booked 3 times today\n",
      "Booked 46 times today\n",
      "Booked 77 times today\n",
      "Booked 105 times today\n",
      "Booked 11 times today\n",
      "Booked 39 times today\n",
      "Booked 24 times today\n",
      "Booked 23 times today\n",
      "Booked 46 times today\n",
      "Booked 55 times today\n",
      "Booked 30 times today\n",
      "Booked 35 times today\n",
      "Booked 19 times today\n",
      "Booked 41 times today\n",
      "Booked 31 times today\n",
      "Booked 27 times today\n",
      "Booked 188 times today\n",
      "Booked 67 times today\n",
      "Booked 32 times today\n",
      "Booked 22 times today\n",
      "Booked 18 times today\n",
      "Booked 103 times today\n",
      "Booked 34 times today\n",
      "Booked 23 times today\n",
      "Booked 11 times today\n",
      "Booked 12 times today\n",
      "Booked 201 times today\n",
      "Booked 7 times today\n",
      "Booked 13 times today\n",
      "Booked 14 times today\n",
      "Booked 40 times today\n",
      "Booked 523 times today\n",
      "Booked 2 times today\n",
      "Booked 70 times today\n",
      "Booked 80 times today\n",
      "Booked 54 times today\n",
      "Booked 1 times today\n",
      "Booked 71 times today\n",
      "Booked 6 times today\n",
      "Booked 61 times today\n",
      "Booked 4 times today\n",
      "Booked 13 times today\n",
      "Booked 7 times today\n",
      "Booked 25 times today\n",
      "Booked 14 times today\n",
      "Booked 14 times today\n",
      "Booked 37 times today\n",
      "Booked 49 times today\n",
      "Booked 18 times today\n",
      "Booked 1 times today\n",
      "Booked 2 times today\n",
      "Booked 9 times today\n",
      "Booked 20 times today\n",
      "Booked 189 times today\n",
      "Booked 43 times today\n",
      "Booked 60 times today\n",
      "Booked 46 times today\n",
      "Booked 2 times today\n",
      "Booked 65 times today\n",
      "Booked 14 times today\n",
      "Booked 19 times today\n",
      "Booked 86 times today\n",
      "Booked 10 times today\n",
      "Booked 73 times today\n",
      "Booked 41 times today\n",
      "Booked 80 times today\n",
      "Booked 1 times today\n",
      "Booked 29 times today\n",
      "Booked 53 times today\n",
      "Booked 1 times today\n",
      "Booked 6 times today\n",
      "Booked 37 times today\n",
      "Booked 29 times today\n",
      "Booked 34 times today\n",
      "Booked 9 times today\n",
      "Booked 21 times today\n",
      "Booked 49 times today\n",
      "Booked 61 times today\n",
      "Booked 11 times today\n",
      "Booked 30 times today\n",
      "Booked 69 times today\n",
      "Booked 61 times today\n",
      "Booked 22 times today\n",
      "Booked 21 times today\n",
      "Booked 59 times today\n",
      "Booked 45 times today\n",
      "Booked 33 times today\n",
      "Booked 49 times today\n",
      "Booked 244 times today\n",
      "Booked 252 times today\n",
      "Booked 77 times today\n",
      "Booked 161 times today\n",
      "Booked 24 times today\n",
      "Booked 22 times today\n",
      "Booked 30 times today\n",
      "Booked 19 times today\n"
     ]
    }
   ],
   "source": [
    "# do the same as above, but grabbing only the text content\n",
    "for entry in html.find_all('div', {'class':'booking'}):\n",
    "    print(entry.text)"
   ]
  },
  {
   "cell_type": "code",
   "execution_count": 43,
   "metadata": {
    "ExecuteTime": {
     "end_time": "2019-10-11T15:37:21.850314Z",
     "start_time": "2019-10-11T15:37:21.302200Z"
    }
   },
   "outputs": [],
   "source": [
    "driver.close()"
   ]
  },
  {
   "cell_type": "markdown",
   "metadata": {},
   "source": [
    "We've succeeded!\n",
    "\n",
    "<a id=\"selenium-regex\"></a>\n",
    "### Using regex to only get digits\n",
    "\n",
    "But we can clean this up a little bit. We're going to use regular expressions (regex) to grab only the digits that are available in each of the text.\n",
    "\n",
    "The best way to get good at regex is to, well, just keep trying and testing: http://pythex.org/"
   ]
  },
  {
   "cell_type": "code",
   "execution_count": 44,
   "metadata": {
    "ExecuteTime": {
     "end_time": "2019-10-11T15:37:24.044793Z",
     "start_time": "2019-10-11T15:37:24.042426Z"
    }
   },
   "outputs": [],
   "source": [
    "# import regex\n",
    "import re"
   ]
  },
  {
   "cell_type": "markdown",
   "metadata": {},
   "source": [
    "Given we haven't covered regex, I'll show you how to use the search function to match any given digit."
   ]
  },
  {
   "cell_type": "code",
   "execution_count": 45,
   "metadata": {
    "ExecuteTime": {
     "end_time": "2019-10-11T15:37:25.430247Z",
     "start_time": "2019-10-11T15:37:25.380810Z"
    }
   },
   "outputs": [
    {
     "name": "stdout",
     "output_type": "stream",
     "text": [
      "43\n",
      "46\n",
      "3\n",
      "46\n",
      "77\n",
      "105\n",
      "11\n",
      "39\n",
      "24\n",
      "23\n",
      "46\n",
      "55\n",
      "30\n",
      "35\n",
      "19\n",
      "41\n",
      "31\n",
      "27\n",
      "188\n",
      "67\n",
      "32\n",
      "22\n",
      "18\n",
      "103\n",
      "34\n",
      "23\n",
      "11\n",
      "12\n",
      "201\n",
      "7\n",
      "13\n",
      "14\n",
      "40\n",
      "523\n",
      "2\n",
      "70\n",
      "80\n",
      "54\n",
      "1\n",
      "71\n",
      "6\n",
      "61\n",
      "4\n",
      "13\n",
      "7\n",
      "25\n",
      "14\n",
      "14\n",
      "37\n",
      "49\n",
      "18\n",
      "1\n",
      "2\n",
      "9\n",
      "20\n",
      "189\n",
      "43\n",
      "60\n",
      "46\n",
      "2\n",
      "65\n",
      "14\n",
      "19\n",
      "86\n",
      "10\n",
      "73\n",
      "41\n",
      "80\n",
      "1\n",
      "29\n",
      "53\n",
      "1\n",
      "6\n",
      "37\n",
      "29\n",
      "34\n",
      "9\n",
      "21\n",
      "49\n",
      "61\n",
      "11\n",
      "30\n",
      "69\n",
      "61\n",
      "22\n",
      "21\n",
      "59\n",
      "45\n",
      "33\n",
      "49\n",
      "244\n",
      "252\n",
      "77\n",
      "161\n",
      "24\n",
      "22\n",
      "30\n",
      "19\n"
     ]
    }
   ],
   "source": [
    "# for each entry, grab the text\n",
    "for booking in html.find_all('div', {'class':'booking'}):\n",
    "    # match all digits\n",
    "    match = re.search(r'\\d+', booking.text)\n",
    "    \n",
    "    if match:\n",
    "        # print if found\n",
    "        print(match.group())\n",
    "    else:\n",
    "        # otherwise pass\n",
    "        pass"
   ]
  },
  {
   "cell_type": "markdown",
   "metadata": {},
   "source": [
    "Before we demonstrate all the other amazing things about headless browsers, let's finish up collecting the data we want from this current example. Do you suppose the html parsing we wrote above will still work on the page source we've grabbed from our headless browser?"
   ]
  },
  {
   "cell_type": "markdown",
   "metadata": {},
   "source": [
    "To be most efficient, we want to only do a single loop for each entry on the page. That means we want to find what element all of other other elements (name, location, price, bookings) is housed within. Where on the page is each entry located?"
   ]
  },
  {
   "cell_type": "code",
   "execution_count": null,
   "metadata": {
    "ExecuteTime": {
     "end_time": "2019-10-11T15:37:36.133859Z",
     "start_time": "2019-10-11T15:37:36.011312Z"
    }
   },
   "outputs": [],
   "source": [
    "# print out all entries\n",
    "#   NOTE: Has many entries. Uncomment the below code to run it!\n",
    "\n",
    "soup.find_all('div', {'class':'result content-section-list-row cf with-times'})"
   ]
  },
  {
   "cell_type": "markdown",
   "metadata": {},
   "source": [
    "Look over the page. Does every single entry have each element we're seeking?\n",
    "> I did this previously. I know for a fact that not every element has a number of recent bookings. That's probably exactly why OpenTable houses this in JavaScript: they want to continously update the number of bookings with the most relevant number of values."
   ]
  },
  {
   "cell_type": "code",
   "execution_count": 47,
   "metadata": {
    "ExecuteTime": {
     "end_time": "2019-10-11T15:37:53.686069Z",
     "start_time": "2019-10-11T15:37:53.602484Z"
    },
    "scrolled": true
   },
   "outputs": [
    {
     "name": "stdout",
     "output_type": "stream",
     "text": [
      "<div class=\"booking\"><span class=\"tadpole\"></span>Booked 43 times today</div>\n",
      "<div class=\"booking\"><span class=\"tadpole\"></span>Booked 46 times today</div>\n",
      "<div class=\"booking\"><span class=\"tadpole\"></span>Booked 3 times today</div>\n",
      "<div class=\"booking\"><span class=\"tadpole\"></span>Booked 46 times today</div>\n",
      "<div class=\"booking\"><span class=\"tadpole\"></span>Booked 77 times today</div>\n",
      "<div class=\"booking\"><span class=\"tadpole\"></span>Booked 105 times today</div>\n",
      "<div class=\"booking\"><span class=\"tadpole\"></span>Booked 11 times today</div>\n",
      "<div class=\"booking\"><span class=\"tadpole\"></span>Booked 39 times today</div>\n",
      "<div class=\"booking\"><span class=\"tadpole\"></span>Booked 24 times today</div>\n",
      "<div class=\"booking\"><span class=\"tadpole\"></span>Booked 23 times today</div>\n",
      "<div class=\"booking\"><span class=\"tadpole\"></span>Booked 46 times today</div>\n",
      "<div class=\"booking\"><span class=\"tadpole\"></span>Booked 55 times today</div>\n",
      "None\n",
      "<div class=\"booking\"><span class=\"tadpole\"></span>Booked 30 times today</div>\n",
      "<div class=\"booking\"><span class=\"tadpole\"></span>Booked 35 times today</div>\n",
      "<div class=\"booking\"><span class=\"tadpole\"></span>Booked 19 times today</div>\n",
      "<div class=\"booking\"><span class=\"tadpole\"></span>Booked 41 times today</div>\n",
      "<div class=\"booking\"><span class=\"tadpole\"></span>Booked 31 times today</div>\n",
      "<div class=\"booking\"><span class=\"tadpole\"></span>Booked 27 times today</div>\n",
      "<div class=\"booking\"><span class=\"tadpole\"></span>Booked 188 times today</div>\n",
      "<div class=\"booking\"><span class=\"tadpole\"></span>Booked 67 times today</div>\n",
      "<div class=\"booking\"><span class=\"tadpole\"></span>Booked 32 times today</div>\n",
      "<div class=\"booking\"><span class=\"tadpole\"></span>Booked 22 times today</div>\n",
      "<div class=\"booking\"><span class=\"tadpole\"></span>Booked 18 times today</div>\n",
      "<div class=\"booking\"><span class=\"tadpole\"></span>Booked 103 times today</div>\n",
      "<div class=\"booking\"><span class=\"tadpole\"></span>Booked 34 times today</div>\n",
      "<div class=\"booking\"><span class=\"tadpole\"></span>Booked 23 times today</div>\n",
      "<div class=\"booking\"><span class=\"tadpole\"></span>Booked 11 times today</div>\n",
      "<div class=\"booking\"><span class=\"tadpole\"></span>Booked 12 times today</div>\n",
      "<div class=\"booking\"><span class=\"tadpole\"></span>Booked 201 times today</div>\n",
      "<div class=\"booking\"><span class=\"tadpole\"></span>Booked 7 times today</div>\n",
      "<div class=\"booking\"><span class=\"tadpole\"></span>Booked 13 times today</div>\n",
      "<div class=\"booking\"><span class=\"tadpole\"></span>Booked 14 times today</div>\n",
      "<div class=\"booking\"><span class=\"tadpole\"></span>Booked 40 times today</div>\n",
      "<div class=\"booking\"><span class=\"tadpole\"></span>Booked 523 times today</div>\n",
      "<div class=\"booking\"><span class=\"tadpole\"></span>Booked 2 times today</div>\n",
      "<div class=\"booking\"><span class=\"tadpole\"></span>Booked 70 times today</div>\n",
      "<div class=\"booking\"><span class=\"tadpole\"></span>Booked 80 times today</div>\n",
      "<div class=\"booking\"><span class=\"tadpole\"></span>Booked 54 times today</div>\n",
      "<div class=\"booking\"><span class=\"tadpole\"></span>Booked 1 times today</div>\n",
      "<div class=\"booking\"><span class=\"tadpole\"></span>Booked 71 times today</div>\n",
      "<div class=\"booking\"><span class=\"tadpole\"></span>Booked 6 times today</div>\n",
      "<div class=\"booking\"><span class=\"tadpole\"></span>Booked 61 times today</div>\n",
      "<div class=\"booking\"><span class=\"tadpole\"></span>Booked 4 times today</div>\n",
      "<div class=\"booking\"><span class=\"tadpole\"></span>Booked 13 times today</div>\n",
      "<div class=\"booking\"><span class=\"tadpole\"></span>Booked 7 times today</div>\n",
      "<div class=\"booking\"><span class=\"tadpole\"></span>Booked 25 times today</div>\n",
      "<div class=\"booking\"><span class=\"tadpole\"></span>Booked 14 times today</div>\n",
      "<div class=\"booking\"><span class=\"tadpole\"></span>Booked 14 times today</div>\n",
      "<div class=\"booking\"><span class=\"tadpole\"></span>Booked 37 times today</div>\n",
      "<div class=\"booking\"><span class=\"tadpole\"></span>Booked 49 times today</div>\n",
      "<div class=\"booking\"><span class=\"tadpole\"></span>Booked 18 times today</div>\n",
      "<div class=\"booking\"><span class=\"tadpole\"></span>Booked 1 times today</div>\n",
      "<div class=\"booking\"><span class=\"tadpole\"></span>Booked 2 times today</div>\n",
      "<div class=\"booking\"><span class=\"tadpole\"></span>Booked 9 times today</div>\n",
      "<div class=\"booking\"><span class=\"tadpole\"></span>Booked 20 times today</div>\n",
      "<div class=\"booking\"><span class=\"tadpole\"></span>Booked 189 times today</div>\n",
      "<div class=\"booking\"><span class=\"tadpole\"></span>Booked 43 times today</div>\n",
      "<div class=\"booking\"><span class=\"tadpole\"></span>Booked 60 times today</div>\n",
      "<div class=\"booking\"><span class=\"tadpole\"></span>Booked 46 times today</div>\n",
      "<div class=\"booking\"><span class=\"tadpole\"></span>Booked 2 times today</div>\n",
      "<div class=\"booking\"><span class=\"tadpole\"></span>Booked 65 times today</div>\n",
      "<div class=\"booking\"><span class=\"tadpole\"></span>Booked 14 times today</div>\n",
      "<div class=\"booking\"><span class=\"tadpole\"></span>Booked 19 times today</div>\n",
      "<div class=\"booking\"><span class=\"tadpole\"></span>Booked 86 times today</div>\n",
      "<div class=\"booking\"><span class=\"tadpole\"></span>Booked 10 times today</div>\n",
      "<div class=\"booking\"><span class=\"tadpole\"></span>Booked 73 times today</div>\n",
      "<div class=\"booking\"><span class=\"tadpole\"></span>Booked 41 times today</div>\n",
      "<div class=\"booking\"><span class=\"tadpole\"></span>Booked 80 times today</div>\n",
      "<div class=\"booking\"><span class=\"tadpole\"></span>Booked 1 times today</div>\n",
      "<div class=\"booking\"><span class=\"tadpole\"></span>Booked 29 times today</div>\n",
      "<div class=\"booking\"><span class=\"tadpole\"></span>Booked 53 times today</div>\n",
      "<div class=\"booking\"><span class=\"tadpole\"></span>Booked 1 times today</div>\n",
      "<div class=\"booking\"><span class=\"tadpole\"></span>Booked 6 times today</div>\n",
      "<div class=\"booking\"><span class=\"tadpole\"></span>Booked 37 times today</div>\n",
      "<div class=\"booking\"><span class=\"tadpole\"></span>Booked 29 times today</div>\n",
      "<div class=\"booking\"><span class=\"tadpole\"></span>Booked 34 times today</div>\n",
      "<div class=\"booking\"><span class=\"tadpole\"></span>Booked 9 times today</div>\n",
      "<div class=\"booking\"><span class=\"tadpole\"></span>Booked 21 times today</div>\n",
      "<div class=\"booking\"><span class=\"tadpole\"></span>Booked 49 times today</div>\n",
      "<div class=\"booking\"><span class=\"tadpole\"></span>Booked 61 times today</div>\n",
      "<div class=\"booking\"><span class=\"tadpole\"></span>Booked 11 times today</div>\n",
      "<div class=\"booking\"><span class=\"tadpole\"></span>Booked 30 times today</div>\n",
      "<div class=\"booking\"><span class=\"tadpole\"></span>Booked 69 times today</div>\n",
      "<div class=\"booking\"><span class=\"tadpole\"></span>Booked 61 times today</div>\n",
      "<div class=\"booking\"><span class=\"tadpole\"></span>Booked 22 times today</div>\n",
      "<div class=\"booking\"><span class=\"tadpole\"></span>Booked 21 times today</div>\n",
      "<div class=\"booking\"><span class=\"tadpole\"></span>Booked 59 times today</div>\n",
      "None\n",
      "<div class=\"booking\"><span class=\"tadpole\"></span>Booked 45 times today</div>\n",
      "<div class=\"booking\"><span class=\"tadpole\"></span>Booked 33 times today</div>\n",
      "<div class=\"booking\"><span class=\"tadpole\"></span>Booked 49 times today</div>\n",
      "<div class=\"booking\"><span class=\"tadpole\"></span>Booked 244 times today</div>\n",
      "<div class=\"booking\"><span class=\"tadpole\"></span>Booked 252 times today</div>\n",
      "<div class=\"booking\"><span class=\"tadpole\"></span>Booked 77 times today</div>\n",
      "<div class=\"booking\"><span class=\"tadpole\"></span>Booked 161 times today</div>\n",
      "<div class=\"booking\"><span class=\"tadpole\"></span>Booked 24 times today</div>\n",
      "<div class=\"booking\"><span class=\"tadpole\"></span>Booked 22 times today</div>\n",
      "<div class=\"booking\"><span class=\"tadpole\"></span>Booked 30 times today</div>\n",
      "<div class=\"booking\"><span class=\"tadpole\"></span>Booked 19 times today</div>\n"
     ]
    }
   ],
   "source": [
    "# We want to only retrieve the text of the bookings.\n",
    "# But what would happen if we just naively print the text of each node?\n",
    "\n",
    "for entry in html.find_all('div', {'class':'result content-section-list-row cf with-times'}):\n",
    "    print(entry.find('div', {'class':'booking'}))   # try adding .text"
   ]
  },
  {
   "cell_type": "code",
   "execution_count": 48,
   "metadata": {
    "ExecuteTime": {
     "end_time": "2019-10-11T15:38:02.318968Z",
     "start_time": "2019-10-11T15:38:02.238776Z"
    }
   },
   "outputs": [
    {
     "name": "stdout",
     "output_type": "stream",
     "text": [
      "Booked 43 times today\n",
      "Booked 46 times today\n",
      "Booked 3 times today\n",
      "Booked 46 times today\n",
      "Booked 77 times today\n",
      "Booked 105 times today\n",
      "Booked 11 times today\n",
      "Booked 39 times today\n",
      "Booked 24 times today\n",
      "Booked 23 times today\n",
      "Booked 46 times today\n",
      "Booked 55 times today\n",
      "ZERO\n",
      "Booked 30 times today\n",
      "Booked 35 times today\n",
      "Booked 19 times today\n",
      "Booked 41 times today\n",
      "Booked 31 times today\n",
      "Booked 27 times today\n",
      "Booked 188 times today\n",
      "Booked 67 times today\n",
      "Booked 32 times today\n",
      "Booked 22 times today\n",
      "Booked 18 times today\n",
      "Booked 103 times today\n",
      "Booked 34 times today\n",
      "Booked 23 times today\n",
      "Booked 11 times today\n",
      "Booked 12 times today\n",
      "Booked 201 times today\n",
      "Booked 7 times today\n",
      "Booked 13 times today\n",
      "Booked 14 times today\n",
      "Booked 40 times today\n",
      "Booked 523 times today\n",
      "Booked 2 times today\n",
      "Booked 70 times today\n",
      "Booked 80 times today\n",
      "Booked 54 times today\n",
      "Booked 1 times today\n",
      "Booked 71 times today\n",
      "Booked 6 times today\n",
      "Booked 61 times today\n",
      "Booked 4 times today\n",
      "Booked 13 times today\n",
      "Booked 7 times today\n",
      "Booked 25 times today\n",
      "Booked 14 times today\n",
      "Booked 14 times today\n",
      "Booked 37 times today\n",
      "Booked 49 times today\n",
      "Booked 18 times today\n",
      "Booked 1 times today\n",
      "Booked 2 times today\n",
      "Booked 9 times today\n",
      "Booked 20 times today\n",
      "Booked 189 times today\n",
      "Booked 43 times today\n",
      "Booked 60 times today\n",
      "Booked 46 times today\n",
      "Booked 2 times today\n",
      "Booked 65 times today\n",
      "Booked 14 times today\n",
      "Booked 19 times today\n",
      "Booked 86 times today\n",
      "Booked 10 times today\n",
      "Booked 73 times today\n",
      "Booked 41 times today\n",
      "Booked 80 times today\n",
      "Booked 1 times today\n",
      "Booked 29 times today\n",
      "Booked 53 times today\n",
      "Booked 1 times today\n",
      "Booked 6 times today\n",
      "Booked 37 times today\n",
      "Booked 29 times today\n",
      "Booked 34 times today\n",
      "Booked 9 times today\n",
      "Booked 21 times today\n",
      "Booked 49 times today\n",
      "Booked 61 times today\n",
      "Booked 11 times today\n",
      "Booked 30 times today\n",
      "Booked 69 times today\n",
      "Booked 61 times today\n",
      "Booked 22 times today\n",
      "Booked 21 times today\n",
      "Booked 59 times today\n",
      "ZERO\n",
      "Booked 45 times today\n",
      "Booked 33 times today\n",
      "Booked 49 times today\n",
      "Booked 244 times today\n",
      "Booked 252 times today\n",
      "Booked 77 times today\n",
      "Booked 161 times today\n",
      "Booked 24 times today\n",
      "Booked 22 times today\n",
      "Booked 30 times today\n",
      "Booked 19 times today\n"
     ]
    }
   ],
   "source": [
    "# if we find the element we want, we print it. Otherwise, we print 'ZERO'\n",
    "for entry in html.find_all('div', {'class':'result content-section-list-row cf with-times'}):\n",
    "        divs = entry.find('div', {'class':'booking'})\n",
    "        \n",
    "        if divs:\n",
    "            print(divs.text)\n",
    "        else:\n",
    "            print('ZERO')"
   ]
  },
  {
   "cell_type": "markdown",
   "metadata": {},
   "source": [
    "What do you notice takes the place when booking is not found?\n",
    "\n",
    "We could use exception handling (`try`/`except` blocks) to resolve this. However, exceptions should only be used to handle rare or unexpected errors -- never for normal program flow.\n",
    "\n",
    "In this case, we expect that some entries will be zero. So, we can just use an `if` statement that tests whether there are any `divs` present; if not, display `'ZERO'`. Here's a demo:"
   ]
  },
  {
   "cell_type": "code",
   "execution_count": 49,
   "metadata": {
    "ExecuteTime": {
     "end_time": "2019-10-11T15:38:18.093512Z",
     "start_time": "2019-10-11T15:38:18.010811Z"
    }
   },
   "outputs": [
    {
     "name": "stdout",
     "output_type": "stream",
     "text": [
      "Booked 43 times today\n",
      "Booked 46 times today\n",
      "Booked 3 times today\n",
      "Booked 46 times today\n",
      "Booked 77 times today\n",
      "Booked 105 times today\n",
      "Booked 11 times today\n",
      "Booked 39 times today\n",
      "Booked 24 times today\n",
      "Booked 23 times today\n",
      "Booked 46 times today\n",
      "Booked 55 times today\n",
      "ZERO\n",
      "Booked 30 times today\n",
      "Booked 35 times today\n",
      "Booked 19 times today\n",
      "Booked 41 times today\n",
      "Booked 31 times today\n",
      "Booked 27 times today\n",
      "Booked 188 times today\n",
      "Booked 67 times today\n",
      "Booked 32 times today\n",
      "Booked 22 times today\n",
      "Booked 18 times today\n",
      "Booked 103 times today\n",
      "Booked 34 times today\n",
      "Booked 23 times today\n",
      "Booked 11 times today\n",
      "Booked 12 times today\n",
      "Booked 201 times today\n",
      "Booked 7 times today\n",
      "Booked 13 times today\n",
      "Booked 14 times today\n",
      "Booked 40 times today\n",
      "Booked 523 times today\n",
      "Booked 2 times today\n",
      "Booked 70 times today\n",
      "Booked 80 times today\n",
      "Booked 54 times today\n",
      "Booked 1 times today\n",
      "Booked 71 times today\n",
      "Booked 6 times today\n",
      "Booked 61 times today\n",
      "Booked 4 times today\n",
      "Booked 13 times today\n",
      "Booked 7 times today\n",
      "Booked 25 times today\n",
      "Booked 14 times today\n",
      "Booked 14 times today\n",
      "Booked 37 times today\n",
      "Booked 49 times today\n",
      "Booked 18 times today\n",
      "Booked 1 times today\n",
      "Booked 2 times today\n",
      "Booked 9 times today\n",
      "Booked 20 times today\n",
      "Booked 189 times today\n",
      "Booked 43 times today\n",
      "Booked 60 times today\n",
      "Booked 46 times today\n",
      "Booked 2 times today\n",
      "Booked 65 times today\n",
      "Booked 14 times today\n",
      "Booked 19 times today\n",
      "Booked 86 times today\n",
      "Booked 10 times today\n",
      "Booked 73 times today\n",
      "Booked 41 times today\n",
      "Booked 80 times today\n",
      "Booked 1 times today\n",
      "Booked 29 times today\n",
      "Booked 53 times today\n",
      "Booked 1 times today\n",
      "Booked 6 times today\n",
      "Booked 37 times today\n",
      "Booked 29 times today\n",
      "Booked 34 times today\n",
      "Booked 9 times today\n",
      "Booked 21 times today\n",
      "Booked 49 times today\n",
      "Booked 61 times today\n",
      "Booked 11 times today\n",
      "Booked 30 times today\n",
      "Booked 69 times today\n",
      "Booked 61 times today\n",
      "Booked 22 times today\n",
      "Booked 21 times today\n",
      "Booked 59 times today\n",
      "ZERO\n",
      "Booked 45 times today\n",
      "Booked 33 times today\n",
      "Booked 49 times today\n",
      "Booked 244 times today\n",
      "Booked 252 times today\n",
      "Booked 77 times today\n",
      "Booked 161 times today\n",
      "Booked 24 times today\n",
      "Booked 22 times today\n",
      "Booked 30 times today\n",
      "Booked 19 times today\n"
     ]
    }
   ],
   "source": [
    "# if we find the element we want, we print it. Otherwise, we print 'ZERO'\n",
    "for entry in html.find_all('div', {'class':'result content-section-list-row cf with-times'}):\n",
    "    booking_tag = entry.find('div', {'class':'booking'})\n",
    "    \n",
    "    if booking_tag:\n",
    "        print(booking_tag.text)\n",
    "    else:\n",
    "        print('ZERO')"
   ]
  },
  {
   "cell_type": "markdown",
   "metadata": {},
   "source": [
    "After previously completing this, we observed that all other elements WILL be returned. This means we do not have to always handle these cases.\n",
    "\n",
    "<a id=\"challenge-pandas\"></a>\n",
    "### Challenge: Use Pandas to create a DataFrame of bookings\n",
    "\n",
    "However, the onus is on you to now put all the pieces together.\n",
    "\n",
    "Loop through each entry. For each entry, grab the relevant information we want (name, location, price, bookings). Produce a dataframe with the columns \"name\",\"location\",\"price\",\"bookings\" that contains the 100 entries we would like."
   ]
  },
  {
   "cell_type": "code",
   "execution_count": 50,
   "metadata": {
    "ExecuteTime": {
     "end_time": "2019-10-11T15:38:25.147976Z",
     "start_time": "2019-10-11T15:38:24.550498Z"
    }
   },
   "outputs": [],
   "source": [
    "import pandas as pd"
   ]
  },
  {
   "cell_type": "code",
   "execution_count": 58,
   "metadata": {
    "ExecuteTime": {
     "end_time": "2019-10-11T15:41:58.245135Z",
     "start_time": "2019-10-11T15:41:58.239883Z"
    }
   },
   "outputs": [],
   "source": [
    "# I'm going to create my empty df first\n",
    "dc_eats = pd.DataFrame(columns=[\"name\",\"cuisine\",\"location\",\"price\",\"bookings\"])"
   ]
  },
  {
   "cell_type": "code",
   "execution_count": 59,
   "metadata": {
    "ExecuteTime": {
     "end_time": "2019-10-11T15:41:59.921197Z",
     "start_time": "2019-10-11T15:41:59.560894Z"
    }
   },
   "outputs": [],
   "source": [
    "for entry in html.find_all('div', {'class':'result content-section-list-row cf with-times'}):\n",
    "    # grab the name\n",
    "    name = entry.find('span', {'class':'rest-row-name-text'}).text\n",
    "    \n",
    "    # grab the cuisine\n",
    "    cuisine = entry.find('span', {'class': 'rest-row-meta--cuisine rest-row-meta-text'}).text\n",
    "    # grab the location\n",
    "    location = entry.find_all('span', {'class': 'rest-row-meta--cuisine rest-row-meta-text sfx1388addContent'})[1].text\n",
    "    \n",
    "    # grab the price\n",
    "    price = entry.find('div', {'class':'rest-row-pricing'}).find('i').text.count('$')\n",
    "    \n",
    "    # try to find the number of bookings\n",
    "    bookings = 'NA'\n",
    "    booking_tag = entry.find('div', {'class':'booking'})\n",
    "    if booking_tag:\n",
    "        match = re.search('\\d+', booking_tag.text)\n",
    "        \n",
    "        if match:\n",
    "            bookings = match.group()\n",
    "    \n",
    "    dc_eats.loc[len(dc_eats)]=[name, cuisine, location, price, bookings]"
   ]
  },
  {
   "cell_type": "code",
   "execution_count": 60,
   "metadata": {
    "ExecuteTime": {
     "end_time": "2019-10-11T15:42:01.226303Z",
     "start_time": "2019-10-11T15:42:01.217017Z"
    }
   },
   "outputs": [
    {
     "data": {
      "text/html": [
       "<div>\n",
       "<style scoped>\n",
       "    .dataframe tbody tr th:only-of-type {\n",
       "        vertical-align: middle;\n",
       "    }\n",
       "\n",
       "    .dataframe tbody tr th {\n",
       "        vertical-align: top;\n",
       "    }\n",
       "\n",
       "    .dataframe thead th {\n",
       "        text-align: right;\n",
       "    }\n",
       "</style>\n",
       "<table border=\"1\" class=\"dataframe\">\n",
       "  <thead>\n",
       "    <tr style=\"text-align: right;\">\n",
       "      <th></th>\n",
       "      <th>name</th>\n",
       "      <th>cuisine</th>\n",
       "      <th>location</th>\n",
       "      <th>price</th>\n",
       "      <th>bookings</th>\n",
       "    </tr>\n",
       "  </thead>\n",
       "  <tbody>\n",
       "    <tr>\n",
       "      <td>0</td>\n",
       "      <td>El Centro D.F. - Georgetown</td>\n",
       "      <td>Contemporary Mexican</td>\n",
       "      <td>Georgetown</td>\n",
       "      <td>2</td>\n",
       "      <td>43</td>\n",
       "    </tr>\n",
       "    <tr>\n",
       "      <td>1</td>\n",
       "      <td>BlackSalt</td>\n",
       "      <td>Seafood</td>\n",
       "      <td>Palisades Northwest</td>\n",
       "      <td>3</td>\n",
       "      <td>46</td>\n",
       "    </tr>\n",
       "    <tr>\n",
       "      <td>2</td>\n",
       "      <td>Maya Bistro</td>\n",
       "      <td>Mediterranean</td>\n",
       "      <td>Arlington</td>\n",
       "      <td>2</td>\n",
       "      <td>3</td>\n",
       "    </tr>\n",
       "    <tr>\n",
       "      <td>3</td>\n",
       "      <td>Bistro Aracosia</td>\n",
       "      <td>Afghan</td>\n",
       "      <td>Palisades Northwest</td>\n",
       "      <td>2</td>\n",
       "      <td>46</td>\n",
       "    </tr>\n",
       "    <tr>\n",
       "      <td>4</td>\n",
       "      <td>Boqueria - Dupont</td>\n",
       "      <td>Spanish</td>\n",
       "      <td>Dupont Circle</td>\n",
       "      <td>3</td>\n",
       "      <td>77</td>\n",
       "    </tr>\n",
       "  </tbody>\n",
       "</table>\n",
       "</div>"
      ],
      "text/plain": [
       "                          name               cuisine             location  \\\n",
       "0  El Centro D.F. - Georgetown  Contemporary Mexican           Georgetown   \n",
       "1                    BlackSalt               Seafood  Palisades Northwest   \n",
       "2                  Maya Bistro         Mediterranean            Arlington   \n",
       "3              Bistro Aracosia                Afghan  Palisades Northwest   \n",
       "4            Boqueria - Dupont               Spanish        Dupont Circle   \n",
       "\n",
       "  price bookings  \n",
       "0     2       43  \n",
       "1     3       46  \n",
       "2     2        3  \n",
       "3     2       46  \n",
       "4     3       77  "
      ]
     },
     "execution_count": 60,
     "metadata": {},
     "output_type": "execute_result"
    }
   ],
   "source": [
    "# check out our work\n",
    "dc_eats.head()"
   ]
  },
  {
   "cell_type": "markdown",
   "metadata": {},
   "source": [
    "Awesome! We succeeded.\n",
    "\n",
    "<a id=\"selenium-typing\"></a>\n",
    "### Auto-typing using Selenium\n",
    "\n",
    "Now, let's explore some of the other functionality of a webdriver. We've barely scratched the surface."
   ]
  },
  {
   "cell_type": "code",
   "execution_count": 61,
   "metadata": {
    "ExecuteTime": {
     "end_time": "2019-10-11T15:42:06.948414Z",
     "start_time": "2019-10-11T15:42:06.945993Z"
    }
   },
   "outputs": [],
   "source": [
    "# we can send keys as well\n",
    "# import\n",
    "from selenium.webdriver.common.keys import Keys"
   ]
  },
  {
   "cell_type": "code",
   "execution_count": 66,
   "metadata": {
    "ExecuteTime": {
     "end_time": "2019-10-11T15:47:06.107874Z",
     "start_time": "2019-10-11T15:47:03.595246Z"
    }
   },
   "outputs": [],
   "source": [
    "# open Firefox\n",
    "driver = webdriver.Chrome(executable_path=\"./practice/chromedriver/chromedriver\")\n",
    "# visit Python\n",
    "driver.get(\"http://www.python.org\")\n",
    "# verify we're in the right place\n",
    "assert \"Python\" in driver.title"
   ]
  },
  {
   "cell_type": "markdown",
   "metadata": {},
   "source": [
    "Let's try automatedly typing `pycon` in the search box and hitting the return key:"
   ]
  },
  {
   "cell_type": "code",
   "execution_count": 67,
   "metadata": {
    "ExecuteTime": {
     "end_time": "2019-10-11T15:47:11.149902Z",
     "start_time": "2019-10-11T15:47:10.348267Z"
    }
   },
   "outputs": [],
   "source": [
    "# find the search position\n",
    "elem = driver.find_element_by_name(\"q\")\n",
    "\n",
    "# clear it\n",
    "elem.clear()\n",
    "\n",
    "# type in pycon\n",
    "elem.send_keys(\"pycon\")\n",
    "\n",
    "# send those keys\n",
    "elem.send_keys(Keys.RETURN)"
   ]
  },
  {
   "cell_type": "code",
   "execution_count": 68,
   "metadata": {
    "ExecuteTime": {
     "end_time": "2019-10-11T15:48:05.987856Z",
     "start_time": "2019-10-11T15:48:05.770064Z"
    }
   },
   "outputs": [],
   "source": [
    "# close\n",
    "driver.close()"
   ]
  },
  {
   "cell_type": "code",
   "execution_count": 70,
   "metadata": {
    "ExecuteTime": {
     "end_time": "2019-10-11T15:48:29.482646Z",
     "start_time": "2019-10-11T15:48:26.124569Z"
    }
   },
   "outputs": [],
   "source": [
    "# all at once:\n",
    "driver = webdriver.Chrome(executable_path=\"./practice/chromedriver/chromedriver\")\n",
    "driver.get(\"http://www.python.org\")\n",
    "assert \"Python\" in driver.title\n",
    "\n",
    "elem = driver.find_element_by_name(\"q\")\n",
    "elem.clear()\n",
    "elem.send_keys(\"pycon\")\n",
    "elem.send_keys(Keys.RETURN)\n",
    "#assert \"No results found.\" not in driver.page_source\n",
    "driver.close()"
   ]
  },
  {
   "cell_type": "markdown",
   "metadata": {},
   "source": [
    "The above example (and many others) are available in the Selenium docs: http://selenium-python.readthedocs.io/getting-started.html\n",
    "\n",
    "What is especially important is exploring functionality like locating elements: http://selenium-python.readthedocs.io/locating-elements.html#locating-elements\n",
    "\n",
    "FAQ:\n",
    "http://selenium-python.readthedocs.io/faq.html"
   ]
  },
  {
   "cell_type": "markdown",
   "metadata": {},
   "source": [
    "### Summary\n",
    "\n",
    "In this lesson, we used the Beautiful Soup library to locate elements on a website then scrape their text. We also used the Selenium headless browser to run JavaScript first before retrieving the page contents."
   ]
  }
 ],
 "metadata": {
  "anaconda-cloud": {},
  "kernelspec": {
   "display_name": "Python 3",
   "language": "python",
   "name": "python3"
  },
  "language_info": {
   "codemirror_mode": {
    "name": "ipython",
    "version": 3
   },
   "file_extension": ".py",
   "mimetype": "text/x-python",
   "name": "python",
   "nbconvert_exporter": "python",
   "pygments_lexer": "ipython3",
   "version": "3.7.4"
  },
  "toc": {
   "base_numbering": 1,
   "nav_menu": {},
   "number_sections": true,
   "sideBar": true,
   "skip_h1_title": false,
   "title_cell": "Table of Contents",
   "title_sidebar": "Contents",
   "toc_cell": false,
   "toc_position": {},
   "toc_section_display": true,
   "toc_window_display": false
  },
  "varInspector": {
   "cols": {
    "lenName": 16,
    "lenType": 16,
    "lenVar": 40
   },
   "kernels_config": {
    "python": {
     "delete_cmd_postfix": "",
     "delete_cmd_prefix": "del ",
     "library": "var_list.py",
     "varRefreshCmd": "print(var_dic_list())"
    },
    "r": {
     "delete_cmd_postfix": ") ",
     "delete_cmd_prefix": "rm(",
     "library": "var_list.r",
     "varRefreshCmd": "cat(var_dic_list()) "
    }
   },
   "types_to_exclude": [
    "module",
    "function",
    "builtin_function_or_method",
    "instance",
    "_Feature"
   ],
   "window_display": false
  }
 },
 "nbformat": 4,
 "nbformat_minor": 1
}
