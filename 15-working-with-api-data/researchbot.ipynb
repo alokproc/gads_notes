{
 "cells": [
  {
   "cell_type": "code",
   "execution_count": 4,
   "metadata": {},
   "outputs": [],
   "source": [
    "from selenium import webdriver\n",
    "from selenium.webdriver.common.keys import Keys\n",
    "\n",
    "driver = webdriver.Chrome(executable_path=\"./practice/chromedriver/chromedriver\")\n",
    "    \n",
    "driver = webdriver.Chrome(executable_path=\"./practice/chromedriver/chromedriver\")\n",
    "\n",
    "\n",
    "driver.get(\"https://www.google.com\")\n",
    "elem = driver.find_element_by_name(\"q\")\n",
    "elem.clear()\n",
    "elem.send_keys(\"Smart Nation Singapore\")\n",
    "elem.send_keys(Keys.RETURN)\n",
    "\n",
    "#print(driver.current_url)"
   ]
  },
  {
   "cell_type": "code",
   "execution_count": 6,
   "metadata": {},
   "outputs": [
    {
     "data": {
      "text/plain": [
       "[]"
      ]
     },
     "execution_count": 6,
     "metadata": {},
     "output_type": "execute_result"
    }
   ],
   "source": [
    "#acquire URLs\n",
    "\n",
    "\n",
    "from bs4 import BeautifulSoup\n",
    "import requests\n",
    "\n",
    "html = requests.get(driver.current_url)\n",
    "\n",
    "soup_cl = BeautifulSoup(html.text, 'html.parser')\n",
    "\n",
    "\n",
    "results = soup_cl.find_all('div', attrs={'class': 'TbwUpd'}, limit=5 )\n",
    "research_urls = []\n",
    "for result in results:\n",
    "    result_dict = {}\n",
    "    result_dict['url'] = result.find('cite').text\n",
    "    research_urls.append(result_dict)\n",
    "\n",
    "research_urls\n",
    "\n",
    "\n",
    "#this is returning an empty list. It works, but the results aren't appearing \n"
   ]
  },
  {
   "cell_type": "code",
   "execution_count": null,
   "metadata": {},
   "outputs": [],
   "source": [
    "# open the first n URLs \n"
   ]
  }
 ],
 "metadata": {
  "kernelspec": {
   "display_name": "Python 3",
   "language": "python",
   "name": "python3"
  },
  "language_info": {
   "codemirror_mode": {
    "name": "ipython",
    "version": 3
   },
   "file_extension": ".py",
   "mimetype": "text/x-python",
   "name": "python",
   "nbconvert_exporter": "python",
   "pygments_lexer": "ipython3",
   "version": "3.7.4"
  }
 },
 "nbformat": 4,
 "nbformat_minor": 2
}
