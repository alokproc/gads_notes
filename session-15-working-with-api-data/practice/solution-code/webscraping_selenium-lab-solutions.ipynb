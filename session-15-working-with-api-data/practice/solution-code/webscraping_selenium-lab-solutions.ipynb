{
 "cells": [
  {
   "cell_type": "markdown",
   "metadata": {
    "collapsed": true
   },
   "source": [
    "<img src=\"http://imgur.com/1ZcRyrc.png\" style=\"float: left; margin: 20px; height: 55px\">\n",
    "\n",
    "# Webscraping OpenTable with Selenium: Guided Lab\n",
    "\n",
    "_Authors: Joseph Nelson (DC)_\n",
    "\n",
    "---\n",
    "\n",
    "> *Note: this lab is intended to be instructor-guided.*\n",
    "\n",
    "\n",
    "In today's codealong lab, we will build a scraper using urllib and BeautifulSoup. We will remedy some of the pitfalls of automated scraping by using a a \"headless\" browser called Selenium.\n",
    "\n",
    "You will be scraping OpenTable's DC listings. We're interested in knowing the restaurant's **name, location, price, and how many people booked it today.**\n",
    "\n",
    "OpenTable provides all of this information on this given page: http://www.opentable.com/washington-dc-restaurant-listings."
   ]
  },
  {
   "cell_type": "markdown",
   "metadata": {},
   "source": [
    "### 1. Inspect the elements of this page to assure we can find each of the bits of information in which we're interested."
   ]
  },
  {
   "cell_type": "markdown",
   "metadata": {},
   "source": [
    "### 2. Use `urllib` and `BeautifulSoup` to read the contents of the HTML."
   ]
  },
  {
   "cell_type": "code",
   "execution_count": 1,
   "metadata": {
    "ExecuteTime": {
     "end_time": "2019-10-11T14:58:32.226769Z",
     "start_time": "2019-10-11T14:58:32.085749Z"
    },
    "scrolled": true
   },
   "outputs": [],
   "source": [
    "from bs4 import BeautifulSoup\n",
    "import requests"
   ]
  },
  {
   "cell_type": "code",
   "execution_count": 2,
   "metadata": {
    "ExecuteTime": {
     "end_time": "2019-10-11T14:58:33.540551Z",
     "start_time": "2019-10-11T14:58:32.873425Z"
    }
   },
   "outputs": [],
   "source": [
    "# set the url we want to visit\n",
    "url = \"http://www.opentable.com/washington-dc-restaurant-listings\"\n",
    "\n",
    "# visit that url, and grab the html of said page\n",
    "html = requests.get(url).text"
   ]
  },
  {
   "cell_type": "markdown",
   "metadata": {},
   "source": [
    "### 3. Print out the HTML (only print a fraction of it). What is in it?"
   ]
  },
  {
   "cell_type": "code",
   "execution_count": 3,
   "metadata": {
    "ExecuteTime": {
     "end_time": "2019-10-11T14:58:37.633436Z",
     "start_time": "2019-10-11T14:58:37.624506Z"
    }
   },
   "outputs": [
    {
     "data": {
      "text/plain": [
       "534594"
      ]
     },
     "execution_count": 3,
     "metadata": {},
     "output_type": "execute_result"
    }
   ],
   "source": [
    "len(html)"
   ]
  },
  {
   "cell_type": "code",
   "execution_count": 4,
   "metadata": {
    "ExecuteTime": {
     "end_time": "2019-10-11T14:58:38.094534Z",
     "start_time": "2019-10-11T14:58:38.091039Z"
    }
   },
   "outputs": [
    {
     "data": {
      "text/plain": [
       "'           <!DOCTYPE html><html lang=\"en\"><head><meta charset=\"utf-8\"/><meta http-equiv=\"X-UA-Compatible\" content=\"IE=9; IE=8; IE=7; IE=EDGE\"/> <title>Restaurant Reservation Availability</title>    <meta  name=\"robots\" content=\"noindex,nofollow\" > </meta>     <link rel=\"shortcut icon\" href=\"//components.otstatic.com/components/favicon/1.0.6/favicon/favicon.ico\" type=\"image/x-icon\"/><link rel=\"icon\" href=\"//components.otstatic.com/components/favicon/1.0.6/favicon/favicon-16.png\" sizes=\"16x16\"/><link rel=\"icon\" href=\"//components.otstatic.com/components/favicon/1.0.6/favicon/favicon-32.png\" sizes=\"32x32\"/><link rel=\"icon\" href=\"//components.otstatic.com/components/favicon/1.0.6/favicon/favicon-48.png\" sizes=\"48x48\"/><link rel=\"icon\" href=\"//components.otstatic.com/components/favicon/1.0.6/favicon/favicon-64.png\" sizes=\"64x64\"/><link rel=\"icon\" href=\"//components.otstatic.com/components/favicon/1.0.6/favicon/favicon-128.png\" sizes=\"128x128\"/><link rel=\"apple-touch-icon-precomposed\" sizes='"
      ]
     },
     "execution_count": 4,
     "metadata": {},
     "output_type": "execute_result"
    }
   ],
   "source": [
    "html[0:1000]"
   ]
  },
  {
   "cell_type": "code",
   "execution_count": 5,
   "metadata": {
    "ExecuteTime": {
     "end_time": "2019-10-11T14:58:42.960721Z",
     "start_time": "2019-10-11T14:58:42.958591Z"
    }
   },
   "outputs": [],
   "source": [
    "# This is the raw HTML of the page."
   ]
  },
  {
   "cell_type": "markdown",
   "metadata": {},
   "source": [
    "### 4. Use Beautiful Soup to convert the raw HTML into a soup object."
   ]
  },
  {
   "cell_type": "code",
   "execution_count": 6,
   "metadata": {
    "ExecuteTime": {
     "end_time": "2019-10-11T14:58:46.439572Z",
     "start_time": "2019-10-11T14:58:46.201341Z"
    }
   },
   "outputs": [],
   "source": [
    "# we need to convert this into a soup object\n",
    "soup = BeautifulSoup(html, 'html.parser')"
   ]
  },
  {
   "cell_type": "markdown",
   "metadata": {},
   "source": [
    "### 5. Extract the name of each restaurant.\n",
    "\n",
    "Let's first find each restaurant name listed on the page we've loaded. How do we find the page location of the restaurant? \n",
    "\n",
    "> *Hint: we need to know where in the **html** the restaurant element is housed.*\n",
    "\n",
    "**5.A See if you can find the restaurant name on the page. Keep in mind there are many restaurants loaded on the page.**"
   ]
  },
  {
   "cell_type": "code",
   "execution_count": 7,
   "metadata": {
    "ExecuteTime": {
     "end_time": "2019-10-11T14:58:59.288139Z",
     "start_time": "2019-10-11T14:58:59.257380Z"
    }
   },
   "outputs": [
    {
     "name": "stdout",
     "output_type": "stream",
     "text": [
      "[<span class=\"rest-row-name-text\">Casimir Murphy</span>, <span class=\"rest-row-name-text\">Tillman Crossing</span>, <span class=\"rest-row-name-text\">Herminas</span>, <span class=\"rest-row-name-text\">Rue</span>, <span class=\"rest-row-name-text\">Quos Light</span>, <span class=\"rest-row-name-text\">Lessies</span>, <span class=\"rest-row-name-text\">Kozey</span>, <span class=\"rest-row-name-text\">Molestias Harbor</span>, <span class=\"rest-row-name-text\">Israel Dam</span>, <span class=\"rest-row-name-text\">Martina Wolff</span>, <span class=\"rest-row-name-text\">Burgs</span>, <span class=\"rest-row-name-text\">Franco Muller</span>, <span class=\"rest-row-name-text\">Sunt Legros</span>, <span class=\"rest-row-name-text\">1045 Bartell</span>, <span class=\"rest-row-name-text\">Eos</span>, <span class=\"rest-row-name-text\">Fort</span>, <span class=\"rest-row-name-text\">Donnys</span>, <span class=\"rest-row-name-text\">Aurelie Village</span>, <span class=\"rest-row-name-text\">Enim Vista</span>, <span class=\"rest-row-name-text\">Quis Sipes</span>]\n"
     ]
    }
   ],
   "source": [
    "# print the restaurant names\n",
    "print(soup.find_all('span', {'class': 'rest-row-name-text'})[0:20])"
   ]
  },
  {
   "cell_type": "markdown",
   "metadata": {},
   "source": [
    "**5.B Create a list of _only_ the restaurant names (no tags).**\n"
   ]
  },
  {
   "cell_type": "code",
   "execution_count": 8,
   "metadata": {
    "ExecuteTime": {
     "end_time": "2019-10-11T14:59:04.877149Z",
     "start_time": "2019-10-11T14:59:04.845877Z"
    }
   },
   "outputs": [],
   "source": [
    "r_names = []\n",
    "\n",
    "# for each element you find, print out the restaurant name\n",
    "for entry in soup.find_all('span', {'class': 'rest-row-name-text'}):\n",
    "    r_names.append(entry.text)"
   ]
  },
  {
   "cell_type": "code",
   "execution_count": 9,
   "metadata": {
    "ExecuteTime": {
     "end_time": "2019-10-11T14:59:18.476549Z",
     "start_time": "2019-10-11T14:59:18.472844Z"
    }
   },
   "outputs": [
    {
     "data": {
      "text/plain": [
       "['Casimir Murphy',\n",
       " 'Tillman Crossing',\n",
       " 'Herminas',\n",
       " 'Rue',\n",
       " 'Quos Light',\n",
       " 'Lessies',\n",
       " 'Kozey',\n",
       " 'Molestias Harbor',\n",
       " 'Israel Dam',\n",
       " 'Martina Wolff',\n",
       " 'Burgs',\n",
       " 'Franco Muller',\n",
       " 'Sunt Legros',\n",
       " '1045 Bartell',\n",
       " 'Eos',\n",
       " 'Fort',\n",
       " 'Donnys',\n",
       " 'Aurelie Village',\n",
       " 'Enim Vista',\n",
       " 'Quis Sipes']"
      ]
     },
     "execution_count": 9,
     "metadata": {},
     "output_type": "execute_result"
    }
   ],
   "source": [
    "r_names[0:20]"
   ]
  },
  {
   "cell_type": "markdown",
   "metadata": {},
   "source": [
    "### 6. Repeat this process but for location.\n",
    "\n",
    "For example, barmini by Jose Andres is in the location listed as \"Penn Quarter\" in our search results."
   ]
  },
  {
   "cell_type": "code",
   "execution_count": 10,
   "metadata": {
    "ExecuteTime": {
     "end_time": "2019-10-11T14:59:31.610264Z",
     "start_time": "2019-10-11T14:59:31.579191Z"
    }
   },
   "outputs": [
    {
     "name": "stdout",
     "output_type": "stream",
     "text": [
      "[<span class=\"rest-row-meta--location rest-row-meta-text\">West Pattiemouth</span>, <span class=\"rest-row-meta--location rest-row-meta-text\">Brendenfurt</span>, <span class=\"rest-row-meta--location rest-row-meta-text\">East Addison</span>, <span class=\"rest-row-meta--location rest-row-meta-text\">Duncanberg</span>, <span class=\"rest-row-meta--location rest-row-meta-text\">East Jaquelineside</span>]\n"
     ]
    }
   ],
   "source": [
    "# first, see if you can identify the location for all elements -- print it out\n",
    "print(soup.find_all('span', {'class': 'rest-row-meta--location rest-row-meta-text'})[0:5])"
   ]
  },
  {
   "cell_type": "code",
   "execution_count": 11,
   "metadata": {
    "ExecuteTime": {
     "end_time": "2019-10-11T14:59:32.248762Z",
     "start_time": "2019-10-11T14:59:32.217320Z"
    }
   },
   "outputs": [
    {
     "data": {
      "text/plain": [
       "['West Pattiemouth',\n",
       " 'Brendenfurt',\n",
       " 'East Addison',\n",
       " 'Duncanberg',\n",
       " 'East Jaquelineside',\n",
       " 'Adahville',\n",
       " 'East Rogeliomouth',\n",
       " 'South Seamusland',\n",
       " 'South Brandy',\n",
       " 'North Clarabelle']"
      ]
     },
     "execution_count": 11,
     "metadata": {},
     "output_type": "execute_result"
    }
   ],
   "source": [
    "r_loc = []\n",
    "for entry in soup.find_all('span', {'class': 'rest-row-meta--location rest-row-meta-text'}):\n",
    "    r_loc.append(entry.text)\n",
    "    \n",
    "r_loc[0:10]"
   ]
  },
  {
   "cell_type": "markdown",
   "metadata": {},
   "source": [
    "### 7. Get the price for each restaurant.\n",
    "\n",
    "The price is number of dollar signs on a scale of one to four for each restaurant. We'll follow the same process."
   ]
  },
  {
   "cell_type": "code",
   "execution_count": 12,
   "metadata": {
    "ExecuteTime": {
     "end_time": "2019-10-11T14:59:36.262802Z",
     "start_time": "2019-10-11T14:59:36.228273Z"
    }
   },
   "outputs": [
    {
     "name": "stdout",
     "output_type": "stream",
     "text": [
      "[<div class=\"rest-row-pricing\"> <i class=\"pricing--the-price\">  $    $    $    $  </i> <span class=\"pricing--not-the-price\"> </span></div>, <div class=\"rest-row-pricing\"> <i class=\"pricing--the-price\">  $    $    $    </i> <span class=\"pricing--not-the-price\">  $        </span></div>, <div class=\"rest-row-pricing\"> <i class=\"pricing--the-price\">  $    $    $    </i> <span class=\"pricing--not-the-price\">  $        </span></div>, <div class=\"rest-row-pricing\"> <i class=\"pricing--the-price\">  $    $      </i> <span class=\"pricing--not-the-price\">  $    $      </span></div>, <div class=\"rest-row-pricing\"> <i class=\"pricing--the-price\">  $    $    $    </i> <span class=\"pricing--not-the-price\">  $        </span></div>]\n"
     ]
    }
   ],
   "source": [
    "# print out all prices\n",
    "print(soup.find_all('div', {'class': 'rest-row-pricing'})[0:5])"
   ]
  },
  {
   "cell_type": "code",
   "execution_count": 13,
   "metadata": {
    "ExecuteTime": {
     "end_time": "2019-10-11T14:59:44.088809Z",
     "start_time": "2019-10-11T14:59:44.050458Z"
    }
   },
   "outputs": [
    {
     "data": {
      "text/plain": [
       "['  $    $    $    $  ',\n",
       " '  $    $    $    ',\n",
       " '  $    $    $    ',\n",
       " '  $    $      ',\n",
       " '  $    $    $    ',\n",
       " '  $    $    $    ',\n",
       " '  $    $    $    $  ',\n",
       " '  $    $    $    $  ',\n",
       " '  $    $      ',\n",
       " '  $    $    $    ']"
      ]
     },
     "execution_count": 13,
     "metadata": {},
     "output_type": "execute_result"
    }
   ],
   "source": [
    "r_dollars = []\n",
    "\n",
    "# get EACH number of dollar signs per restaurant\n",
    "# this one is trickier to eliminate the html. Hint: try a nested find\n",
    "for entry in soup.find_all('div', {'class': 'rest-row-pricing'}):\n",
    "    r_dollars.append(entry.find('i').text)\n",
    "    \n",
    "r_dollars[0:10]"
   ]
  },
  {
   "cell_type": "markdown",
   "metadata": {},
   "source": [
    "**7.B Convert the dollar sign strings to a count of the number of dollar signs.**\n",
    "\n",
    "Can you figure out a way to simply print out the number of dollar signs per restaurant listed?"
   ]
  },
  {
   "cell_type": "code",
   "execution_count": 14,
   "metadata": {
    "ExecuteTime": {
     "end_time": "2019-10-11T14:59:52.768773Z",
     "start_time": "2019-10-11T14:59:52.725705Z"
    }
   },
   "outputs": [
    {
     "data": {
      "text/plain": [
       "[4, 3, 3, 2, 3, 3, 4, 4, 2, 3]"
      ]
     },
     "execution_count": 14,
     "metadata": {},
     "output_type": "execute_result"
    }
   ],
   "source": [
    "r_dollar_count = []\n",
    "\n",
    "for entry in soup.find_all('div', {'class': 'rest-row-pricing'}):\n",
    "    price = entry.find('i').text\n",
    "    r_dollar_count.append(price.count('$'))\n",
    "    \n",
    "r_dollar_count[0:10]"
   ]
  },
  {
   "cell_type": "markdown",
   "metadata": {},
   "source": [
    "### 8. Can you find the number of times a restaurant was booked.\n",
    "\n",
    "In the next cell, print out a sample of objects that contain the number of times the restaurant was booked.\n",
    "\n",
    "> *Note: if you can't, why do you think this is happening?*"
   ]
  },
  {
   "cell_type": "code",
   "execution_count": 15,
   "metadata": {
    "ExecuteTime": {
     "end_time": "2019-10-11T14:59:56.567034Z",
     "start_time": "2019-10-11T14:59:56.536385Z"
    }
   },
   "outputs": [
    {
     "name": "stdout",
     "output_type": "stream",
     "text": [
      "[]\n"
     ]
    }
   ],
   "source": [
    "# print out all objects that contain the number of times the restaurant was booked\n",
    "print(soup.find_all('span', {'class': 'tadpole'})[0:20])"
   ]
  },
  {
   "cell_type": "markdown",
   "metadata": {},
   "source": [
    "That's weird -- an empty set. Did we find the wrong element? What's going on here? Discuss.\n",
    "\n",
    "How can we debug this? Any ideas?"
   ]
  },
  {
   "cell_type": "code",
   "execution_count": 16,
   "metadata": {
    "ExecuteTime": {
     "end_time": "2019-10-11T14:59:59.298059Z",
     "start_time": "2019-10-11T14:59:59.287266Z"
    }
   },
   "outputs": [
    {
     "name": "stdout",
     "output_type": "stream",
     "text": [
      "<span class=\"menu-list-link-meta\">4824</span>\n",
      "<span class=\"menu-list-link-meta\">957</span>\n",
      "<span class=\"menu-list-link-meta\">2393</span>\n",
      "<span class=\"menu-list-link-meta\">1474</span>\n",
      "<span>Home</span>\n",
      "<span><span>United States</span></span>\n",
      "<span>United States</span>\n",
      "<span>Washington, D.C. Area</span>\n",
      "<span class=\"show-filter-text\">Show filters</span>\n",
      "<span class=\"hide-filter-text\">Hide filters</span>\n",
      "<span aria-live=\"assertive\" id=\"loading_message\" style=\"opacity: 0\"></span>\n",
      "<span class=\"sort-dropdown__option-text\">Featured</span>\n",
      "<span class=\"sort-dropdown__option-text\">A-Z</span>\n",
      "<span class=\"sort-dropdown__option-text\">Highest Rated</span>\n",
      "<span class=\"sort-dropdown__option-text\">Newest</span>\n",
      "<span class=\"pref-label\" id=\"a11y-view-list\">List</span>\n",
      "<span class=\"pref-label\" id=\"a11y-view-map\">Map</span>\n",
      "<span class=\"rest-row-name-text\">Casimir Murphy</span>\n",
      "<span class=\"pricing--not-the-price\"> </span>\n",
      "<span class=\"rest-row-meta--cuisine rest-row-meta-text\">Mediterranean</span>\n",
      "<span class=\"rest-row-meta--location rest-row-meta-text\">West Pattiemouth</span>\n",
      "<span>6:15</span>\n",
      "<span>6:30</span>\n",
      "<span>7:00</span>\n",
      "<span>7:15</span>\n",
      "<span>7:30</span>\n",
      "<span class=\"rest-row-name-text\">Tillman Crossing</span>\n",
      "<span class=\"pricing--not-the-price\">  $        </span>\n",
      "<span class=\"rest-row-meta--cuisine rest-row-meta-text\">Indonesian</span>\n",
      "<span class=\"rest-row-meta--location rest-row-meta-text\">Brendenfurt</span>\n"
     ]
    }
   ],
   "source": [
    "# let's first try printing out all 'span' class objects\n",
    "for entry in soup.find_all('span')[0:30]:\n",
    "    print(entry)"
   ]
  },
  {
   "cell_type": "code",
   "execution_count": 49,
   "metadata": {
    "collapsed": true
   },
   "outputs": [],
   "source": [
    "# Can't find the booking count in the object. This requires javascript."
   ]
  },
  {
   "cell_type": "markdown",
   "metadata": {},
   "source": [
    "## Enter Selenium\n",
    "\n",
    "---\n",
    "\n",
    "Selenium is a headless browser. That means it enables us to mock human browsing behavior -- even waiting for JavaScript elements to load.\n",
    "\n",
    "If you do not already have Selenium installed, you can do so via pip. Simply: `pip install selenium`"
   ]
  },
  {
   "cell_type": "code",
   "execution_count": 2,
   "metadata": {
    "ExecuteTime": {
     "end_time": "2019-10-11T15:49:12.194865Z",
     "start_time": "2019-10-11T15:49:12.192587Z"
    }
   },
   "outputs": [],
   "source": [
    "# import\n",
    "from selenium import webdriver"
   ]
  },
  {
   "cell_type": "markdown",
   "metadata": {},
   "source": [
    "Selenium requires us to determine a default browser to run. I'm going to opt for Firefox, but Chromium is also a very common choice. http://selenium-python.readthedocs.io/faq.html"
   ]
  },
  {
   "cell_type": "markdown",
   "metadata": {
    "collapsed": true
   },
   "source": [
    "### 9. What is going to happen when I run the next cell?\n",
    "\n",
    "The chromedriver has been provided in the 'chromedriver' folder so no reason to download another."
   ]
  },
  {
   "cell_type": "code",
   "execution_count": 18,
   "metadata": {
    "ExecuteTime": {
     "end_time": "2019-10-11T15:01:14.915132Z",
     "start_time": "2019-10-11T15:01:12.212387Z"
    }
   },
   "outputs": [],
   "source": [
    "# create a driver called driver\n",
    "driver = webdriver.Chrome(executable_path=\"../chromedriver/chromedriver\")"
   ]
  },
  {
   "cell_type": "markdown",
   "metadata": {},
   "source": [
    "Pretty crazy, right? Let's close that driver. \n",
    "\n",
    "In case you're wondering. this should have opened up a new browswer window.  Check all of your desktop displays if you didn't see it automatically pop up. "
   ]
  },
  {
   "cell_type": "code",
   "execution_count": 19,
   "metadata": {
    "ExecuteTime": {
     "end_time": "2019-10-11T15:01:23.748611Z",
     "start_time": "2019-10-11T15:01:23.622207Z"
    }
   },
   "outputs": [],
   "source": [
    "# close it\n",
    "driver.close()"
   ]
  },
  {
   "cell_type": "markdown",
   "metadata": {},
   "source": [
    "### 10. Use the driver to visit `www.python.org`"
   ]
  },
  {
   "cell_type": "code",
   "execution_count": 20,
   "metadata": {
    "ExecuteTime": {
     "end_time": "2019-10-11T15:01:34.278230Z",
     "start_time": "2019-10-11T15:01:31.452355Z"
    }
   },
   "outputs": [],
   "source": [
    "# let's boot it up, and visit a URL of our choice\n",
    "driver = webdriver.Chrome(executable_path=\"../chromedriver/chromedriver\")\n",
    "driver.get(\"http://www.python.org\")"
   ]
  },
  {
   "cell_type": "markdown",
   "metadata": {},
   "source": [
    "Awesome. Now we're getting somewhere: programmatically controlling our browser like a human."
   ]
  },
  {
   "cell_type": "markdown",
   "metadata": {},
   "source": [
    "### 11. Visit the OpenTable page using the driver\n",
    "\n",
    "Let's return to our problem at hand. We need to visit the OpenTable listing for DC. Once there, we need to get the html to load. \n",
    "\n",
    "In the next cell, prove you can programmatically visit the page."
   ]
  },
  {
   "cell_type": "code",
   "execution_count": 21,
   "metadata": {
    "ExecuteTime": {
     "end_time": "2019-10-11T15:02:10.870059Z",
     "start_time": "2019-10-11T15:01:51.692314Z"
    }
   },
   "outputs": [],
   "source": [
    "# visit our OpenTable page\n",
    "driver = webdriver.Chrome(executable_path=\"../chromedriver/chromedriver\")\n",
    "driver.get(\"http://www.opentable.com/washington-dc-restaurant-listings\")\n",
    "\n",
    "# always good to check we've got the page we think we do\n",
    "assert \"OpenTable\" in driver.title"
   ]
  },
  {
   "cell_type": "markdown",
   "metadata": {},
   "source": [
    "### 12. Resolve the javascript issue using the driver and find the bookings.\n",
    "\n",
    "What we can do in this case is:\n",
    "1. Request that the page load\n",
    "2. wait one second\n",
    "3. grab the source html from the page \n",
    "\n",
    "Because the page should believe I'm visiting from a live connection on a browser client, the JavaScript should render to be a part of the page source. I can then grab the page source.\n",
    "\n",
    "**Once you have the HTML with the javascript rendered, repeat the processes above to find the bookings.**"
   ]
  },
  {
   "cell_type": "code",
   "execution_count": 22,
   "metadata": {
    "ExecuteTime": {
     "end_time": "2019-10-11T15:02:18.540869Z",
     "start_time": "2019-10-11T15:02:18.538467Z"
    }
   },
   "outputs": [],
   "source": [
    "# import sleep\n",
    "from time import sleep"
   ]
  },
  {
   "cell_type": "code",
   "execution_count": 23,
   "metadata": {
    "ExecuteTime": {
     "end_time": "2019-10-11T15:02:46.618971Z",
     "start_time": "2019-10-11T15:02:36.909339Z"
    }
   },
   "outputs": [],
   "source": [
    "# visit our relevant page\n",
    "driver = webdriver.Chrome(executable_path=\"../chromedriver/chromedriver\")\n",
    "driver.get(\"http://www.opentable.com/washington-dc-restaurant-listings\")\n",
    "\n",
    "# wait one second\n",
    "sleep(1)\n",
    "\n",
    "#grab the page source\n",
    "html = driver.page_source"
   ]
  },
  {
   "cell_type": "code",
   "execution_count": 24,
   "metadata": {
    "ExecuteTime": {
     "end_time": "2019-10-11T15:02:50.335837Z",
     "start_time": "2019-10-11T15:02:50.064226Z"
    }
   },
   "outputs": [],
   "source": [
    "# BeautifulSoup it!\n",
    "html = BeautifulSoup(html, 'lxml')"
   ]
  },
  {
   "cell_type": "code",
   "execution_count": 32,
   "metadata": {
    "collapsed": true
   },
   "outputs": [],
   "source": [
    "# Now, let's return to our earlier problem: how do we locate bookings on the page?"
   ]
  },
  {
   "cell_type": "code",
   "execution_count": 25,
   "metadata": {
    "ExecuteTime": {
     "end_time": "2019-10-11T15:02:55.648127Z",
     "start_time": "2019-10-11T15:02:55.592433Z"
    }
   },
   "outputs": [
    {
     "name": "stdout",
     "output_type": "stream",
     "text": [
      "[<div class=\"booking\"><span class=\"tadpole\"></span>Booked 24 times today</div>, <div class=\"booking\"><span class=\"tadpole\"></span>Booked 511 times today</div>, <div class=\"booking\"><span class=\"tadpole\"></span>Booked 205 times today</div>, <div class=\"booking\"><span class=\"tadpole\"></span>Booked 193 times today</div>, <div class=\"booking\"><span class=\"tadpole\"></span>Booked 22 times today</div>, <div class=\"booking\"><span class=\"tadpole\"></span>Booked 181 times today</div>, <div class=\"booking\"><span class=\"tadpole\"></span>Booked 76 times today</div>, <div class=\"booking\"><span class=\"tadpole\"></span>Booked 80 times today</div>, <div class=\"booking\"><span class=\"tadpole\"></span>Booked 62 times today</div>, <div class=\"booking\"><span class=\"tadpole\"></span>Booked 16 times today</div>]\n"
     ]
    }
   ],
   "source": [
    "# print out the number bookings for all restaurants\n",
    "print(html.find_all('div', {'class':'booking'})[0:10])"
   ]
  },
  {
   "cell_type": "code",
   "execution_count": 26,
   "metadata": {
    "ExecuteTime": {
     "end_time": "2019-10-11T15:03:00.709084Z",
     "start_time": "2019-10-11T15:03:00.656166Z"
    }
   },
   "outputs": [
    {
     "data": {
      "text/plain": [
       "['Booked 24 times today',\n",
       " 'Booked 511 times today',\n",
       " 'Booked 205 times today',\n",
       " 'Booked 193 times today',\n",
       " 'Booked 22 times today',\n",
       " 'Booked 181 times today',\n",
       " 'Booked 76 times today',\n",
       " 'Booked 80 times today',\n",
       " 'Booked 62 times today',\n",
       " 'Booked 16 times today',\n",
       " 'Booked 66 times today',\n",
       " 'Booked 104 times today',\n",
       " 'Booked 62 times today',\n",
       " 'Booked 77 times today',\n",
       " 'Booked 62 times today']"
      ]
     },
     "execution_count": 26,
     "metadata": {},
     "output_type": "execute_result"
    }
   ],
   "source": [
    "r_bookings = []\n",
    "for booking in html.find_all('div', {'class':'booking'}):\n",
    "    r_bookings.append(booking.text)\n",
    "    \n",
    "r_bookings[0:15]"
   ]
  },
  {
   "cell_type": "code",
   "execution_count": 27,
   "metadata": {
    "ExecuteTime": {
     "end_time": "2019-10-11T15:03:53.749172Z",
     "start_time": "2019-10-11T15:03:53.746972Z"
    }
   },
   "outputs": [],
   "source": [
    "# We've succeeded!\n",
    "\n",
    "# But we can clean this up a little bit. \n",
    "# We're going to use regular expressions (regex) to grab only the \n",
    "# digits that are available in each of the text.\n",
    "\n",
    "# The best way to get good at regex is to, well, just keep trying and testing: http://pythex.org/"
   ]
  },
  {
   "cell_type": "code",
   "execution_count": 28,
   "metadata": {
    "ExecuteTime": {
     "end_time": "2019-10-11T15:03:55.075982Z",
     "start_time": "2019-10-11T15:03:55.073171Z"
    }
   },
   "outputs": [],
   "source": [
    "# import regex\n",
    "import re"
   ]
  },
  {
   "cell_type": "code",
   "execution_count": 29,
   "metadata": {
    "ExecuteTime": {
     "end_time": "2019-10-11T15:03:56.259786Z",
     "start_time": "2019-10-11T15:03:56.257563Z"
    }
   },
   "outputs": [],
   "source": [
    "# Given we haven't covered regex, I'll show you how to use the search function to match any given digit."
   ]
  },
  {
   "cell_type": "code",
   "execution_count": 30,
   "metadata": {
    "ExecuteTime": {
     "end_time": "2019-10-11T15:04:09.293281Z",
     "start_time": "2019-10-11T15:04:09.236127Z"
    }
   },
   "outputs": [
    {
     "data": {
      "text/plain": [
       "[24, 511, 205, 193, 22, 181, 76, 80, 62, 16, 66, 104, 62, 77, 62]"
      ]
     },
     "execution_count": 30,
     "metadata": {},
     "output_type": "execute_result"
    }
   ],
   "source": [
    "r_bookings_num = []\n",
    "\n",
    "# for each entry, grab the text\n",
    "for booking in html.find_all('div', {'class':'booking'}):\n",
    "    # match all digits\n",
    "    match = re.search('\\d+', booking.text)\n",
    "    \n",
    "    if match:\n",
    "        # append if found\n",
    "        r_bookings_num.append(int(match.group()))\n",
    "    else:\n",
    "        # otherwise 0\n",
    "        r_bookings_num.append(0)\n",
    "        \n",
    "r_bookings_num[0:15]"
   ]
  },
  {
   "cell_type": "markdown",
   "metadata": {},
   "source": [
    "### 13. Can we get all of the items we want from the page in a single `find_all`?\n",
    "\n",
    "To be most efficient, we want to only do a single loop for each entry on the page. That means we want to find what element all of other other elements (name, location, price, bookings) is housed within. Where on the page is each entry located?"
   ]
  },
  {
   "cell_type": "code",
   "execution_count": 31,
   "metadata": {
    "ExecuteTime": {
     "end_time": "2019-10-11T15:04:21.567840Z",
     "start_time": "2019-10-11T15:04:21.517955Z"
    }
   },
   "outputs": [],
   "source": [
    "# print out all entries\n",
    "entries = html.find_all('div', {'class':'result content-section-list-row cf with-times'})"
   ]
  },
  {
   "cell_type": "markdown",
   "metadata": {},
   "source": [
    "### 14. Does every single entry have each element we want?"
   ]
  },
  {
   "cell_type": "code",
   "execution_count": 32,
   "metadata": {
    "ExecuteTime": {
     "end_time": "2019-10-11T15:04:37.441277Z",
     "start_time": "2019-10-11T15:04:37.439127Z"
    }
   },
   "outputs": [],
   "source": [
    "# I did this previously. I know for a fact that not every element has a \n",
    "# number of recent bookings. That's probably exactly why OpenTable houses \n",
    "# this in JavaScript: they want to continously update the number of bookings \n",
    "# with the most relevant number of values."
   ]
  },
  {
   "cell_type": "code",
   "execution_count": 33,
   "metadata": {
    "ExecuteTime": {
     "end_time": "2019-10-11T15:04:41.348435Z",
     "start_time": "2019-10-11T15:04:41.279847Z"
    }
   },
   "outputs": [
    {
     "name": "stdout",
     "output_type": "stream",
     "text": [
      "<div class=\"booking\"><span class=\"tadpole\"></span>Booked 24 times today</div>\n",
      "<div class=\"booking\"><span class=\"tadpole\"></span>Booked 511 times today</div>\n",
      "<div class=\"booking\"><span class=\"tadpole\"></span>Booked 205 times today</div>\n",
      "<div class=\"booking\"><span class=\"tadpole\"></span>Booked 193 times today</div>\n",
      "<div class=\"booking\"><span class=\"tadpole\"></span>Booked 22 times today</div>\n",
      "<div class=\"booking\"><span class=\"tadpole\"></span>Booked 181 times today</div>\n",
      "<div class=\"booking\"><span class=\"tadpole\"></span>Booked 76 times today</div>\n",
      "<div class=\"booking\"><span class=\"tadpole\"></span>Booked 80 times today</div>\n",
      "<div class=\"booking\"><span class=\"tadpole\"></span>Booked 62 times today</div>\n",
      "<div class=\"booking\"><span class=\"tadpole\"></span>Booked 16 times today</div>\n",
      "<div class=\"booking\"><span class=\"tadpole\"></span>Booked 66 times today</div>\n",
      "<div class=\"booking\"><span class=\"tadpole\"></span>Booked 104 times today</div>\n",
      "<div class=\"booking\"><span class=\"tadpole\"></span>Booked 62 times today</div>\n",
      "<div class=\"booking\"><span class=\"tadpole\"></span>Booked 77 times today</div>\n",
      "<div class=\"booking\"><span class=\"tadpole\"></span>Booked 62 times today</div>\n",
      "<div class=\"booking\"><span class=\"tadpole\"></span>Booked 62 times today</div>\n",
      "<div class=\"booking\"><span class=\"tadpole\"></span>Booked 59 times today</div>\n",
      "<div class=\"booking\"><span class=\"tadpole\"></span>Booked 66 times today</div>\n",
      "<div class=\"booking\"><span class=\"tadpole\"></span>Booked 45 times today</div>\n",
      "<div class=\"booking\"><span class=\"tadpole\"></span>Booked 70 times today</div>\n",
      "<div class=\"booking\"><span class=\"tadpole\"></span>Booked 59 times today</div>\n",
      "<div class=\"booking\"><span class=\"tadpole\"></span>Booked 35 times today</div>\n",
      "<div class=\"booking\"><span class=\"tadpole\"></span>Booked 42 times today</div>\n",
      "<div class=\"booking\"><span class=\"tadpole\"></span>Booked 103 times today</div>\n",
      "<div class=\"booking\"><span class=\"tadpole\"></span>Booked 59 times today</div>\n",
      "<div class=\"booking\"><span class=\"tadpole\"></span>Booked 73 times today</div>\n",
      "<div class=\"booking\"><span class=\"tadpole\"></span>Booked 35 times today</div>\n",
      "<div class=\"booking\"><span class=\"tadpole\"></span>Booked 49 times today</div>\n",
      "<div class=\"booking\"><span class=\"tadpole\"></span>Booked 61 times today</div>\n",
      "<div class=\"booking\"><span class=\"tadpole\"></span>Booked 47 times today</div>\n",
      "<div class=\"booking\"><span class=\"tadpole\"></span>Booked 66 times today</div>\n",
      "<div class=\"booking\"><span class=\"tadpole\"></span>Booked 46 times today</div>\n",
      "<div class=\"booking\"><span class=\"tadpole\"></span>Booked 34 times today</div>\n",
      "<div class=\"booking\"><span class=\"tadpole\"></span>Booked 30 times today</div>\n",
      "<div class=\"booking\"><span class=\"tadpole\"></span>Booked 47 times today</div>\n",
      "<div class=\"booking\"><span class=\"tadpole\"></span>Booked 22 times today</div>\n",
      "<div class=\"booking\"><span class=\"tadpole\"></span>Booked 54 times today</div>\n",
      "<div class=\"booking\"><span class=\"tadpole\"></span>Booked 42 times today</div>\n",
      "<div class=\"booking\"><span class=\"tadpole\"></span>Booked 24 times today</div>\n",
      "<div class=\"booking\"><span class=\"tadpole\"></span>Booked 70 times today</div>\n",
      "<div class=\"booking\"><span class=\"tadpole\"></span>Booked 23 times today</div>\n",
      "<div class=\"booking\"><span class=\"tadpole\"></span>Booked 68 times today</div>\n",
      "<div class=\"booking\"><span class=\"tadpole\"></span>Booked 36 times today</div>\n",
      "<div class=\"booking\"><span class=\"tadpole\"></span>Booked 18 times today</div>\n",
      "<div class=\"booking\"><span class=\"tadpole\"></span>Booked 41 times today</div>\n",
      "<div class=\"booking\"><span class=\"tadpole\"></span>Booked 43 times today</div>\n",
      "<div class=\"booking\"><span class=\"tadpole\"></span>Booked 32 times today</div>\n",
      "<div class=\"booking\"><span class=\"tadpole\"></span>Booked 36 times today</div>\n",
      "<div class=\"booking\"><span class=\"tadpole\"></span>Booked 29 times today</div>\n",
      "<div class=\"booking\"><span class=\"tadpole\"></span>Booked 45 times today</div>\n"
     ]
    }
   ],
   "source": [
    "# what happens when a booking is not available?\n",
    "# print out some booking entries, using the identification code we wrote above\n",
    "for entry in html.find_all('div', {'class':'result content-section-list-row cf with-times'})[0:50]:\n",
    "    print(entry.find('div', {'class':'booking'}))"
   ]
  },
  {
   "cell_type": "markdown",
   "metadata": {},
   "source": [
    "### 15. Use python exceptions to handle cases when bookings aren't found.\n",
    "\n",
    "When a booking is not found, store `'ZERO'`."
   ]
  },
  {
   "cell_type": "code",
   "execution_count": 34,
   "metadata": {
    "ExecuteTime": {
     "end_time": "2019-10-11T15:04:47.160447Z",
     "start_time": "2019-10-11T15:04:47.085498Z"
    }
   },
   "outputs": [
    {
     "name": "stdout",
     "output_type": "stream",
     "text": [
      "0\n"
     ]
    }
   ],
   "source": [
    "# if we find the element we want, we print it. Otherwise, we print 'ZERO'\n",
    "entries = []\n",
    "\n",
    "for entry in html.find_all('div', {'class':'result content-section-list-row cf with-times'}):\n",
    "    try:\n",
    "        entries.append(entry.find('div', {'class':'booking'}).text)\n",
    "    except:\n",
    "        entries.append('ZERO')\n",
    "        \n",
    "print(entries.count('ZERO'))"
   ]
  },
  {
   "cell_type": "markdown",
   "metadata": {},
   "source": [
    "### 16. Putting it all together in a dataframe.\n",
    "\n",
    "**Loop through each entry. For each entry:**\n",
    "1. Grab the relevant information we want (name, location, price, bookings). \n",
    "2. Produce a dataframe with the columns \"name\",\"location\",\"price\",\"bookings\" that contains the 100 entries we would like."
   ]
  },
  {
   "cell_type": "code",
   "execution_count": 48,
   "metadata": {
    "ExecuteTime": {
     "end_time": "2019-10-11T15:13:50.988739Z",
     "start_time": "2019-10-11T15:13:50.983389Z"
    }
   },
   "outputs": [],
   "source": [
    "# I'm going to create my empty df first\n",
    "import pandas as pd\n",
    "\n",
    "dc_eats = pd.DataFrame(columns=[\"name\",\"cuisine\",\"location\",\"price\",\"bookings\"])"
   ]
  },
  {
   "cell_type": "code",
   "execution_count": 49,
   "metadata": {
    "ExecuteTime": {
     "end_time": "2019-10-11T15:13:52.561441Z",
     "start_time": "2019-10-11T15:13:52.203382Z"
    }
   },
   "outputs": [],
   "source": [
    "# loop through each entry\n",
    "for entry in html.find_all('div', {'class':'result content-section-list-row cf with-times'}):\n",
    "    # grab the name\n",
    "    name = entry.find('span', {'class': 'rest-row-name-text'}).text\n",
    "    # grab the cuisine\n",
    "    cuisine = entry.find('span', {'class': 'rest-row-meta--cuisine rest-row-meta-text'}).text\n",
    "    # grab the location\n",
    "    location = entry.find_all('span', {'class': 'rest-row-meta--cuisine rest-row-meta-text sfx1388addContent'})[1].text\n",
    "    # grab the price\n",
    "    price = entry.find('div', {'class': 'rest-row-pricing'}).find('i').text.count('$')\n",
    "    # try to find the number of bookings\n",
    "    try:\n",
    "        temp = entry.find('div', {'class':'booking'}).text\n",
    "        match = re.search('\\d+', temp)\n",
    "        if match:\n",
    "            bookings = match.group()\n",
    "    except:\n",
    "        bookings = 'NA'\n",
    "    \n",
    "    # add to df\n",
    "    dc_eats.loc[len(dc_eats)]=[name, cuisine, location, price, bookings]"
   ]
  },
  {
   "cell_type": "code",
   "execution_count": 50,
   "metadata": {
    "ExecuteTime": {
     "end_time": "2019-10-11T15:13:53.762410Z",
     "start_time": "2019-10-11T15:13:53.755108Z"
    }
   },
   "outputs": [
    {
     "data": {
      "text/html": [
       "<div>\n",
       "<style scoped>\n",
       "    .dataframe tbody tr th:only-of-type {\n",
       "        vertical-align: middle;\n",
       "    }\n",
       "\n",
       "    .dataframe tbody tr th {\n",
       "        vertical-align: top;\n",
       "    }\n",
       "\n",
       "    .dataframe thead th {\n",
       "        text-align: right;\n",
       "    }\n",
       "</style>\n",
       "<table border=\"1\" class=\"dataframe\">\n",
       "  <thead>\n",
       "    <tr style=\"text-align: right;\">\n",
       "      <th></th>\n",
       "      <th>name</th>\n",
       "      <th>cuisine</th>\n",
       "      <th>location</th>\n",
       "      <th>price</th>\n",
       "      <th>bookings</th>\n",
       "    </tr>\n",
       "  </thead>\n",
       "  <tbody>\n",
       "    <tr>\n",
       "      <td>0</td>\n",
       "      <td>Medium Rare - Cleveland Park</td>\n",
       "      <td>Steak</td>\n",
       "      <td>Cleveland Park</td>\n",
       "      <td>2</td>\n",
       "      <td>24</td>\n",
       "    </tr>\n",
       "    <tr>\n",
       "      <td>1</td>\n",
       "      <td>Founding Farmers - DC</td>\n",
       "      <td>American</td>\n",
       "      <td>Foggy Bottom</td>\n",
       "      <td>2</td>\n",
       "      <td>511</td>\n",
       "    </tr>\n",
       "    <tr>\n",
       "      <td>2</td>\n",
       "      <td>Farmers Fishers Bakers</td>\n",
       "      <td>American</td>\n",
       "      <td>Georgetown</td>\n",
       "      <td>2</td>\n",
       "      <td>205</td>\n",
       "    </tr>\n",
       "    <tr>\n",
       "      <td>3</td>\n",
       "      <td>The Hamilton</td>\n",
       "      <td>American</td>\n",
       "      <td>Downtown</td>\n",
       "      <td>2</td>\n",
       "      <td>193</td>\n",
       "    </tr>\n",
       "    <tr>\n",
       "      <td>4</td>\n",
       "      <td>The Riggsby</td>\n",
       "      <td>Continental</td>\n",
       "      <td>Dupont Circle</td>\n",
       "      <td>3</td>\n",
       "      <td>22</td>\n",
       "    </tr>\n",
       "  </tbody>\n",
       "</table>\n",
       "</div>"
      ],
      "text/plain": [
       "                           name      cuisine        location price bookings\n",
       "0  Medium Rare - Cleveland Park        Steak  Cleveland Park     2       24\n",
       "1         Founding Farmers - DC     American    Foggy Bottom     2      511\n",
       "2        Farmers Fishers Bakers     American      Georgetown     2      205\n",
       "3                  The Hamilton     American        Downtown     2      193\n",
       "4                   The Riggsby  Continental   Dupont Circle     3       22"
      ]
     },
     "execution_count": 50,
     "metadata": {},
     "output_type": "execute_result"
    }
   ],
   "source": [
    "# check out our work\n",
    "dc_eats.head()"
   ]
  },
  {
   "cell_type": "markdown",
   "metadata": {},
   "source": [
    "### 17. [Bonus] Sending keys over the driver.\n",
    "\n",
    "We can send keys to the page using the driver. Below is a demonstration of how to search the page using the Selenium driver."
   ]
  },
  {
   "cell_type": "code",
   "execution_count": 3,
   "metadata": {
    "ExecuteTime": {
     "end_time": "2019-10-11T15:49:23.269347Z",
     "start_time": "2019-10-11T15:49:23.267049Z"
    }
   },
   "outputs": [],
   "source": [
    "# we can send keys as well\n",
    "\n",
    "from selenium.webdriver.common.keys import Keys"
   ]
  },
  {
   "cell_type": "code",
   "execution_count": 4,
   "metadata": {
    "ExecuteTime": {
     "end_time": "2019-10-11T15:49:26.188179Z",
     "start_time": "2019-10-11T15:49:23.744381Z"
    }
   },
   "outputs": [],
   "source": [
    "# open the driver\n",
    "driver = webdriver.Chrome(executable_path=\"../chromedriver/chromedriver\")\n",
    "\n",
    "# visit Python\n",
    "driver.get(\"http://www.python.org\")\n",
    "\n",
    "# verify we're in the right place\n",
    "assert \"Python\" in driver.title"
   ]
  },
  {
   "cell_type": "code",
   "execution_count": 5,
   "metadata": {
    "ExecuteTime": {
     "end_time": "2019-10-11T15:49:26.359330Z",
     "start_time": "2019-10-11T15:49:26.199621Z"
    }
   },
   "outputs": [],
   "source": [
    "# find the search position\n",
    "elem = driver.find_element_by_name(\"q\")\n",
    "\n",
    "# clear it\n",
    "elem.clear()\n",
    "\n",
    "# type in pycon\n",
    "elem.send_keys(\"pycon\")"
   ]
  },
  {
   "cell_type": "code",
   "execution_count": 6,
   "metadata": {
    "ExecuteTime": {
     "end_time": "2019-10-11T15:49:33.256159Z",
     "start_time": "2019-10-11T15:49:32.506509Z"
    }
   },
   "outputs": [],
   "source": [
    "# send those keys\n",
    "elem.send_keys(Keys.RETURN)\n",
    "\n",
    "# no results\n",
    "assert \"No results found.\" not in driver.page_source"
   ]
  },
  {
   "cell_type": "code",
   "execution_count": 7,
   "metadata": {
    "ExecuteTime": {
     "end_time": "2019-10-11T15:49:40.918658Z",
     "start_time": "2019-10-11T15:49:40.778758Z"
    }
   },
   "outputs": [],
   "source": [
    "# close\n",
    "driver.close()"
   ]
  },
  {
   "cell_type": "code",
   "execution_count": 8,
   "metadata": {
    "ExecuteTime": {
     "end_time": "2019-10-11T15:49:45.735976Z",
     "start_time": "2019-10-11T15:49:41.730675Z"
    }
   },
   "outputs": [],
   "source": [
    "# all at once:\n",
    "driver = webdriver.Chrome(executable_path=\"../chromedriver/chromedriver\")\n",
    "driver.get(\"http://www.python.org\")\n",
    "assert \"Python\" in driver.title\n",
    "elem = driver.find_element_by_name(\"q\")\n",
    "elem.clear()\n",
    "elem.send_keys(\"pycon\")\n",
    "elem.send_keys(Keys.RETURN)\n",
    "assert \"No results found.\" not in driver.page_source\n",
    "driver.close()"
   ]
  },
  {
   "cell_type": "markdown",
   "metadata": {},
   "source": [
    "## Additional resources\n",
    "\n",
    "---\n",
    "\n",
    "The above example (and many others) are available in the Selenium docs: http://selenium-python.readthedocs.io/getting-started.html\n",
    "\n",
    "What is especially important is exploring functionality like locating elements: http://selenium-python.readthedocs.io/locating-elements.html#locating-elements\n",
    "\n",
    "FAQ:\n",
    "http://selenium-python.readthedocs.io/faq.html"
   ]
  }
 ],
 "metadata": {
  "kernelspec": {
   "display_name": "Python 3",
   "language": "python",
   "name": "python3"
  },
  "language_info": {
   "codemirror_mode": {
    "name": "ipython",
    "version": 3
   },
   "file_extension": ".py",
   "mimetype": "text/x-python",
   "name": "python",
   "nbconvert_exporter": "python",
   "pygments_lexer": "ipython3",
   "version": "3.7.4"
  },
  "toc": {
   "base_numbering": 1,
   "nav_menu": {},
   "number_sections": true,
   "sideBar": true,
   "skip_h1_title": false,
   "title_cell": "Table of Contents",
   "title_sidebar": "Contents",
   "toc_cell": false,
   "toc_position": {},
   "toc_section_display": true,
   "toc_window_display": false
  },
  "varInspector": {
   "cols": {
    "lenName": 16,
    "lenType": 16,
    "lenVar": 40
   },
   "kernels_config": {
    "python": {
     "delete_cmd_postfix": "",
     "delete_cmd_prefix": "del ",
     "library": "var_list.py",
     "varRefreshCmd": "print(var_dic_list())"
    },
    "r": {
     "delete_cmd_postfix": ") ",
     "delete_cmd_prefix": "rm(",
     "library": "var_list.r",
     "varRefreshCmd": "cat(var_dic_list()) "
    }
   },
   "types_to_exclude": [
    "module",
    "function",
    "builtin_function_or_method",
    "instance",
    "_Feature"
   ],
   "window_display": false
  }
 },
 "nbformat": 4,
 "nbformat_minor": 1
}
