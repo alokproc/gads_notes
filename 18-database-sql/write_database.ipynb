{
 "cells": [
  {
   "cell_type": "code",
   "execution_count": 1,
   "metadata": {
    "ExecuteTime": {
     "end_time": "2019-10-18T14:47:59.836396Z",
     "start_time": "2019-10-18T14:47:59.481184Z"
    }
   },
   "outputs": [],
   "source": [
    "import pandas as pd\n",
    "import sqlalchemy as sa"
   ]
  },
  {
   "cell_type": "code",
   "execution_count": 2,
   "metadata": {
    "ExecuteTime": {
     "end_time": "2019-10-18T14:47:59.840381Z",
     "start_time": "2019-10-18T14:47:59.838054Z"
    }
   },
   "outputs": [],
   "source": [
    "pd.set_option('display.max_columns', 99)"
   ]
  },
  {
   "cell_type": "code",
   "execution_count": 3,
   "metadata": {
    "ExecuteTime": {
     "end_time": "2019-10-18T14:48:00.136763Z",
     "start_time": "2019-10-18T14:47:59.842453Z"
    }
   },
   "outputs": [],
   "source": [
    "superstore = pd.read_csv('./data/superstore_dataset2011-2015.csv.zip', encoding = \"ISO-8859-1\")"
   ]
  },
  {
   "cell_type": "code",
   "execution_count": 4,
   "metadata": {
    "ExecuteTime": {
     "end_time": "2019-10-18T14:48:00.145943Z",
     "start_time": "2019-10-18T14:48:00.138448Z"
    }
   },
   "outputs": [
    {
     "data": {
      "text/plain": [
       "(51290, 24)"
      ]
     },
     "execution_count": 4,
     "metadata": {},
     "output_type": "execute_result"
    }
   ],
   "source": [
    "superstore.shape"
   ]
  },
  {
   "cell_type": "code",
   "execution_count": 5,
   "metadata": {
    "ExecuteTime": {
     "end_time": "2019-10-18T14:48:00.166160Z",
     "start_time": "2019-10-18T14:48:00.147144Z"
    }
   },
   "outputs": [
    {
     "data": {
      "text/html": [
       "<div>\n",
       "<style scoped>\n",
       "    .dataframe tbody tr th:only-of-type {\n",
       "        vertical-align: middle;\n",
       "    }\n",
       "\n",
       "    .dataframe tbody tr th {\n",
       "        vertical-align: top;\n",
       "    }\n",
       "\n",
       "    .dataframe thead th {\n",
       "        text-align: right;\n",
       "    }\n",
       "</style>\n",
       "<table border=\"1\" class=\"dataframe\">\n",
       "  <thead>\n",
       "    <tr style=\"text-align: right;\">\n",
       "      <th></th>\n",
       "      <th>Row ID</th>\n",
       "      <th>Order ID</th>\n",
       "      <th>Order Date</th>\n",
       "      <th>Ship Date</th>\n",
       "      <th>Ship Mode</th>\n",
       "      <th>Customer ID</th>\n",
       "      <th>Customer Name</th>\n",
       "      <th>Segment</th>\n",
       "      <th>City</th>\n",
       "      <th>State</th>\n",
       "      <th>Country</th>\n",
       "      <th>Postal Code</th>\n",
       "      <th>Market</th>\n",
       "      <th>Region</th>\n",
       "      <th>Product ID</th>\n",
       "      <th>Category</th>\n",
       "      <th>Sub-Category</th>\n",
       "      <th>Product Name</th>\n",
       "      <th>Sales</th>\n",
       "      <th>Quantity</th>\n",
       "      <th>Discount</th>\n",
       "      <th>Profit</th>\n",
       "      <th>Shipping Cost</th>\n",
       "      <th>Order Priority</th>\n",
       "    </tr>\n",
       "  </thead>\n",
       "  <tbody>\n",
       "    <tr>\n",
       "      <td>0</td>\n",
       "      <td>42433</td>\n",
       "      <td>AG-2011-2040</td>\n",
       "      <td>1/1/2011</td>\n",
       "      <td>6/1/2011</td>\n",
       "      <td>Standard Class</td>\n",
       "      <td>TB-11280</td>\n",
       "      <td>Toby Braunhardt</td>\n",
       "      <td>Consumer</td>\n",
       "      <td>Constantine</td>\n",
       "      <td>Constantine</td>\n",
       "      <td>Algeria</td>\n",
       "      <td>NaN</td>\n",
       "      <td>Africa</td>\n",
       "      <td>Africa</td>\n",
       "      <td>OFF-TEN-10000025</td>\n",
       "      <td>Office Supplies</td>\n",
       "      <td>Storage</td>\n",
       "      <td>Tenex Lockers, Blue</td>\n",
       "      <td>408.300</td>\n",
       "      <td>2</td>\n",
       "      <td>0.0</td>\n",
       "      <td>106.140</td>\n",
       "      <td>35.46</td>\n",
       "      <td>Medium</td>\n",
       "    </tr>\n",
       "    <tr>\n",
       "      <td>1</td>\n",
       "      <td>22253</td>\n",
       "      <td>IN-2011-47883</td>\n",
       "      <td>1/1/2011</td>\n",
       "      <td>8/1/2011</td>\n",
       "      <td>Standard Class</td>\n",
       "      <td>JH-15985</td>\n",
       "      <td>Joseph Holt</td>\n",
       "      <td>Consumer</td>\n",
       "      <td>Wagga Wagga</td>\n",
       "      <td>New South Wales</td>\n",
       "      <td>Australia</td>\n",
       "      <td>NaN</td>\n",
       "      <td>APAC</td>\n",
       "      <td>Oceania</td>\n",
       "      <td>OFF-SU-10000618</td>\n",
       "      <td>Office Supplies</td>\n",
       "      <td>Supplies</td>\n",
       "      <td>Acme Trimmer, High Speed</td>\n",
       "      <td>120.366</td>\n",
       "      <td>3</td>\n",
       "      <td>0.1</td>\n",
       "      <td>36.036</td>\n",
       "      <td>9.72</td>\n",
       "      <td>Medium</td>\n",
       "    </tr>\n",
       "    <tr>\n",
       "      <td>2</td>\n",
       "      <td>48883</td>\n",
       "      <td>HU-2011-1220</td>\n",
       "      <td>1/1/2011</td>\n",
       "      <td>5/1/2011</td>\n",
       "      <td>Second Class</td>\n",
       "      <td>AT-735</td>\n",
       "      <td>Annie Thurman</td>\n",
       "      <td>Consumer</td>\n",
       "      <td>Budapest</td>\n",
       "      <td>Budapest</td>\n",
       "      <td>Hungary</td>\n",
       "      <td>NaN</td>\n",
       "      <td>EMEA</td>\n",
       "      <td>EMEA</td>\n",
       "      <td>OFF-TEN-10001585</td>\n",
       "      <td>Office Supplies</td>\n",
       "      <td>Storage</td>\n",
       "      <td>Tenex Box, Single Width</td>\n",
       "      <td>66.120</td>\n",
       "      <td>4</td>\n",
       "      <td>0.0</td>\n",
       "      <td>29.640</td>\n",
       "      <td>8.17</td>\n",
       "      <td>High</td>\n",
       "    </tr>\n",
       "    <tr>\n",
       "      <td>3</td>\n",
       "      <td>11731</td>\n",
       "      <td>IT-2011-3647632</td>\n",
       "      <td>1/1/2011</td>\n",
       "      <td>5/1/2011</td>\n",
       "      <td>Second Class</td>\n",
       "      <td>EM-14140</td>\n",
       "      <td>Eugene Moren</td>\n",
       "      <td>Home Office</td>\n",
       "      <td>Stockholm</td>\n",
       "      <td>Stockholm</td>\n",
       "      <td>Sweden</td>\n",
       "      <td>NaN</td>\n",
       "      <td>EU</td>\n",
       "      <td>North</td>\n",
       "      <td>OFF-PA-10001492</td>\n",
       "      <td>Office Supplies</td>\n",
       "      <td>Paper</td>\n",
       "      <td>Enermax Note Cards, Premium</td>\n",
       "      <td>44.865</td>\n",
       "      <td>3</td>\n",
       "      <td>0.5</td>\n",
       "      <td>-26.055</td>\n",
       "      <td>4.82</td>\n",
       "      <td>High</td>\n",
       "    </tr>\n",
       "    <tr>\n",
       "      <td>4</td>\n",
       "      <td>22255</td>\n",
       "      <td>IN-2011-47883</td>\n",
       "      <td>1/1/2011</td>\n",
       "      <td>8/1/2011</td>\n",
       "      <td>Standard Class</td>\n",
       "      <td>JH-15985</td>\n",
       "      <td>Joseph Holt</td>\n",
       "      <td>Consumer</td>\n",
       "      <td>Wagga Wagga</td>\n",
       "      <td>New South Wales</td>\n",
       "      <td>Australia</td>\n",
       "      <td>NaN</td>\n",
       "      <td>APAC</td>\n",
       "      <td>Oceania</td>\n",
       "      <td>FUR-FU-10003447</td>\n",
       "      <td>Furniture</td>\n",
       "      <td>Furnishings</td>\n",
       "      <td>Eldon Light Bulb, Duo Pack</td>\n",
       "      <td>113.670</td>\n",
       "      <td>5</td>\n",
       "      <td>0.1</td>\n",
       "      <td>37.770</td>\n",
       "      <td>4.70</td>\n",
       "      <td>Medium</td>\n",
       "    </tr>\n",
       "  </tbody>\n",
       "</table>\n",
       "</div>"
      ],
      "text/plain": [
       "   Row ID         Order ID Order Date Ship Date       Ship Mode Customer ID  \\\n",
       "0   42433     AG-2011-2040   1/1/2011  6/1/2011  Standard Class    TB-11280   \n",
       "1   22253    IN-2011-47883   1/1/2011  8/1/2011  Standard Class    JH-15985   \n",
       "2   48883     HU-2011-1220   1/1/2011  5/1/2011    Second Class      AT-735   \n",
       "3   11731  IT-2011-3647632   1/1/2011  5/1/2011    Second Class    EM-14140   \n",
       "4   22255    IN-2011-47883   1/1/2011  8/1/2011  Standard Class    JH-15985   \n",
       "\n",
       "     Customer Name      Segment         City            State    Country  \\\n",
       "0  Toby Braunhardt     Consumer  Constantine      Constantine    Algeria   \n",
       "1      Joseph Holt     Consumer  Wagga Wagga  New South Wales  Australia   \n",
       "2    Annie Thurman     Consumer     Budapest         Budapest    Hungary   \n",
       "3     Eugene Moren  Home Office    Stockholm        Stockholm     Sweden   \n",
       "4      Joseph Holt     Consumer  Wagga Wagga  New South Wales  Australia   \n",
       "\n",
       "   Postal Code  Market   Region        Product ID         Category  \\\n",
       "0          NaN  Africa   Africa  OFF-TEN-10000025  Office Supplies   \n",
       "1          NaN    APAC  Oceania   OFF-SU-10000618  Office Supplies   \n",
       "2          NaN    EMEA     EMEA  OFF-TEN-10001585  Office Supplies   \n",
       "3          NaN      EU    North   OFF-PA-10001492  Office Supplies   \n",
       "4          NaN    APAC  Oceania   FUR-FU-10003447        Furniture   \n",
       "\n",
       "  Sub-Category                 Product Name    Sales  Quantity  Discount  \\\n",
       "0      Storage          Tenex Lockers, Blue  408.300         2       0.0   \n",
       "1     Supplies     Acme Trimmer, High Speed  120.366         3       0.1   \n",
       "2      Storage      Tenex Box, Single Width   66.120         4       0.0   \n",
       "3        Paper  Enermax Note Cards, Premium   44.865         3       0.5   \n",
       "4  Furnishings   Eldon Light Bulb, Duo Pack  113.670         5       0.1   \n",
       "\n",
       "    Profit  Shipping Cost Order Priority  \n",
       "0  106.140          35.46         Medium  \n",
       "1   36.036           9.72         Medium  \n",
       "2   29.640           8.17           High  \n",
       "3  -26.055           4.82           High  \n",
       "4   37.770           4.70         Medium  "
      ]
     },
     "execution_count": 5,
     "metadata": {},
     "output_type": "execute_result"
    }
   ],
   "source": [
    "superstore.head()"
   ]
  },
  {
   "cell_type": "code",
   "execution_count": 6,
   "metadata": {
    "ExecuteTime": {
     "end_time": "2019-10-18T14:48:00.170843Z",
     "start_time": "2019-10-18T14:48:00.167703Z"
    }
   },
   "outputs": [],
   "source": [
    "superstore.columns = superstore.columns.str.replace(' ', '_').str.replace('-', '_').str.lower()"
   ]
  },
  {
   "cell_type": "code",
   "execution_count": 7,
   "metadata": {
    "ExecuteTime": {
     "end_time": "2019-10-18T14:48:00.205286Z",
     "start_time": "2019-10-18T14:48:00.172363Z"
    }
   },
   "outputs": [
    {
     "data": {
      "text/plain": [
       "row_id                0\n",
       "order_id              0\n",
       "order_date            0\n",
       "ship_date             0\n",
       "ship_mode             0\n",
       "customer_id           0\n",
       "customer_name         0\n",
       "segment               0\n",
       "city                  0\n",
       "state                 0\n",
       "country               0\n",
       "postal_code       41296\n",
       "market                0\n",
       "region                0\n",
       "product_id            0\n",
       "category              0\n",
       "sub_category          0\n",
       "product_name          0\n",
       "sales                 0\n",
       "quantity              0\n",
       "discount              0\n",
       "profit                0\n",
       "shipping_cost         0\n",
       "order_priority        0\n",
       "dtype: int64"
      ]
     },
     "execution_count": 7,
     "metadata": {},
     "output_type": "execute_result"
    }
   ],
   "source": [
    "superstore.isna().sum()"
   ]
  },
  {
   "cell_type": "code",
   "execution_count": 8,
   "metadata": {
    "ExecuteTime": {
     "end_time": "2019-10-18T14:48:00.212641Z",
     "start_time": "2019-10-18T14:48:00.207934Z"
    }
   },
   "outputs": [
    {
     "data": {
      "text/plain": [
       "row_id              int64\n",
       "order_id           object\n",
       "order_date         object\n",
       "ship_date          object\n",
       "ship_mode          object\n",
       "customer_id        object\n",
       "customer_name      object\n",
       "segment            object\n",
       "city               object\n",
       "state              object\n",
       "country            object\n",
       "postal_code       float64\n",
       "market             object\n",
       "region             object\n",
       "product_id         object\n",
       "category           object\n",
       "sub_category       object\n",
       "product_name       object\n",
       "sales             float64\n",
       "quantity            int64\n",
       "discount          float64\n",
       "profit            float64\n",
       "shipping_cost     float64\n",
       "order_priority     object\n",
       "dtype: object"
      ]
     },
     "execution_count": 8,
     "metadata": {},
     "output_type": "execute_result"
    }
   ],
   "source": [
    "superstore.dtypes"
   ]
  },
  {
   "cell_type": "code",
   "execution_count": 9,
   "metadata": {
    "ExecuteTime": {
     "end_time": "2019-10-18T14:48:00.226425Z",
     "start_time": "2019-10-18T14:48:00.214430Z"
    }
   },
   "outputs": [],
   "source": [
    "superstore.drop('postal_code', axis=1, inplace=True)"
   ]
  },
  {
   "cell_type": "code",
   "execution_count": 10,
   "metadata": {
    "ExecuteTime": {
     "end_time": "2019-10-18T14:48:00.235450Z",
     "start_time": "2019-10-18T14:48:00.228085Z"
    }
   },
   "outputs": [],
   "source": [
    "db_uri = \"sqlite:///data/superstore.sqlite\"\n",
    "engine = sa.create_engine(db_uri)"
   ]
  },
  {
   "cell_type": "code",
   "execution_count": 11,
   "metadata": {
    "ExecuteTime": {
     "end_time": "2019-10-18T14:48:00.244149Z",
     "start_time": "2019-10-18T14:48:00.237208Z"
    }
   },
   "outputs": [
    {
     "data": {
      "text/plain": [
       "<sqlalchemy.engine.result.ResultProxy at 0x1173f9350>"
      ]
     },
     "execution_count": 11,
     "metadata": {},
     "output_type": "execute_result"
    }
   ],
   "source": [
    "# create table\n",
    "engine.execute('''\n",
    "    CREATE TABLE \"superstore\" (\n",
    "    row_id INTEGER NOT NULL,\n",
    "    order_id TEXT NOT NULL,\n",
    "    order_date TEXT,\n",
    "    ship_date TEXT,\n",
    "    ship_mode TEXT,\n",
    "    customer_id TEXT,\n",
    "    customer_name TEXT,\n",
    "    segment TEXT,\n",
    "    city TEXT,\n",
    "    state TEXT,\n",
    "    country TEXT,\n",
    "    market TEXT,\n",
    "    region TEXT,\n",
    "    product_id TEXT,\n",
    "    category TEXT,\n",
    "    sub_category TEXT,\n",
    "    product_name TEXT,\n",
    "    sales REAL,\n",
    "    quantity INTEGER,\n",
    "    discount REAL,\n",
    "    profit REAL,\n",
    "    shipping_cost REAL,\n",
    "    order_priority TEXT\n",
    "    )\n",
    "''')\n",
    "    "
   ]
  },
  {
   "cell_type": "code",
   "execution_count": 12,
   "metadata": {
    "ExecuteTime": {
     "end_time": "2019-10-18T14:48:03.293977Z",
     "start_time": "2019-10-18T14:48:03.288002Z"
    }
   },
   "outputs": [
    {
     "data": {
      "text/plain": [
       "<sqlalchemy.engine.result.ResultProxy at 0x1168ce310>"
      ]
     },
     "execution_count": 12,
     "metadata": {},
     "output_type": "execute_result"
    }
   ],
   "source": [
    "engine.execute('''\n",
    "    INSERT INTO \"superstore\"\n",
    "    (row_id, order_id, order_date, ship_date, ship_mode, customer_id, customer_name, segment, city,\n",
    "     state, country, market, region, product_id, category, sub_category, product_name,\n",
    "     sales, quantity, discount, profit, shipping_cost, order_priority)\n",
    "    VALUES ({row_id}, \"{order_id}\", \"{order_date}\", \"{ship_date}\", \"{ship_mode}\", \n",
    "    \"{customer_id}\", \"{customer_name}\", \"{segment}\", \"{city}\",\n",
    "     \"{state}\", \"{country}\", \"{market}\", \"{region}\", \"{product_id}\", \n",
    "     \"{category}\", \"{sub_category}\", \"{product_name}\",\n",
    "     {sales}, {quantity}, {discount}, {profit}, {shipping_cost}, \"{order_priority}\")\n",
    "\n",
    "'''.format(**superstore.iloc[0].to_dict()))"
   ]
  },
  {
   "cell_type": "code",
   "execution_count": 13,
   "metadata": {
    "ExecuteTime": {
     "end_time": "2019-10-18T14:48:29.015800Z",
     "start_time": "2019-10-18T14:48:28.995739Z"
    }
   },
   "outputs": [],
   "source": [
    "superstore_0 = pd.read_sql_table('superstore', engine)"
   ]
  },
  {
   "cell_type": "code",
   "execution_count": 14,
   "metadata": {
    "ExecuteTime": {
     "end_time": "2019-10-18T14:48:33.771067Z",
     "start_time": "2019-10-18T14:48:33.754287Z"
    }
   },
   "outputs": [
    {
     "data": {
      "text/html": [
       "<div>\n",
       "<style scoped>\n",
       "    .dataframe tbody tr th:only-of-type {\n",
       "        vertical-align: middle;\n",
       "    }\n",
       "\n",
       "    .dataframe tbody tr th {\n",
       "        vertical-align: top;\n",
       "    }\n",
       "\n",
       "    .dataframe thead th {\n",
       "        text-align: right;\n",
       "    }\n",
       "</style>\n",
       "<table border=\"1\" class=\"dataframe\">\n",
       "  <thead>\n",
       "    <tr style=\"text-align: right;\">\n",
       "      <th></th>\n",
       "      <th>row_id</th>\n",
       "      <th>order_id</th>\n",
       "      <th>order_date</th>\n",
       "      <th>ship_date</th>\n",
       "      <th>ship_mode</th>\n",
       "      <th>customer_id</th>\n",
       "      <th>customer_name</th>\n",
       "      <th>segment</th>\n",
       "      <th>city</th>\n",
       "      <th>state</th>\n",
       "      <th>country</th>\n",
       "      <th>market</th>\n",
       "      <th>region</th>\n",
       "      <th>product_id</th>\n",
       "      <th>category</th>\n",
       "      <th>sub_category</th>\n",
       "      <th>product_name</th>\n",
       "      <th>sales</th>\n",
       "      <th>quantity</th>\n",
       "      <th>discount</th>\n",
       "      <th>profit</th>\n",
       "      <th>shipping_cost</th>\n",
       "      <th>order_priority</th>\n",
       "    </tr>\n",
       "  </thead>\n",
       "  <tbody>\n",
       "    <tr>\n",
       "      <td>0</td>\n",
       "      <td>42433</td>\n",
       "      <td>AG-2011-2040</td>\n",
       "      <td>1/1/2011</td>\n",
       "      <td>6/1/2011</td>\n",
       "      <td>Standard Class</td>\n",
       "      <td>TB-11280</td>\n",
       "      <td>Toby Braunhardt</td>\n",
       "      <td>Consumer</td>\n",
       "      <td>Constantine</td>\n",
       "      <td>Constantine</td>\n",
       "      <td>Algeria</td>\n",
       "      <td>Africa</td>\n",
       "      <td>Africa</td>\n",
       "      <td>OFF-TEN-10000025</td>\n",
       "      <td>Office Supplies</td>\n",
       "      <td>Storage</td>\n",
       "      <td>Tenex Lockers, Blue</td>\n",
       "      <td>408.3</td>\n",
       "      <td>2</td>\n",
       "      <td>0.0</td>\n",
       "      <td>106.14</td>\n",
       "      <td>35.46</td>\n",
       "      <td>Medium</td>\n",
       "    </tr>\n",
       "  </tbody>\n",
       "</table>\n",
       "</div>"
      ],
      "text/plain": [
       "   row_id      order_id order_date ship_date       ship_mode customer_id  \\\n",
       "0   42433  AG-2011-2040   1/1/2011  6/1/2011  Standard Class    TB-11280   \n",
       "\n",
       "     customer_name   segment         city        state  country  market  \\\n",
       "0  Toby Braunhardt  Consumer  Constantine  Constantine  Algeria  Africa   \n",
       "\n",
       "   region        product_id         category sub_category  \\\n",
       "0  Africa  OFF-TEN-10000025  Office Supplies      Storage   \n",
       "\n",
       "          product_name  sales  quantity  discount  profit  shipping_cost  \\\n",
       "0  Tenex Lockers, Blue  408.3         2       0.0  106.14          35.46   \n",
       "\n",
       "  order_priority  \n",
       "0         Medium  "
      ]
     },
     "execution_count": 14,
     "metadata": {},
     "output_type": "execute_result"
    }
   ],
   "source": [
    "superstore_0"
   ]
  },
  {
   "cell_type": "code",
   "execution_count": 19,
   "metadata": {
    "ExecuteTime": {
     "end_time": "2019-10-18T14:54:40.459177Z",
     "start_time": "2019-10-18T14:54:40.452861Z"
    }
   },
   "outputs": [
    {
     "data": {
      "text/plain": [
       "<sqlalchemy.engine.result.ResultProxy at 0x11bb21350>"
      ]
     },
     "execution_count": 19,
     "metadata": {},
     "output_type": "execute_result"
    }
   ],
   "source": [
    "engine.execute('drop table \"superstore\"')"
   ]
  },
  {
   "cell_type": "code",
   "execution_count": 20,
   "metadata": {
    "ExecuteTime": {
     "end_time": "2019-10-18T14:54:41.240545Z",
     "start_time": "2019-10-18T14:54:41.234606Z"
    }
   },
   "outputs": [
    {
     "data": {
      "text/plain": [
       "<sqlalchemy.engine.result.ResultProxy at 0x11bb30590>"
      ]
     },
     "execution_count": 20,
     "metadata": {},
     "output_type": "execute_result"
    }
   ],
   "source": [
    "# create table\n",
    "engine.execute('''\n",
    "    CREATE TABLE \"superstore\" (\n",
    "    row_id INTEGER NOT NULL,\n",
    "    order_id TEXT NOT NULL,\n",
    "    order_date TEXT,\n",
    "    ship_date TEXT,\n",
    "    ship_mode TEXT,\n",
    "    customer_id TEXT,\n",
    "    customer_name TEXT,\n",
    "    segment TEXT,\n",
    "    city TEXT,\n",
    "    state TEXT,\n",
    "    country TEXT,\n",
    "    market TEXT,\n",
    "    region TEXT,\n",
    "    product_id TEXT,\n",
    "    category TEXT,\n",
    "    sub_category TEXT,\n",
    "    product_name TEXT,\n",
    "    sales REAL,\n",
    "    quantity INTEGER,\n",
    "    discount REAL,\n",
    "    profit REAL,\n",
    "    shipping_cost REAL,\n",
    "    order_priority TEXT\n",
    "    )\n",
    "''')\n",
    "    "
   ]
  },
  {
   "cell_type": "code",
   "execution_count": 21,
   "metadata": {
    "ExecuteTime": {
     "end_time": "2019-10-18T14:56:51.649555Z",
     "start_time": "2019-10-18T14:55:21.667440Z"
    }
   },
   "outputs": [],
   "source": [
    "table = sa.Table(\"superstore\", sa.MetaData(engine), autoload=True, autoload_with=engine)\n",
    "for _, row in superstore.iterrows():\n",
    "    with engine.begin() as connection:\n",
    "        row_dict = row.to_dict()\n",
    "        connection.execute(table.insert().values(row_dict))"
   ]
  }
 ],
 "metadata": {
  "kernelspec": {
   "display_name": "Python 3",
   "language": "python",
   "name": "python3"
  },
  "language_info": {
   "codemirror_mode": {
    "name": "ipython",
    "version": 3
   },
   "file_extension": ".py",
   "mimetype": "text/x-python",
   "name": "python",
   "nbconvert_exporter": "python",
   "pygments_lexer": "ipython3",
   "version": "3.7.4"
  },
  "toc": {
   "base_numbering": 1,
   "nav_menu": {},
   "number_sections": true,
   "sideBar": true,
   "skip_h1_title": false,
   "title_cell": "Table of Contents",
   "title_sidebar": "Contents",
   "toc_cell": false,
   "toc_position": {},
   "toc_section_display": true,
   "toc_window_display": false
  },
  "varInspector": {
   "cols": {
    "lenName": 16,
    "lenType": 16,
    "lenVar": 40
   },
   "kernels_config": {
    "python": {
     "delete_cmd_postfix": "",
     "delete_cmd_prefix": "del ",
     "library": "var_list.py",
     "varRefreshCmd": "print(var_dic_list())"
    },
    "r": {
     "delete_cmd_postfix": ") ",
     "delete_cmd_prefix": "rm(",
     "library": "var_list.r",
     "varRefreshCmd": "cat(var_dic_list()) "
    }
   },
   "types_to_exclude": [
    "module",
    "function",
    "builtin_function_or_method",
    "instance",
    "_Feature"
   ],
   "window_display": false
  }
 },
 "nbformat": 4,
 "nbformat_minor": 2
}
